{
 "cells": [
  {
   "cell_type": "markdown",
   "metadata": {},
   "source": [
    "# Исследование объявлений о продаже квартир\n",
    "\n",
    "В вашем распоряжении данные сервиса Яндекс.Недвижимость — архив объявлений о продаже квартир в Санкт-Петербурге и соседних населённых пунктов за несколько лет. Нужно научиться определять рыночную стоимость объектов недвижимости. Ваша задача — установить параметры. Это позволит построить автоматизированную систему: она отследит аномалии и мошенническую деятельность. \n",
    "\n",
    "По каждой квартире на продажу доступны два вида данных. Первые вписаны пользователем, вторые — получены автоматически на основе картографических данных. Например, расстояние до центра, аэропорта, ближайшего парка и водоёма.\n",
    "\n",
    "Для работы у нас имеются следующие данные:\n",
    "\n",
    "- airports_nearest — расстояние до ближайшего аэропорта в метрах (м)\n",
    "- balcony — число балконов\n",
    "- ceiling_height — высота потолков (м)\n",
    "- cityCenters_nearest — расстояние до центра города (м)\n",
    "- days_exposition — сколько дней было размещено объявление (от публикации до снятия)\n",
    "- first_day_exposition — дата публикации\n",
    "- floor — этаж\n",
    "- floors_total — всего этажей в доме\n",
    "- is_apartment — апартаменты (булев тип)\n",
    "- kitchen_area — площадь кухни в квадратных метрах (м²)\n",
    "- last_price — цена на момент снятия с публикации\n",
    "- living_area — жилая площадь в квадратных метрах(м²)\n",
    "- locality_name — название населённого пункта\n",
    "- open_plan — свободная планировка (булев тип)\n",
    "- parks_around3000 — число парков в радиусе 3 км\n",
    "- parks_nearest — расстояние до ближайшего парка (м)\n",
    "- ponds_around3000 — число водоёмов в радиусе 3 км\n",
    "- ponds_nearest — расстояние до ближайшего водоёма (м)\n",
    "- rooms — число комнат\n",
    "- studio — квартира-студия (булев тип)\n",
    "- total_area — площадь квартиры в квадратных метрах (м²)\n",
    "- total_images — число фотографий квартиры в объявлении\n",
    "\n",
    "## Шаг 1. Откройте файл с данными и изучите общую информацию\n",
    "\n",
    "Импортируем необходимые библиотеки, задаем формат отображения дробных чисел."
   ]
  },
  {
   "cell_type": "code",
   "execution_count": 136,
   "metadata": {},
   "outputs": [],
   "source": [
    "import pandas as pd\n",
    "import matplotlib.pyplot as plt\n",
    "import warnings\n",
    "warnings.filterwarnings('ignore')"
   ]
  },
  {
   "cell_type": "markdown",
   "metadata": {},
   "source": [
    "Начнем с получения самой общей информации о файле и данных, которые оказались в нашем распоряжении."
   ]
  },
  {
   "cell_type": "code",
   "execution_count": 2,
   "metadata": {},
   "outputs": [
    {
     "name": "stdout",
     "output_type": "stream",
     "text": [
      "<class 'pandas.core.frame.DataFrame'>\n",
      "RangeIndex: 23699 entries, 0 to 23698\n",
      "Data columns (total 22 columns):\n",
      " #   Column                Non-Null Count  Dtype  \n",
      "---  ------                --------------  -----  \n",
      " 0   total_images          23699 non-null  int64  \n",
      " 1   last_price            23699 non-null  float64\n",
      " 2   total_area            23699 non-null  float64\n",
      " 3   first_day_exposition  23699 non-null  object \n",
      " 4   rooms                 23699 non-null  int64  \n",
      " 5   ceiling_height        14504 non-null  float64\n",
      " 6   floors_total          23613 non-null  float64\n",
      " 7   living_area           21796 non-null  float64\n",
      " 8   floor                 23699 non-null  int64  \n",
      " 9   is_apartment          2775 non-null   object \n",
      " 10  studio                23699 non-null  bool   \n",
      " 11  open_plan             23699 non-null  bool   \n",
      " 12  kitchen_area          21421 non-null  float64\n",
      " 13  balcony               12180 non-null  float64\n",
      " 14  locality_name         23650 non-null  object \n",
      " 15  airports_nearest      18157 non-null  float64\n",
      " 16  cityCenters_nearest   18180 non-null  float64\n",
      " 17  parks_around3000      18181 non-null  float64\n",
      " 18  parks_nearest         8079 non-null   float64\n",
      " 19  ponds_around3000      18181 non-null  float64\n",
      " 20  ponds_nearest         9110 non-null   float64\n",
      " 21  days_exposition       20518 non-null  float64\n",
      "dtypes: bool(2), float64(14), int64(3), object(3)\n",
      "memory usage: 3.7+ MB\n"
     ]
    }
   ],
   "source": [
    "estate = pd.read_csv('real_estate_data.csv', sep='\\t', decimal='.')\n",
    "estate.info()"
   ]
  },
  {
   "cell_type": "markdown",
   "metadata": {},
   "source": [
    "Файл представляет собой таблицу, в которой содержатся 22 столбца и 23699 строк. Значения разделены при помощи группы символов \"\\t\". Уже сейчас можно сказать, что в таблице содержится большое количество пропусков, а тип данных в некоторых столбцах не является оптимальным. Например, число этажей не может быть дробным числом, здесь скорее подошел бы целочисленный тип данных.\n",
    "\n",
    "Удостоверимся, что названия столбцов из csv-файла соответствуют заявленным в задании. Так как количество столбцов, а их 22, достаточно велико, автоматизируем проверку с помощью комбинации методов columns (который возвращает в виде списка названиях всех столбцов реальной таблицы) и isin(), который поможет удостовериться в том, что элементы списка столбцов, полученного описанным ранее методом, содержатся в списке столбцов из задания, составленном вручную."
   ]
  },
  {
   "cell_type": "code",
   "execution_count": 3,
   "metadata": {},
   "outputs": [
    {
     "data": {
      "text/plain": [
       "array([ True,  True,  True,  True,  True,  True,  True,  True,  True,\n",
       "        True,  True,  True,  True,  True,  True,  True,  True,  True,\n",
       "        True,  True,  True,  True])"
      ]
     },
     "execution_count": 3,
     "metadata": {},
     "output_type": "execute_result"
    }
   ],
   "source": [
    "column_list = ['airports_nearest', 'balcony', 'ceiling_height', 'cityCenters_nearest', 'days_exposition',\n",
    "               'first_day_exposition', 'floor', 'floors_total', 'is_apartment', 'kitchen_area', 'last_price',\n",
    "               'living_area', 'locality_name', 'open_plan', 'parks_around3000', 'parks_nearest', 'ponds_around3000',\n",
    "               'ponds_nearest', 'rooms', 'studio', 'total_area', 'total_images']\n",
    "check = estate.columns.isin(column_list)\n",
    "check"
   ]
  },
  {
   "cell_type": "markdown",
   "metadata": {},
   "source": [
    "В получившемся булевом массиве все элементы имеют значение \"True\". Значит, расхождений между названия столбцов из задания и из таблицы нет. Взглянем на несколько строк из таблицы."
   ]
  },
  {
   "cell_type": "code",
   "execution_count": 4,
   "metadata": {},
   "outputs": [
    {
     "data": {
      "text/html": [
       "<div>\n",
       "<style scoped>\n",
       "    .dataframe tbody tr th:only-of-type {\n",
       "        vertical-align: middle;\n",
       "    }\n",
       "\n",
       "    .dataframe tbody tr th {\n",
       "        vertical-align: top;\n",
       "    }\n",
       "\n",
       "    .dataframe thead th {\n",
       "        text-align: right;\n",
       "    }\n",
       "</style>\n",
       "<table border=\"1\" class=\"dataframe\">\n",
       "  <thead>\n",
       "    <tr style=\"text-align: right;\">\n",
       "      <th></th>\n",
       "      <th>total_images</th>\n",
       "      <th>last_price</th>\n",
       "      <th>total_area</th>\n",
       "      <th>first_day_exposition</th>\n",
       "      <th>rooms</th>\n",
       "      <th>ceiling_height</th>\n",
       "      <th>floors_total</th>\n",
       "      <th>living_area</th>\n",
       "      <th>floor</th>\n",
       "      <th>is_apartment</th>\n",
       "      <th>...</th>\n",
       "      <th>kitchen_area</th>\n",
       "      <th>balcony</th>\n",
       "      <th>locality_name</th>\n",
       "      <th>airports_nearest</th>\n",
       "      <th>cityCenters_nearest</th>\n",
       "      <th>parks_around3000</th>\n",
       "      <th>parks_nearest</th>\n",
       "      <th>ponds_around3000</th>\n",
       "      <th>ponds_nearest</th>\n",
       "      <th>days_exposition</th>\n",
       "    </tr>\n",
       "  </thead>\n",
       "  <tbody>\n",
       "    <tr>\n",
       "      <th>0</th>\n",
       "      <td>20</td>\n",
       "      <td>13000000.0</td>\n",
       "      <td>108.0</td>\n",
       "      <td>2019-03-07T00:00:00</td>\n",
       "      <td>3</td>\n",
       "      <td>2.70</td>\n",
       "      <td>16.0</td>\n",
       "      <td>51.0</td>\n",
       "      <td>8</td>\n",
       "      <td>NaN</td>\n",
       "      <td>...</td>\n",
       "      <td>25.0</td>\n",
       "      <td>NaN</td>\n",
       "      <td>Санкт-Петербург</td>\n",
       "      <td>18863.0</td>\n",
       "      <td>16028.0</td>\n",
       "      <td>1.0</td>\n",
       "      <td>482.0</td>\n",
       "      <td>2.0</td>\n",
       "      <td>755.0</td>\n",
       "      <td>NaN</td>\n",
       "    </tr>\n",
       "    <tr>\n",
       "      <th>1</th>\n",
       "      <td>7</td>\n",
       "      <td>3350000.0</td>\n",
       "      <td>40.4</td>\n",
       "      <td>2018-12-04T00:00:00</td>\n",
       "      <td>1</td>\n",
       "      <td>NaN</td>\n",
       "      <td>11.0</td>\n",
       "      <td>18.6</td>\n",
       "      <td>1</td>\n",
       "      <td>NaN</td>\n",
       "      <td>...</td>\n",
       "      <td>11.0</td>\n",
       "      <td>2.0</td>\n",
       "      <td>посёлок Шушары</td>\n",
       "      <td>12817.0</td>\n",
       "      <td>18603.0</td>\n",
       "      <td>0.0</td>\n",
       "      <td>NaN</td>\n",
       "      <td>0.0</td>\n",
       "      <td>NaN</td>\n",
       "      <td>81.0</td>\n",
       "    </tr>\n",
       "    <tr>\n",
       "      <th>2</th>\n",
       "      <td>10</td>\n",
       "      <td>5196000.0</td>\n",
       "      <td>56.0</td>\n",
       "      <td>2015-08-20T00:00:00</td>\n",
       "      <td>2</td>\n",
       "      <td>NaN</td>\n",
       "      <td>5.0</td>\n",
       "      <td>34.3</td>\n",
       "      <td>4</td>\n",
       "      <td>NaN</td>\n",
       "      <td>...</td>\n",
       "      <td>8.3</td>\n",
       "      <td>0.0</td>\n",
       "      <td>Санкт-Петербург</td>\n",
       "      <td>21741.0</td>\n",
       "      <td>13933.0</td>\n",
       "      <td>1.0</td>\n",
       "      <td>90.0</td>\n",
       "      <td>2.0</td>\n",
       "      <td>574.0</td>\n",
       "      <td>558.0</td>\n",
       "    </tr>\n",
       "    <tr>\n",
       "      <th>3</th>\n",
       "      <td>0</td>\n",
       "      <td>64900000.0</td>\n",
       "      <td>159.0</td>\n",
       "      <td>2015-07-24T00:00:00</td>\n",
       "      <td>3</td>\n",
       "      <td>NaN</td>\n",
       "      <td>14.0</td>\n",
       "      <td>NaN</td>\n",
       "      <td>9</td>\n",
       "      <td>NaN</td>\n",
       "      <td>...</td>\n",
       "      <td>NaN</td>\n",
       "      <td>0.0</td>\n",
       "      <td>Санкт-Петербург</td>\n",
       "      <td>28098.0</td>\n",
       "      <td>6800.0</td>\n",
       "      <td>2.0</td>\n",
       "      <td>84.0</td>\n",
       "      <td>3.0</td>\n",
       "      <td>234.0</td>\n",
       "      <td>424.0</td>\n",
       "    </tr>\n",
       "    <tr>\n",
       "      <th>4</th>\n",
       "      <td>2</td>\n",
       "      <td>10000000.0</td>\n",
       "      <td>100.0</td>\n",
       "      <td>2018-06-19T00:00:00</td>\n",
       "      <td>2</td>\n",
       "      <td>3.03</td>\n",
       "      <td>14.0</td>\n",
       "      <td>32.0</td>\n",
       "      <td>13</td>\n",
       "      <td>NaN</td>\n",
       "      <td>...</td>\n",
       "      <td>41.0</td>\n",
       "      <td>NaN</td>\n",
       "      <td>Санкт-Петербург</td>\n",
       "      <td>31856.0</td>\n",
       "      <td>8098.0</td>\n",
       "      <td>2.0</td>\n",
       "      <td>112.0</td>\n",
       "      <td>1.0</td>\n",
       "      <td>48.0</td>\n",
       "      <td>121.0</td>\n",
       "    </tr>\n",
       "  </tbody>\n",
       "</table>\n",
       "<p>5 rows × 22 columns</p>\n",
       "</div>"
      ],
      "text/plain": [
       "   total_images  last_price  total_area first_day_exposition  rooms  \\\n",
       "0            20  13000000.0       108.0  2019-03-07T00:00:00      3   \n",
       "1             7   3350000.0        40.4  2018-12-04T00:00:00      1   \n",
       "2            10   5196000.0        56.0  2015-08-20T00:00:00      2   \n",
       "3             0  64900000.0       159.0  2015-07-24T00:00:00      3   \n",
       "4             2  10000000.0       100.0  2018-06-19T00:00:00      2   \n",
       "\n",
       "   ceiling_height  floors_total  living_area  floor is_apartment  ...  \\\n",
       "0            2.70          16.0         51.0      8          NaN  ...   \n",
       "1             NaN          11.0         18.6      1          NaN  ...   \n",
       "2             NaN           5.0         34.3      4          NaN  ...   \n",
       "3             NaN          14.0          NaN      9          NaN  ...   \n",
       "4            3.03          14.0         32.0     13          NaN  ...   \n",
       "\n",
       "   kitchen_area  balcony    locality_name  airports_nearest  \\\n",
       "0          25.0      NaN  Санкт-Петербург           18863.0   \n",
       "1          11.0      2.0   посёлок Шушары           12817.0   \n",
       "2           8.3      0.0  Санкт-Петербург           21741.0   \n",
       "3           NaN      0.0  Санкт-Петербург           28098.0   \n",
       "4          41.0      NaN  Санкт-Петербург           31856.0   \n",
       "\n",
       "  cityCenters_nearest  parks_around3000  parks_nearest  ponds_around3000  \\\n",
       "0             16028.0               1.0          482.0               2.0   \n",
       "1             18603.0               0.0            NaN               0.0   \n",
       "2             13933.0               1.0           90.0               2.0   \n",
       "3              6800.0               2.0           84.0               3.0   \n",
       "4              8098.0               2.0          112.0               1.0   \n",
       "\n",
       "   ponds_nearest  days_exposition  \n",
       "0          755.0              NaN  \n",
       "1            NaN             81.0  \n",
       "2          574.0            558.0  \n",
       "3          234.0            424.0  \n",
       "4           48.0            121.0  \n",
       "\n",
       "[5 rows x 22 columns]"
      ]
     },
     "execution_count": 4,
     "metadata": {},
     "output_type": "execute_result"
    }
   ],
   "source": [
    "estate.head(5)"
   ]
  },
  {
   "cell_type": "markdown",
   "metadata": {},
   "source": [
    "### Вывод\n",
    "\n",
    "Данные экспортированы корректно, но в них содержатся пропуски, тип данных для некоторых столбцов выбран неверно. Логично предположить, что встречаются и другие ошибки/неточности, от которых необходимо будет избавиться на этапе предобработки данных.\n",
    "\n",
    "## Шаг 2. Предобработка данных\n",
    "\n",
    "В рамках этапа предобработки имеющихся данных по очереди проверим все столбцы на наличие пропусков, некорректных значений и прочих проблем.\n",
    "\n",
    "### Количество фотографий"
   ]
  },
  {
   "cell_type": "code",
   "execution_count": 5,
   "metadata": {},
   "outputs": [
    {
     "data": {
      "text/plain": [
       "count    23699.000000\n",
       "mean         9.858475\n",
       "std          5.682529\n",
       "min          0.000000\n",
       "25%          6.000000\n",
       "50%          9.000000\n",
       "75%         14.000000\n",
       "max         50.000000\n",
       "Name: total_images, dtype: float64"
      ]
     },
     "execution_count": 5,
     "metadata": {},
     "output_type": "execute_result"
    }
   ],
   "source": [
    "estate['total_images'].describe()"
   ]
  },
  {
   "cell_type": "markdown",
   "metadata": {},
   "source": [
    "В столбце 'total_images' содержится информация о количестве фотографий, прикрепленных к объявлению для каждого объекта недвижимости. Диапазон значений — от 0 до 50. Аномальных значений нет, тип данных указан верно (его берем из описания таблицы с помощью метода info()). Количество фотографий может быть только целым числом. Пропусков нет.\n",
    "\n",
    "### Последняя актуальная цена"
   ]
  },
  {
   "cell_type": "code",
   "execution_count": 6,
   "metadata": {},
   "outputs": [
    {
     "data": {
      "text/plain": [
       "count    2.369900e+04\n",
       "mean     6.541549e+06\n",
       "std      1.088701e+07\n",
       "min      1.219000e+04\n",
       "25%      3.400000e+06\n",
       "50%      4.650000e+06\n",
       "75%      6.800000e+06\n",
       "max      7.630000e+08\n",
       "Name: last_price, dtype: float64"
      ]
     },
     "execution_count": 6,
     "metadata": {},
     "output_type": "execute_result"
    }
   ],
   "source": [
    "estate['last_price'].describe()"
   ]
  },
  {
   "cell_type": "markdown",
   "metadata": {},
   "source": [
    "В столбце 'last_price' указана цена на момент снятия квартиры с продажи. Все строки заполнены, однако минимальное и максимальное значения сильно выбиваются из общего порядка цен. Следует проверить, не закралась ли в данные ошибка. Тип данных также подобран неоптимально. Переведем данные в целочисленный тип с помощью метода astype() и его параметра 'int'."
   ]
  },
  {
   "cell_type": "code",
   "execution_count": 7,
   "metadata": {},
   "outputs": [],
   "source": [
    "estate['last_price'] = estate['last_price'].astype('int')"
   ]
  },
  {
   "cell_type": "markdown",
   "metadata": {},
   "source": [
    "Взглянем на минимальные и максимальные значения в столбце. Сразу видно, что есть всего одна квартира с ценой менее 430 000 рублей и стоит она подозрительно мало — всего 12 190 рублей. А вот сверхдорогих квартир в таблице несколько, такие значения тоже настораживают."
   ]
  },
  {
   "cell_type": "code",
   "execution_count": 8,
   "metadata": {},
   "outputs": [
    {
     "data": {
      "text/plain": [
       "8793         12190\n",
       "17456       430000\n",
       "14911       430000\n",
       "16274       440000\n",
       "17676       450000\n",
       "           ...    \n",
       "15651    300000000\n",
       "1436     330000000\n",
       "14706    401300000\n",
       "19540    420000000\n",
       "12971    763000000\n",
       "Name: last_price, Length: 23699, dtype: int32"
      ]
     },
     "execution_count": 8,
     "metadata": {},
     "output_type": "execute_result"
    }
   ],
   "source": [
    "estate['last_price'].sort_values()"
   ]
  },
  {
   "cell_type": "markdown",
   "metadata": {},
   "source": [
    "Получим более подробные данные о квартире стоимостью 12 190 рублей. "
   ]
  },
  {
   "cell_type": "code",
   "execution_count": 9,
   "metadata": {},
   "outputs": [
    {
     "data": {
      "text/html": [
       "<div>\n",
       "<style scoped>\n",
       "    .dataframe tbody tr th:only-of-type {\n",
       "        vertical-align: middle;\n",
       "    }\n",
       "\n",
       "    .dataframe tbody tr th {\n",
       "        vertical-align: top;\n",
       "    }\n",
       "\n",
       "    .dataframe thead th {\n",
       "        text-align: right;\n",
       "    }\n",
       "</style>\n",
       "<table border=\"1\" class=\"dataframe\">\n",
       "  <thead>\n",
       "    <tr style=\"text-align: right;\">\n",
       "      <th></th>\n",
       "      <th>total_images</th>\n",
       "      <th>last_price</th>\n",
       "      <th>total_area</th>\n",
       "      <th>first_day_exposition</th>\n",
       "      <th>rooms</th>\n",
       "      <th>ceiling_height</th>\n",
       "      <th>floors_total</th>\n",
       "      <th>living_area</th>\n",
       "      <th>floor</th>\n",
       "      <th>is_apartment</th>\n",
       "      <th>...</th>\n",
       "      <th>kitchen_area</th>\n",
       "      <th>balcony</th>\n",
       "      <th>locality_name</th>\n",
       "      <th>airports_nearest</th>\n",
       "      <th>cityCenters_nearest</th>\n",
       "      <th>parks_around3000</th>\n",
       "      <th>parks_nearest</th>\n",
       "      <th>ponds_around3000</th>\n",
       "      <th>ponds_nearest</th>\n",
       "      <th>days_exposition</th>\n",
       "    </tr>\n",
       "  </thead>\n",
       "  <tbody>\n",
       "    <tr>\n",
       "      <th>8793</th>\n",
       "      <td>7</td>\n",
       "      <td>12190</td>\n",
       "      <td>109.0</td>\n",
       "      <td>2019-03-20T00:00:00</td>\n",
       "      <td>2</td>\n",
       "      <td>2.75</td>\n",
       "      <td>25.0</td>\n",
       "      <td>32.0</td>\n",
       "      <td>25</td>\n",
       "      <td>NaN</td>\n",
       "      <td>...</td>\n",
       "      <td>40.5</td>\n",
       "      <td>NaN</td>\n",
       "      <td>Санкт-Петербург</td>\n",
       "      <td>36421.0</td>\n",
       "      <td>9176.0</td>\n",
       "      <td>1.0</td>\n",
       "      <td>805.0</td>\n",
       "      <td>0.0</td>\n",
       "      <td>NaN</td>\n",
       "      <td>8.0</td>\n",
       "    </tr>\n",
       "  </tbody>\n",
       "</table>\n",
       "<p>1 rows × 22 columns</p>\n",
       "</div>"
      ],
      "text/plain": [
       "      total_images  last_price  total_area first_day_exposition  rooms  \\\n",
       "8793             7       12190       109.0  2019-03-20T00:00:00      2   \n",
       "\n",
       "      ceiling_height  floors_total  living_area  floor is_apartment  ...  \\\n",
       "8793            2.75          25.0         32.0     25          NaN  ...   \n",
       "\n",
       "      kitchen_area  balcony    locality_name  airports_nearest  \\\n",
       "8793          40.5      NaN  Санкт-Петербург           36421.0   \n",
       "\n",
       "     cityCenters_nearest  parks_around3000  parks_nearest  ponds_around3000  \\\n",
       "8793              9176.0               1.0          805.0               0.0   \n",
       "\n",
       "      ponds_nearest  days_exposition  \n",
       "8793            NaN              8.0  \n",
       "\n",
       "[1 rows x 22 columns]"
      ]
     },
     "execution_count": 9,
     "metadata": {},
     "output_type": "execute_result"
    }
   ],
   "source": [
    "estate.query('last_price == 12190')"
   ]
  },
  {
   "cell_type": "markdown",
   "metadata": {},
   "source": [
    "Очевидно, что в этом случае была допущена ошибка — пропущены три нуля на конце. Заменим ее цену на 12 190 000, проверим правильность замены. Очевидно, что это ошибка со стороны человека, разместившего объявление, дополнительных действий с нашей стороны по устранению подобных ошибок не требуется."
   ]
  },
  {
   "cell_type": "code",
   "execution_count": 10,
   "metadata": {},
   "outputs": [
    {
     "data": {
      "text/plain": [
       "17456       430000\n",
       "14911       430000\n",
       "16274       440000\n",
       "17676       450000\n",
       "9581        450000\n",
       "           ...    \n",
       "15651    300000000\n",
       "1436     330000000\n",
       "14706    401300000\n",
       "19540    420000000\n",
       "12971    763000000\n",
       "Name: last_price, Length: 23699, dtype: int32"
      ]
     },
     "execution_count": 10,
     "metadata": {},
     "output_type": "execute_result"
    }
   ],
   "source": [
    "estate['last_price'] = estate['last_price'].replace(12190, 12190000)\n",
    "estate['last_price'].sort_values()"
   ]
  },
  {
   "cell_type": "markdown",
   "metadata": {},
   "source": [
    "Теперь более подробно изучим квартиры, стоимостью более 50 миллионов рублей."
   ]
  },
  {
   "cell_type": "code",
   "execution_count": 11,
   "metadata": {},
   "outputs": [
    {
     "data": {
      "text/plain": [
       "131"
      ]
     },
     "execution_count": 11,
     "metadata": {},
     "output_type": "execute_result"
    }
   ],
   "source": [
    "len(estate.query('last_price > 50000000'))"
   ]
  },
  {
   "cell_type": "code",
   "execution_count": 12,
   "metadata": {},
   "outputs": [
    {
     "data": {
      "text/plain": [
       "0.9941769694923837"
      ]
     },
     "execution_count": 12,
     "metadata": {},
     "output_type": "execute_result"
    }
   ],
   "source": [
    "len(estate.query('last_price < 50000000')) / len(estate)"
   ]
  },
  {
   "cell_type": "markdown",
   "metadata": {},
   "source": [
    "Квартир стоимостью более 50 миллионов рублей насчитывается только 131 штука. Сложно сказать, содержатся ли в данном столбце ошибочные значения, но аномальные выбросы имеются точно. Отметим, что подавляющее большинство наблюдений (99,4%) попадают в ценовую категорию \"менее 50 миллионов рублей\".\n",
    "\n",
    "Построим гистограмму для данного столбца."
   ]
  },
  {
   "cell_type": "code",
   "execution_count": 13,
   "metadata": {},
   "outputs": [
    {
     "data": {
      "text/plain": [
       "array([[<matplotlib.axes._subplots.AxesSubplot object at 0x000002108681B408>]],\n",
       "      dtype=object)"
      ]
     },
     "execution_count": 13,
     "metadata": {},
     "output_type": "execute_result"
    },
    {
     "data": {
      "image/png": "[encoded data removed]",
      "text/plain": [
       "<Figure size 432x288 with 1 Axes>"
      ]
     },
     "metadata": {
      "needs_background": "light"
     },
     "output_type": "display_data"
    }
   ],
   "source": [
    "estate.hist(column='last_price', bins=50, range=(0,60000000))"
   ]
  },
  {
   "cell_type": "markdown",
   "metadata": {},
   "source": [
    "Количество объектов недвижимости стоимостью более 50 млн. рублей невелико (131 штука или менее 0,6% от всех наблюдений), однако они могут существенно исказить общую картину. На данном этапе не удаляем их, т. к. выбросами мы займемся позже, однако учтем их наличие.\n",
    "\n",
    "### Общая площадь"
   ]
  },
  {
   "cell_type": "code",
   "execution_count": 14,
   "metadata": {},
   "outputs": [
    {
     "data": {
      "text/plain": [
       "count    23699.000000\n",
       "mean        60.348651\n",
       "std         35.654083\n",
       "min         12.000000\n",
       "25%         40.000000\n",
       "50%         52.000000\n",
       "75%         69.900000\n",
       "max        900.000000\n",
       "Name: total_area, dtype: float64"
      ]
     },
     "execution_count": 14,
     "metadata": {},
     "output_type": "execute_result"
    }
   ],
   "source": [
    "estate['total_area'].describe()"
   ]
  },
  {
   "cell_type": "markdown",
   "metadata": {},
   "source": [
    "В столбце 'total_area', отвечающем за общую площадь квартиры, все значения на месте, видимых аномалий нет. Тип данных float, уже присвоенный данному столбцу, поможет более точно оценить влияние метража на прочие показатели, особенно для квартир с небольшой площадью, соответственно оставляем без изменений.\n",
    "\n",
    "### Дата публикации объявления\n",
    "\n",
    "Взглянем на столбец 'first_day_exposition', отвечающий за дату размещения объявления о продаже. Отметим, что формат указан неверно. Переведем значения столбца в формат datetime с помощью метода to_datetime(). "
   ]
  },
  {
   "cell_type": "code",
   "execution_count": 15,
   "metadata": {},
   "outputs": [
    {
     "data": {
      "text/plain": [
       "0        2019-03-07T00:00:00\n",
       "1        2018-12-04T00:00:00\n",
       "2        2015-08-20T00:00:00\n",
       "3        2015-07-24T00:00:00\n",
       "4        2018-06-19T00:00:00\n",
       "                ...         \n",
       "23694    2017-03-21T00:00:00\n",
       "23695    2018-01-15T00:00:00\n",
       "23696    2018-02-11T00:00:00\n",
       "23697    2017-03-28T00:00:00\n",
       "23698    2017-07-21T00:00:00\n",
       "Name: first_day_exposition, Length: 23699, dtype: object"
      ]
     },
     "execution_count": 15,
     "metadata": {},
     "output_type": "execute_result"
    }
   ],
   "source": [
    "estate['first_day_exposition']"
   ]
  },
  {
   "cell_type": "code",
   "execution_count": 16,
   "metadata": {},
   "outputs": [
    {
     "data": {
      "text/plain": [
       "count                   23699\n",
       "unique                   1491\n",
       "top       2018-02-01 00:00:00\n",
       "freq                      368\n",
       "first     2014-11-27 00:00:00\n",
       "last      2019-05-03 00:00:00\n",
       "Name: first_day_exposition, dtype: object"
      ]
     },
     "execution_count": 16,
     "metadata": {},
     "output_type": "execute_result"
    }
   ],
   "source": [
    "estate['first_day_exposition'] = pd.to_datetime(estate['first_day_exposition'], format='%Y-%m-%dT%H:%M:%S')\n",
    "estate['first_day_exposition'].describe()"
   ]
  },
  {
   "cell_type": "markdown",
   "metadata": {},
   "source": [
    "В остальном данные выглядят правдоподобно, пропусков нет. Также можно сказать, что информация собиралась в течение последних 5 лет: с 2014 года по 2019 год.\n",
    "\n",
    "### Количество комнат"
   ]
  },
  {
   "cell_type": "code",
   "execution_count": 17,
   "metadata": {},
   "outputs": [
    {
     "data": {
      "text/plain": [
       "count    23699.000000\n",
       "mean         2.070636\n",
       "std          1.078405\n",
       "min          0.000000\n",
       "25%          1.000000\n",
       "50%          2.000000\n",
       "75%          3.000000\n",
       "max         19.000000\n",
       "Name: rooms, dtype: float64"
      ]
     },
     "execution_count": 17,
     "metadata": {},
     "output_type": "execute_result"
    }
   ],
   "source": [
    "estate['rooms'].describe()"
   ]
  },
  {
   "cell_type": "code",
   "execution_count": 18,
   "metadata": {},
   "outputs": [
    {
     "data": {
      "text/plain": [
       "1     8047\n",
       "2     7940\n",
       "3     5814\n",
       "4     1180\n",
       "5      326\n",
       "0      197\n",
       "6      105\n",
       "7       59\n",
       "8       12\n",
       "9        8\n",
       "10       3\n",
       "14       2\n",
       "11       2\n",
       "19       1\n",
       "12       1\n",
       "16       1\n",
       "15       1\n",
       "Name: rooms, dtype: int64"
      ]
     },
     "execution_count": 18,
     "metadata": {},
     "output_type": "execute_result"
    }
   ],
   "source": [
    "estate['rooms'].value_counts()"
   ]
  },
  {
   "cell_type": "markdown",
   "metadata": {},
   "source": [
    "В столбце 'rooms' содержится информация о количестве комнат в квартире. Пропусков нет, целочисленный тип данных как нельзя лучше подходит этому показателю. Однако в столбце сразу же видны определенные аномалии: жилые объекты с числом комнат меньше 0 и квартиры с очень большим числом комнат. Проверим значения в данном столбце с помощью гистограммы и графика типа \"ящик с усами\"."
   ]
  },
  {
   "cell_type": "code",
   "execution_count": 19,
   "metadata": {},
   "outputs": [
    {
     "data": {
      "text/plain": [
       "<matplotlib.axes._subplots.AxesSubplot at 0x2108848c888>"
      ]
     },
     "execution_count": 19,
     "metadata": {},
     "output_type": "execute_result"
    },
    {
     "data": {
      "image/png": "[encoded data removed]",
      "text/plain": [
       "<Figure size 432x288 with 1 Axes>"
      ]
     },
     "metadata": {
      "needs_background": "light"
     },
     "output_type": "display_data"
    }
   ],
   "source": [
    "estate['rooms'].hist(bins=18, range=(0, 18))"
   ]
  },
  {
   "cell_type": "code",
   "execution_count": 20,
   "metadata": {},
   "outputs": [
    {
     "data": {
      "text/plain": [
       "<matplotlib.axes._subplots.AxesSubplot at 0x210884e7a88>"
      ]
     },
     "execution_count": 20,
     "metadata": {},
     "output_type": "execute_result"
    },
    {
     "data": {
      "image/png": "[encoded data removed]",
      "text/plain": [
       "<Figure size 432x288 with 1 Axes>"
      ]
     },
     "metadata": {
      "needs_background": "light"
     },
     "output_type": "display_data"
    }
   ],
   "source": [
    "estate.boxplot(column=['rooms'])"
   ]
  },
  {
   "cell_type": "markdown",
   "metadata": {},
   "source": [
    "Указанных выше объектов совсем немного, но они могут негативно повлиять на результаты исследования (так как определенно являются выбросами). На данном этапе не будем удалять выбросы, а сделаем это на этапе анализа данных. Однако удалим квартиры с 0 комнат, так как их немного, а в данных при заполнении подобных объявлений явно была допущена ошибка (возможно, этот пункт был просто пропущен). Проверим."
   ]
  },
  {
   "cell_type": "code",
   "execution_count": 21,
   "metadata": {},
   "outputs": [
    {
     "data": {
      "text/plain": [
       "1     8047\n",
       "2     7940\n",
       "3     5814\n",
       "4     1180\n",
       "5      326\n",
       "6      105\n",
       "7       59\n",
       "8       12\n",
       "9        8\n",
       "10       3\n",
       "14       2\n",
       "11       2\n",
       "15       1\n",
       "12       1\n",
       "19       1\n",
       "16       1\n",
       "Name: rooms, dtype: int64"
      ]
     },
     "execution_count": 21,
     "metadata": {},
     "output_type": "execute_result"
    }
   ],
   "source": [
    "estate = estate.query('0 < rooms')\n",
    "estate['rooms'].value_counts()"
   ]
  },
  {
   "cell_type": "markdown",
   "metadata": {},
   "source": [
    "Взглянем на обновленные данные по таблице."
   ]
  },
  {
   "cell_type": "code",
   "execution_count": 22,
   "metadata": {},
   "outputs": [
    {
     "name": "stdout",
     "output_type": "stream",
     "text": [
      "<class 'pandas.core.frame.DataFrame'>\n",
      "Int64Index: 23502 entries, 0 to 23698\n",
      "Data columns (total 22 columns):\n",
      " #   Column                Non-Null Count  Dtype         \n",
      "---  ------                --------------  -----         \n",
      " 0   total_images          23502 non-null  int64         \n",
      " 1   last_price            23502 non-null  int32         \n",
      " 2   total_area            23502 non-null  float64       \n",
      " 3   first_day_exposition  23502 non-null  datetime64[ns]\n",
      " 4   rooms                 23502 non-null  int64         \n",
      " 5   ceiling_height        14422 non-null  float64       \n",
      " 6   floors_total          23419 non-null  float64       \n",
      " 7   living_area           21613 non-null  float64       \n",
      " 8   floor                 23502 non-null  int64         \n",
      " 9   is_apartment          2769 non-null   object        \n",
      " 10  studio                23502 non-null  bool          \n",
      " 11  open_plan             23502 non-null  bool          \n",
      " 12  kitchen_area          21421 non-null  float64       \n",
      " 13  balcony               12054 non-null  float64       \n",
      " 14  locality_name         23453 non-null  object        \n",
      " 15  airports_nearest      18039 non-null  float64       \n",
      " 16  cityCenters_nearest   18062 non-null  float64       \n",
      " 17  parks_around3000      18063 non-null  float64       \n",
      " 18  parks_nearest         8050 non-null   float64       \n",
      " 19  ponds_around3000      18063 non-null  float64       \n",
      " 20  ponds_nearest         9041 non-null   float64       \n",
      " 21  days_exposition       20335 non-null  float64       \n",
      "dtypes: bool(2), datetime64[ns](1), float64(13), int32(1), int64(3), object(2)\n",
      "memory usage: 3.7+ MB\n"
     ]
    }
   ],
   "source": [
    "estate.info()"
   ]
  },
  {
   "cell_type": "markdown",
   "metadata": {},
   "source": [
    "### Количество этажей\n",
    "\n",
    "Изменим порядок обработки столбцов. Сначала рассмотрим столбец 'floors_total' и только потом перейдем к работе со столбцом 'ceiling_height', так как количество этажей может помочь в заполнении пропусков в графе \"высота потолков\"."
   ]
  },
  {
   "cell_type": "code",
   "execution_count": 23,
   "metadata": {},
   "outputs": [
    {
     "data": {
      "text/plain": [
       "count    23419.000000\n",
       "mean        10.622273\n",
       "std          6.569964\n",
       "min          1.000000\n",
       "25%          5.000000\n",
       "50%          9.000000\n",
       "75%         16.000000\n",
       "max         60.000000\n",
       "Name: floors_total, dtype: float64"
      ]
     },
     "execution_count": 23,
     "metadata": {},
     "output_type": "execute_result"
    }
   ],
   "source": [
    "estate['floors_total'].describe()"
   ]
  },
  {
   "cell_type": "code",
   "execution_count": 24,
   "metadata": {},
   "outputs": [
    {
     "data": {
      "text/plain": [
       "83"
      ]
     },
     "execution_count": 24,
     "metadata": {},
     "output_type": "execute_result"
    }
   ],
   "source": [
    "estate['floors_total'].isna().sum()"
   ]
  },
  {
   "cell_type": "markdown",
   "metadata": {},
   "source": [
    "В данном столбце 83 пропущенных значения. Тип данных float не соответствует содержащейся в столбце информации, т. к. количество этажей — всегда целое число. Избавимся от пропусков методом dropna(). В данном случае замена пропусков на медианные значения не является оптимальным решением, потому что это может в последующем помешать корректному распределению квартир по категориям \"Первый этаж\", \"Последний этаж\", \"Другое\".\n",
    "\n",
    "Избавимся от строк с пропущенными значениями, заменим тип данных в столбце на целочисленный, выполним проверку и уточним актуальное состояние таблицы с помощью метода info()."
   ]
  },
  {
   "cell_type": "code",
   "execution_count": 25,
   "metadata": {},
   "outputs": [
    {
     "data": {
      "text/plain": [
       "0"
      ]
     },
     "execution_count": 25,
     "metadata": {},
     "output_type": "execute_result"
    }
   ],
   "source": [
    "estate.dropna(subset=['floors_total'], inplace=True)\n",
    "estate['floors_total'].isna().sum()"
   ]
  },
  {
   "cell_type": "code",
   "execution_count": 26,
   "metadata": {},
   "outputs": [],
   "source": [
    "estate['floors_total'] = estate['floors_total'].astype('int')"
   ]
  },
  {
   "cell_type": "code",
   "execution_count": 27,
   "metadata": {},
   "outputs": [
    {
     "name": "stdout",
     "output_type": "stream",
     "text": [
      "<class 'pandas.core.frame.DataFrame'>\n",
      "Int64Index: 23419 entries, 0 to 23698\n",
      "Data columns (total 22 columns):\n",
      " #   Column                Non-Null Count  Dtype         \n",
      "---  ------                --------------  -----         \n",
      " 0   total_images          23419 non-null  int64         \n",
      " 1   last_price            23419 non-null  int32         \n",
      " 2   total_area            23419 non-null  float64       \n",
      " 3   first_day_exposition  23419 non-null  datetime64[ns]\n",
      " 4   rooms                 23419 non-null  int64         \n",
      " 5   ceiling_height        14413 non-null  float64       \n",
      " 6   floors_total          23419 non-null  int32         \n",
      " 7   living_area           21560 non-null  float64       \n",
      " 8   floor                 23419 non-null  int64         \n",
      " 9   is_apartment          2769 non-null   object        \n",
      " 10  studio                23419 non-null  bool          \n",
      " 11  open_plan             23419 non-null  bool          \n",
      " 12  kitchen_area          21382 non-null  float64       \n",
      " 13  balcony               12007 non-null  float64       \n",
      " 14  locality_name         23371 non-null  object        \n",
      " 15  airports_nearest      17964 non-null  float64       \n",
      " 16  cityCenters_nearest   17987 non-null  float64       \n",
      " 17  parks_around3000      17988 non-null  float64       \n",
      " 18  parks_nearest         8017 non-null   float64       \n",
      " 19  ponds_around3000      17988 non-null  float64       \n",
      " 20  ponds_nearest         8993 non-null   float64       \n",
      " 21  days_exposition       20261 non-null  float64       \n",
      "dtypes: bool(2), datetime64[ns](1), float64(12), int32(2), int64(3), object(2)\n",
      "memory usage: 3.6+ MB\n"
     ]
    }
   ],
   "source": [
    "estate.info()"
   ]
  },
  {
   "cell_type": "markdown",
   "metadata": {},
   "source": [
    "### Высота потолков"
   ]
  },
  {
   "cell_type": "code",
   "execution_count": 28,
   "metadata": {},
   "outputs": [
    {
     "data": {
      "text/plain": [
       "count    14413.000000\n",
       "mean         2.769602\n",
       "std          1.248488\n",
       "min          1.000000\n",
       "25%          2.510000\n",
       "50%          2.650000\n",
       "75%          2.800000\n",
       "max        100.000000\n",
       "Name: ceiling_height, dtype: float64"
      ]
     },
     "execution_count": 28,
     "metadata": {},
     "output_type": "execute_result"
    }
   ],
   "source": [
    "estate['ceiling_height'].describe()"
   ]
  },
  {
   "cell_type": "code",
   "execution_count": 29,
   "metadata": {},
   "outputs": [
    {
     "data": {
      "text/plain": [
       "2.50      3513\n",
       "2.60      1637\n",
       "2.70      1551\n",
       "3.00      1108\n",
       "2.55       979\n",
       "          ... \n",
       "2.25         1\n",
       "4.15         1\n",
       "4.14         1\n",
       "1.75         1\n",
       "100.00       1\n",
       "Name: ceiling_height, Length: 182, dtype: int64"
      ]
     },
     "execution_count": 29,
     "metadata": {},
     "output_type": "execute_result"
    }
   ],
   "source": [
    "estate['ceiling_height'].value_counts()"
   ]
  },
  {
   "cell_type": "markdown",
   "metadata": {},
   "source": [
    "Столбец 'ceiling_height' содержит информацию о высоте потолков в квартире. Тип данных float выбран корректно, но в столбце не хватает около трети значений. Наличие пропусков, скорее всего, связано с тем, что не все пользователи заполняют эту графу при подготовке объявлений.\n",
    "\n",
    "Так как многие 5- и 9-этажные дома построены по типовым советским проектам, то и высота потолков в таких домах будет более однородной, чем для всей выборки в целом. То же можно сказать и про новые 25-этажные дома новой постройки (например, на Парнасе или в Девяткино), возведенные по единому проекту. Заполним пропуски медианным значением в зависимости от количества этажей  в доме. Данный метод, однако, не будет работать, если в объявлении не указана высота потолков, а других домов такой же этажности в таблице нет."
   ]
  },
  {
   "cell_type": "code",
   "execution_count": 30,
   "metadata": {},
   "outputs": [
    {
     "data": {
      "text/plain": [
       "floors_total\n",
       "1      2.80\n",
       "2      2.70\n",
       "3      2.80\n",
       "4      3.00\n",
       "5      2.55\n",
       "6      3.00\n",
       "7      3.00\n",
       "8      2.80\n",
       "9      2.55\n",
       "10     2.60\n",
       "11     2.75\n",
       "12     2.65\n",
       "13     2.70\n",
       "14     2.60\n",
       "15     2.70\n",
       "16     2.70\n",
       "17     2.70\n",
       "18     2.70\n",
       "19     2.75\n",
       "20     2.75\n",
       "21     2.70\n",
       "22     2.75\n",
       "23     2.75\n",
       "24     2.75\n",
       "25     2.75\n",
       "26     2.67\n",
       "27     2.70\n",
       "28     2.60\n",
       "29     2.60\n",
       "33      NaN\n",
       "34     2.65\n",
       "35     2.70\n",
       "36    14.85\n",
       "37     1.75\n",
       "52     2.65\n",
       "60     2.88\n",
       "Name: ceiling_height, dtype: float64"
      ]
     },
     "execution_count": 30,
     "metadata": {},
     "output_type": "execute_result"
    }
   ],
   "source": [
    "median_heights = estate.groupby('floors_total')['ceiling_height'].median()\n",
    "median_heights"
   ]
  },
  {
   "cell_type": "markdown",
   "metadata": {},
   "source": [
    "В данном случае проблемы могут возникнуть с 33-этажным объектом (объектами), так как для него отсутствует медианное значение. Его заполним медианным значением для всего столбца."
   ]
  },
  {
   "cell_type": "code",
   "execution_count": 31,
   "metadata": {},
   "outputs": [
    {
     "data": {
      "text/plain": [
       "count    23419.000000\n",
       "mean         2.734752\n",
       "std          0.987252\n",
       "min          1.000000\n",
       "25%          2.550000\n",
       "50%          2.650000\n",
       "75%          2.750000\n",
       "max        100.000000\n",
       "Name: ceiling_height, dtype: float64"
      ]
     },
     "execution_count": 31,
     "metadata": {},
     "output_type": "execute_result"
    }
   ],
   "source": [
    "estate['ceiling_height'] = (estate\n",
    "                            .groupby('floors_total')['ceiling_height']\n",
    "                            .transform(lambda x: x.fillna(x.median()) if (x.isnull().sum() != len(x)) else x ))\n",
    "estate['ceiling_height'] = estate['ceiling_height'].fillna(estate['ceiling_height'].median())\n",
    "estate['ceiling_height'].describe()"
   ]
  },
  {
   "cell_type": "markdown",
   "metadata": {},
   "source": [
    "Можно заметить, что в столбце присутствуют аномально высокие и низкие значения. Так как речь идет о продаже квартир, то есть жилой недвижимости, маловероятным представляется существование объектов с высотой потолка 1 метр или 100 метров. Скорее всего, в данных присутствует ошибка. Проверим количество объектов с чрезмерно высокой или низкой высотой потолков."
   ]
  },
  {
   "cell_type": "code",
   "execution_count": 32,
   "metadata": {},
   "outputs": [
    {
     "data": {
      "text/plain": [
       "21"
      ]
     },
     "execution_count": 32,
     "metadata": {},
     "output_type": "execute_result"
    }
   ],
   "source": [
    "len(estate.query('ceiling_height < 2.4'))"
   ]
  },
  {
   "cell_type": "code",
   "execution_count": 33,
   "metadata": {
    "scrolled": true
   },
   "outputs": [
    {
     "data": {
      "text/plain": [
       "35"
      ]
     },
     "execution_count": 33,
     "metadata": {},
     "output_type": "execute_result"
    }
   ],
   "source": [
    "len(estate.query('ceiling_height > 5'))"
   ]
  },
  {
   "cell_type": "markdown",
   "metadata": {},
   "source": [
    "В таблице всего 21 объект недвижимости, высота потолков которых меньше 2,4 метров (стандартная высота потолка в \"хрущевке\" — 2,48 метра, по нормам СНиП 31-01-2003 высота потолков в многоквартирных жилых домах должна быть не менее 2,5 метра), и 31 объект с высотой потолков более 5 метров.\n",
    "\n",
    "Мало того, что данные наблюдения могут содержать ошибки, они также могут считаться выбросами и удалены как статистически незначимые, тем более, их количество очень невелико."
   ]
  },
  {
   "cell_type": "code",
   "execution_count": 34,
   "metadata": {},
   "outputs": [
    {
     "name": "stdout",
     "output_type": "stream",
     "text": [
      "<class 'pandas.core.frame.DataFrame'>\n",
      "Int64Index: 23363 entries, 0 to 23698\n",
      "Data columns (total 22 columns):\n",
      " #   Column                Non-Null Count  Dtype         \n",
      "---  ------                --------------  -----         \n",
      " 0   total_images          23363 non-null  int64         \n",
      " 1   last_price            23363 non-null  int32         \n",
      " 2   total_area            23363 non-null  float64       \n",
      " 3   first_day_exposition  23363 non-null  datetime64[ns]\n",
      " 4   rooms                 23363 non-null  int64         \n",
      " 5   ceiling_height        23363 non-null  float64       \n",
      " 6   floors_total          23363 non-null  int32         \n",
      " 7   living_area           21509 non-null  float64       \n",
      " 8   floor                 23363 non-null  int64         \n",
      " 9   is_apartment          2752 non-null   object        \n",
      " 10  studio                23363 non-null  bool          \n",
      " 11  open_plan             23363 non-null  bool          \n",
      " 12  kitchen_area          21336 non-null  float64       \n",
      " 13  balcony               11973 non-null  float64       \n",
      " 14  locality_name         23315 non-null  object        \n",
      " 15  airports_nearest      17932 non-null  float64       \n",
      " 16  cityCenters_nearest   17955 non-null  float64       \n",
      " 17  parks_around3000      17956 non-null  float64       \n",
      " 18  parks_nearest         7999 non-null   float64       \n",
      " 19  ponds_around3000      17956 non-null  float64       \n",
      " 20  ponds_nearest         8973 non-null   float64       \n",
      " 21  days_exposition       20216 non-null  float64       \n",
      "dtypes: bool(2), datetime64[ns](1), float64(12), int32(2), int64(3), object(2)\n",
      "memory usage: 3.6+ MB\n"
     ]
    }
   ],
   "source": [
    "estate = estate.query('ceiling_height >= 2.4 & ceiling_height <= 5')\n",
    "estate.info()"
   ]
  },
  {
   "cell_type": "markdown",
   "metadata": {},
   "source": [
    "### Жилая площадь"
   ]
  },
  {
   "cell_type": "code",
   "execution_count": 35,
   "metadata": {},
   "outputs": [
    {
     "data": {
      "text/plain": [
       "count    21509.000000\n",
       "mean        34.582496\n",
       "std         22.034205\n",
       "min          2.000000\n",
       "25%         18.700000\n",
       "50%         30.000000\n",
       "75%         42.500000\n",
       "max        409.700000\n",
       "Name: living_area, dtype: float64"
      ]
     },
     "execution_count": 35,
     "metadata": {},
     "output_type": "execute_result"
    }
   ],
   "source": [
    "estate['living_area'].describe()"
   ]
  },
  {
   "cell_type": "markdown",
   "metadata": {},
   "source": [
    "Столбцу 'living_area' подходит тип данных float, принадлежащий ему по умолчанию, т. к. площадь помещений не всегда является целым числом. В столбце содержится определенное количество пропусков, которое можно заполнить медианными значениями жилой площади для квартир с тем же количеством комнат. Проверяем правильность выполнения операции методом describe()."
   ]
  },
  {
   "cell_type": "code",
   "execution_count": 36,
   "metadata": {},
   "outputs": [
    {
     "data": {
      "text/plain": [
       "count    23363.000000\n",
       "mean        34.446888\n",
       "std         21.707082\n",
       "min          2.000000\n",
       "25%         18.500000\n",
       "50%         30.500000\n",
       "75%         42.900000\n",
       "max        409.700000\n",
       "Name: living_area, dtype: float64"
      ]
     },
     "execution_count": 36,
     "metadata": {},
     "output_type": "execute_result"
    }
   ],
   "source": [
    "estate['living_area'] = (estate\n",
    "                            .groupby('rooms')['living_area']\n",
    "                            .transform(lambda x: x.fillna(x.median()) if (x.isnull().sum() != len(x)) else x ))\n",
    "estate['living_area'] = estate['living_area'].fillna(estate['living_area'].median())\n",
    "estate['living_area'].describe()"
   ]
  },
  {
   "cell_type": "markdown",
   "metadata": {},
   "source": [
    "### Этаж"
   ]
  },
  {
   "cell_type": "code",
   "execution_count": 37,
   "metadata": {},
   "outputs": [
    {
     "data": {
      "text/plain": [
       "count    23363.000000\n",
       "mean         5.856397\n",
       "std          4.853258\n",
       "min          1.000000\n",
       "25%          2.000000\n",
       "50%          4.000000\n",
       "75%          8.000000\n",
       "max         33.000000\n",
       "Name: floor, dtype: float64"
      ]
     },
     "execution_count": 37,
     "metadata": {},
     "output_type": "execute_result"
    }
   ],
   "source": [
    "estate['floor'].describe()"
   ]
  },
  {
   "cell_type": "markdown",
   "metadata": {},
   "source": [
    "В данном столбце нет пропущенных значений, целочисленный тип данных выбран верно, данные выглядят адекватно. Стоит проверить, нет ли в таблице квартир, этаж которых больше этажности самого дома. Выясняем, что таких квартир нет."
   ]
  },
  {
   "cell_type": "code",
   "execution_count": 38,
   "metadata": {},
   "outputs": [
    {
     "data": {
      "text/plain": [
       "0"
      ]
     },
     "execution_count": 38,
     "metadata": {},
     "output_type": "execute_result"
    }
   ],
   "source": [
    "len(estate.loc[estate['floor'] > estate['floors_total']])"
   ]
  },
  {
   "cell_type": "markdown",
   "metadata": {},
   "source": [
    "### Апартаменты"
   ]
  },
  {
   "cell_type": "code",
   "execution_count": 39,
   "metadata": {},
   "outputs": [
    {
     "data": {
      "text/plain": [
       "False    2705\n",
       "True       47\n",
       "Name: is_apartment, dtype: int64"
      ]
     },
     "execution_count": 39,
     "metadata": {},
     "output_type": "execute_result"
    }
   ],
   "source": [
    "estate['is_apartment'].value_counts()"
   ]
  },
  {
   "cell_type": "markdown",
   "metadata": {},
   "source": [
    "По данным столбца к типу \"апартаменты\" принадлежат всего 47 объектов недвижимости. Однако для большинства квартир этот параметр не указан в принципе. Пропуски в этом столбце невозможно заполнить на основании других столбцов, поэтому мы оставим его без изменений. Можно было бы предположить, что все пропущенные значения — это квартиры, не относящиеся к апартаментам, но соотношение апартаментов и общего числа объектов недвижимости в таком случае получается неправдоподобно низким. Получается, что часть пользователей просто забыла или намеренно не вписала в эту графу необходимое значение. Анализ будем проводить по имеющимся значениям.\n",
    "\n",
    "Указанный тип данных object не подходит, так как в данном столбце содержится булева переменная. Изменим тип данных на bool, проверим."
   ]
  },
  {
   "cell_type": "code",
   "execution_count": 40,
   "metadata": {},
   "outputs": [
    {
     "data": {
      "text/plain": [
       "False    2705\n",
       "True       47\n",
       "Name: is_apartment, dtype: int64"
      ]
     },
     "execution_count": 40,
     "metadata": {},
     "output_type": "execute_result"
    }
   ],
   "source": [
    "estate['is_apartment'] = estate['is_apartment'].replace('True', True)\n",
    "estate['is_apartment'] = estate['is_apartment'].replace('False', False)\n",
    "estate['is_apartment'].value_counts()"
   ]
  },
  {
   "cell_type": "markdown",
   "metadata": {},
   "source": [
    "### Квартиры-студии"
   ]
  },
  {
   "cell_type": "code",
   "execution_count": 41,
   "metadata": {},
   "outputs": [
    {
     "data": {
      "text/plain": [
       "False    23352\n",
       "True        11\n",
       "Name: studio, dtype: int64"
      ]
     },
     "execution_count": 41,
     "metadata": {},
     "output_type": "execute_result"
    }
   ],
   "source": [
    "estate['studio'].value_counts()"
   ]
  },
  {
   "cell_type": "markdown",
   "metadata": {},
   "source": [
    "Данный столбец, как и требуется, уже ассоциирован с логическим типом данных. Пропусков не наблюдается. Однако стоит проверить, все ли квартиры, отмеченные как студии, действительно имеют только одну комнату."
   ]
  },
  {
   "cell_type": "code",
   "execution_count": 42,
   "metadata": {},
   "outputs": [
    {
     "data": {
      "text/plain": [
       "0"
      ]
     },
     "execution_count": 42,
     "metadata": {},
     "output_type": "execute_result"
    }
   ],
   "source": [
    "len(estate.query('studio == True & rooms > 1'))"
   ]
  },
  {
   "cell_type": "markdown",
   "metadata": {},
   "source": [
    "Все квартиры, отмеченные как студии, имеют только одну комнату. Значит, ошибок в данных нет.\n",
    "\n",
    "### Открытая планировка"
   ]
  },
  {
   "cell_type": "code",
   "execution_count": 43,
   "metadata": {},
   "outputs": [
    {
     "data": {
      "text/plain": [
       "False    23355\n",
       "True         8\n",
       "Name: open_plan, dtype: int64"
      ]
     },
     "execution_count": 43,
     "metadata": {},
     "output_type": "execute_result"
    }
   ],
   "source": [
    "estate['open_plan'].value_counts()"
   ]
  },
  {
   "cell_type": "markdown",
   "metadata": {},
   "source": [
    "Данный столбец также ассоциирован с булевым типом данных, изменения не требуются. Пропусков нет.\n",
    "\n",
    "### Площадь кухни"
   ]
  },
  {
   "cell_type": "code",
   "execution_count": 44,
   "metadata": {},
   "outputs": [
    {
     "data": {
      "text/plain": [
       "count    21336.000000\n",
       "mean        10.563880\n",
       "std          5.895704\n",
       "min          1.300000\n",
       "25%          7.000000\n",
       "50%          9.100000\n",
       "75%         12.000000\n",
       "max        112.000000\n",
       "Name: kitchen_area, dtype: float64"
      ]
     },
     "execution_count": 44,
     "metadata": {},
     "output_type": "execute_result"
    }
   ],
   "source": [
    "estate['kitchen_area'].describe()"
   ]
  },
  {
   "cell_type": "markdown",
   "metadata": {},
   "source": [
    "Как и другие столбцы с площадью, этот имеет тип данных float, который нам подходит. В столбце имеется определенное количество пропусков. заполним их на основании данных об общей площади квартир. Очевидно, что таким образом удастся заполнить далеко не все пропуски. Оставшиеся заполним медианными значениями для всего столбца 'kitchen_area'."
   ]
  },
  {
   "cell_type": "code",
   "execution_count": 45,
   "metadata": {},
   "outputs": [
    {
     "data": {
      "text/plain": [
       "count    23363.000000\n",
       "mean        10.473122\n",
       "std          5.766121\n",
       "min          1.300000\n",
       "25%          7.000000\n",
       "50%          9.000000\n",
       "75%         11.800000\n",
       "max        112.000000\n",
       "Name: kitchen_area, dtype: float64"
      ]
     },
     "execution_count": 45,
     "metadata": {},
     "output_type": "execute_result"
    }
   ],
   "source": [
    "estate['kitchen_area'] = (estate\n",
    "                            .groupby('total_area')['kitchen_area']\n",
    "                            .transform(lambda x: x.fillna(x.median()) if (x.isnull().sum() != len(x)) else x ))\n",
    "estate['kitchen_area'] = estate['kitchen_area'].fillna(estate['kitchen_area'].median())\n",
    "estate['kitchen_area'].describe()"
   ]
  },
  {
   "cell_type": "markdown",
   "metadata": {},
   "source": [
    "### Количество балконов"
   ]
  },
  {
   "cell_type": "code",
   "execution_count": 46,
   "metadata": {},
   "outputs": [
    {
     "data": {
      "text/plain": [
       "count    11973.000000\n",
       "mean         1.148250\n",
       "std          1.072538\n",
       "min          0.000000\n",
       "25%          0.000000\n",
       "50%          1.000000\n",
       "75%          2.000000\n",
       "max          5.000000\n",
       "Name: balcony, dtype: float64"
      ]
     },
     "execution_count": 46,
     "metadata": {},
     "output_type": "execute_result"
    }
   ],
   "source": [
    "estate['balcony'].describe()"
   ]
  },
  {
   "cell_type": "code",
   "execution_count": 47,
   "metadata": {},
   "outputs": [
    {
     "data": {
      "text/plain": [
       "1.0    4152\n",
       "0.0    3697\n",
       "2.0    3560\n",
       "5.0     301\n",
       "4.0     182\n",
       "3.0      81\n",
       "Name: balcony, dtype: int64"
      ]
     },
     "execution_count": 47,
     "metadata": {},
     "output_type": "execute_result"
    }
   ],
   "source": [
    "estate['balcony'].value_counts()"
   ]
  },
  {
   "cell_type": "markdown",
   "metadata": {},
   "source": [
    "В столбце 'balcony' содержится информация о количестве балконов в квартире. Многие значения пропущены. Можем предположить, что пропуски наблюдаются в тех случаях, когда количество балконов равно нулю и человек, размещающий объявление, именно поэтому не заполнил данную графу. Заполним пропуски и заменим тип данных на целочисленный (количество балконов — всегда целое число). Проверим."
   ]
  },
  {
   "cell_type": "code",
   "execution_count": 48,
   "metadata": {},
   "outputs": [
    {
     "data": {
      "text/plain": [
       "0    15087\n",
       "1     4152\n",
       "2     3560\n",
       "5      301\n",
       "4      182\n",
       "3       81\n",
       "Name: balcony, dtype: int64"
      ]
     },
     "execution_count": 48,
     "metadata": {},
     "output_type": "execute_result"
    }
   ],
   "source": [
    "estate['balcony'] = estate['balcony'].fillna(0)\n",
    "estate['balcony'] = estate['balcony'].astype('int')\n",
    "estate['balcony'].value_counts()"
   ]
  },
  {
   "cell_type": "markdown",
   "metadata": {},
   "source": [
    "### Населенный пункт\n",
    "\n",
    "Столбцу 'locality_name' присвоен тип object, который как нельзя лучше подходит названиям населенных пунктов. Получим более подробную информацию о столбце разными методами."
   ]
  },
  {
   "cell_type": "code",
   "execution_count": 49,
   "metadata": {},
   "outputs": [
    {
     "data": {
      "text/plain": [
       "count               23315\n",
       "unique                361\n",
       "top       Санкт-Петербург\n",
       "freq                15513\n",
       "Name: locality_name, dtype: object"
      ]
     },
     "execution_count": 49,
     "metadata": {},
     "output_type": "execute_result"
    }
   ],
   "source": [
    "estate['locality_name'].describe()"
   ]
  },
  {
   "cell_type": "code",
   "execution_count": 50,
   "metadata": {},
   "outputs": [
    {
     "data": {
      "text/plain": [
       "Санкт-Петербург            15513\n",
       "посёлок Мурино               493\n",
       "посёлок Шушары               435\n",
       "Всеволожск                   391\n",
       "Пушкин                       369\n",
       "Колпино                      338\n",
       "посёлок Парголово            323\n",
       "Гатчина                      306\n",
       "деревня Кудрово              283\n",
       "Выборг                       235\n",
       "Петергоф                     201\n",
       "Сестрорецк                   183\n",
       "Красное Село                 175\n",
       "Кудрово                      165\n",
       "деревня Новое Девяткино      142\n",
       "Сертолово                    139\n",
       "Ломоносов                    133\n",
       "Кириши                       125\n",
       "Сланцы                       112\n",
       "Волхов                       110\n",
       "Кингисепп                    104\n",
       "Тосно                        102\n",
       "Кронштадт                     95\n",
       "Коммунар                      89\n",
       "Никольское                    87\n",
       "Сосновый Бор                  86\n",
       "Кировск                       84\n",
       "Отрадное                      79\n",
       "посёлок Бугры                 67\n",
       "Приозерск                     66\n",
       "Name: locality_name, dtype: int64"
      ]
     },
     "execution_count": 50,
     "metadata": {},
     "output_type": "execute_result"
    }
   ],
   "source": [
    "estate['locality_name'].value_counts().head(30)"
   ]
  },
  {
   "cell_type": "markdown",
   "metadata": {},
   "source": [
    "В столбце сразу же можно заметить ряд проблем: различное написание одних и тех же слов (\"поселок\" и \"посёлок\"), упоминание/отсутствие типа населенного пункта. Ряд значений отсутствует. Отсутствующие значения заменим на значение \"неизвестно\"."
   ]
  },
  {
   "cell_type": "code",
   "execution_count": 51,
   "metadata": {},
   "outputs": [
    {
     "data": {
      "text/plain": [
       "48"
      ]
     },
     "execution_count": 51,
     "metadata": {},
     "output_type": "execute_result"
    }
   ],
   "source": [
    "estate['locality_name'] = estate['locality_name'].fillna('Неизвестно')\n",
    "len(estate.query('locality_name == \"Неизвестно\"'))"
   ]
  },
  {
   "cell_type": "markdown",
   "metadata": {},
   "source": [
    "В рамках задания от нас требуется составить топ-10 населенных пунктов по количеству объявлений. Разница в написании может исказить результаты. Проанализировав топ-30 населенных пунктов по количеству объявлений, выясним, что только Кудрово встречается в двух разных написаниях. Все остальные позиции упомянуты по одному разу. Исправим это."
   ]
  },
  {
   "cell_type": "code",
   "execution_count": 52,
   "metadata": {},
   "outputs": [
    {
     "data": {
      "text/plain": [
       "Санкт-Петербург            15513\n",
       "посёлок Мурино               493\n",
       "Кудрово                      448\n",
       "посёлок Шушары               435\n",
       "Всеволожск                   391\n",
       "Пушкин                       369\n",
       "Колпино                      338\n",
       "посёлок Парголово            323\n",
       "Гатчина                      306\n",
       "Выборг                       235\n",
       "Петергоф                     201\n",
       "Сестрорецк                   183\n",
       "Красное Село                 175\n",
       "деревня Новое Девяткино      142\n",
       "Сертолово                    139\n",
       "Ломоносов                    133\n",
       "Кириши                       125\n",
       "Сланцы                       112\n",
       "Волхов                       110\n",
       "Кингисепп                    104\n",
       "Тосно                        102\n",
       "Кронштадт                     95\n",
       "Коммунар                      89\n",
       "Никольское                    87\n",
       "Сосновый Бор                  86\n",
       "Кировск                       84\n",
       "Отрадное                      79\n",
       "посёлок Бугры                 67\n",
       "Приозерск                     66\n",
       "посёлок Металлострой          65\n",
       "Name: locality_name, dtype: int64"
      ]
     },
     "execution_count": 52,
     "metadata": {},
     "output_type": "execute_result"
    }
   ],
   "source": [
    "estate['locality_name'] = estate['locality_name'].replace('деревня Кудрово', 'Кудрово')\n",
    "estate['locality_name'].value_counts().head(30)"
   ]
  },
  {
   "cell_type": "markdown",
   "metadata": {},
   "source": [
    "Благодаря этой операции Кудрово перебралось с 9 на 3 место. Все позиции после 30 будем считать слишком незначительными, чтобы заметно повлиять на первую десятку самых популярных населенных пунктов.\n",
    "\n",
    "### Расстояние до ближайшего аэропорта"
   ]
  },
  {
   "cell_type": "code",
   "execution_count": 53,
   "metadata": {},
   "outputs": [
    {
     "data": {
      "text/plain": [
       "count    17932.000000\n",
       "mean     28817.737843\n",
       "std      12624.489501\n",
       "min          0.000000\n",
       "25%      18585.000000\n",
       "50%      26763.500000\n",
       "75%      37275.500000\n",
       "max      84869.000000\n",
       "Name: airports_nearest, dtype: float64"
      ]
     },
     "execution_count": 53,
     "metadata": {},
     "output_type": "execute_result"
    }
   ],
   "source": [
    "estate['airports_nearest'].describe()"
   ]
  },
  {
   "cell_type": "markdown",
   "metadata": {},
   "source": [
    "Сразу же можем сказать, что в столбце содержатся пропуски. Тип данных int здесь бы подошел лучше, так как расстояние и так указано в метрах. Заменим пропуски на медианные значения для каждого населенного пункта. Для тех наблюдений, для которых данный метод не подходит (например, по причине того что соответствующей группы для них не нашлось), — медианными значениями всего столбца."
   ]
  },
  {
   "cell_type": "code",
   "execution_count": 54,
   "metadata": {},
   "outputs": [
    {
     "data": {
      "text/plain": [
       "count    23363.000000\n",
       "mean     28345.795296\n",
       "std      11098.107395\n",
       "min          0.000000\n",
       "25%      21189.000000\n",
       "50%      26786.000000\n",
       "75%      34424.000000\n",
       "max      84869.000000\n",
       "Name: airports_nearest, dtype: float64"
      ]
     },
     "execution_count": 54,
     "metadata": {},
     "output_type": "execute_result"
    }
   ],
   "source": [
    "estate['airports_nearest'] = (estate\n",
    "                            .groupby('locality_name')['airports_nearest']\n",
    "                            .transform(lambda x: x.fillna(x.median()) if (x.isnull().sum() != len(x)) else x ))\n",
    "estate['airports_nearest'] = estate['airports_nearest'].fillna(estate['airports_nearest'].median())\n",
    "estate['airports_nearest'].describe()"
   ]
  },
  {
   "cell_type": "code",
   "execution_count": 55,
   "metadata": {},
   "outputs": [
    {
     "data": {
      "text/html": [
       "<div>\n",
       "<style scoped>\n",
       "    .dataframe tbody tr th:only-of-type {\n",
       "        vertical-align: middle;\n",
       "    }\n",
       "\n",
       "    .dataframe tbody tr th {\n",
       "        vertical-align: top;\n",
       "    }\n",
       "\n",
       "    .dataframe thead th {\n",
       "        text-align: right;\n",
       "    }\n",
       "</style>\n",
       "<table border=\"1\" class=\"dataframe\">\n",
       "  <thead>\n",
       "    <tr style=\"text-align: right;\">\n",
       "      <th></th>\n",
       "      <th>total_images</th>\n",
       "      <th>last_price</th>\n",
       "      <th>total_area</th>\n",
       "      <th>first_day_exposition</th>\n",
       "      <th>rooms</th>\n",
       "      <th>ceiling_height</th>\n",
       "      <th>floors_total</th>\n",
       "      <th>living_area</th>\n",
       "      <th>floor</th>\n",
       "      <th>is_apartment</th>\n",
       "      <th>...</th>\n",
       "      <th>kitchen_area</th>\n",
       "      <th>balcony</th>\n",
       "      <th>locality_name</th>\n",
       "      <th>airports_nearest</th>\n",
       "      <th>cityCenters_nearest</th>\n",
       "      <th>parks_around3000</th>\n",
       "      <th>parks_nearest</th>\n",
       "      <th>ponds_around3000</th>\n",
       "      <th>ponds_nearest</th>\n",
       "      <th>days_exposition</th>\n",
       "    </tr>\n",
       "  </thead>\n",
       "  <tbody>\n",
       "    <tr>\n",
       "      <th>21085</th>\n",
       "      <td>0</td>\n",
       "      <td>7000000</td>\n",
       "      <td>34.7</td>\n",
       "      <td>2018-09-23</td>\n",
       "      <td>1</td>\n",
       "      <td>2.7</td>\n",
       "      <td>9</td>\n",
       "      <td>19.8</td>\n",
       "      <td>3</td>\n",
       "      <td>NaN</td>\n",
       "      <td>...</td>\n",
       "      <td>6.0</td>\n",
       "      <td>2</td>\n",
       "      <td>Санкт-Петербург</td>\n",
       "      <td>0.0</td>\n",
       "      <td>22801.0</td>\n",
       "      <td>0.0</td>\n",
       "      <td>NaN</td>\n",
       "      <td>0.0</td>\n",
       "      <td>NaN</td>\n",
       "      <td>60.0</td>\n",
       "    </tr>\n",
       "  </tbody>\n",
       "</table>\n",
       "<p>1 rows × 22 columns</p>\n",
       "</div>"
      ],
      "text/plain": [
       "       total_images  last_price  total_area first_day_exposition  rooms  \\\n",
       "21085             0     7000000        34.7           2018-09-23      1   \n",
       "\n",
       "       ceiling_height  floors_total  living_area  floor is_apartment  ...  \\\n",
       "21085             2.7             9         19.8      3          NaN  ...   \n",
       "\n",
       "       kitchen_area  balcony    locality_name  airports_nearest  \\\n",
       "21085           6.0        2  Санкт-Петербург               0.0   \n",
       "\n",
       "      cityCenters_nearest  parks_around3000  parks_nearest  ponds_around3000  \\\n",
       "21085             22801.0               0.0            NaN               0.0   \n",
       "\n",
       "       ponds_nearest  days_exposition  \n",
       "21085            NaN             60.0  \n",
       "\n",
       "[1 rows x 22 columns]"
      ]
     },
     "execution_count": 55,
     "metadata": {},
     "output_type": "execute_result"
    }
   ],
   "source": [
    "estate.query('airports_nearest == 0')"
   ]
  },
  {
   "cell_type": "markdown",
   "metadata": {},
   "source": [
    "Нулевое значение, хоть и вызывает вопросы, встречается только единожды и само по себе не может считаться ошибкой. Петербургский аэропорт (а именно здесь расположена данная квартира) находится в черте города, в непосредственной близости от него есть жилые дома.\n",
    "\n",
    "### Расстояние до центра города\n",
    "\n",
    "Столбец отвечает за расстояние от объекта недвижимости до центра города. Получим более подробную информацию."
   ]
  },
  {
   "cell_type": "code",
   "execution_count": 56,
   "metadata": {},
   "outputs": [
    {
     "data": {
      "text/plain": [
       "count    17955.000000\n",
       "mean     14192.092732\n",
       "std       8631.366031\n",
       "min        181.000000\n",
       "25%       9233.000000\n",
       "50%      13087.000000\n",
       "75%      16289.000000\n",
       "max      65968.000000\n",
       "Name: cityCenters_nearest, dtype: float64"
      ]
     },
     "execution_count": 56,
     "metadata": {},
     "output_type": "execute_result"
    }
   ],
   "source": [
    "estate['cityCenters_nearest'].describe()"
   ]
  },
  {
   "cell_type": "markdown",
   "metadata": {},
   "source": [
    "Для заполнения пропусков повторим операции, произведенные для предыдущего столбца. В данном случае, однако, не будем заполнять оставшиеся пропуски медианным значением для всего столбца, т. к. это может негативно сказаться на точности данных."
   ]
  },
  {
   "cell_type": "code",
   "execution_count": 57,
   "metadata": {},
   "outputs": [
    {
     "data": {
      "text/plain": [
       "count    18031.000000\n",
       "mean     14191.732405\n",
       "std       8626.914178\n",
       "min        181.000000\n",
       "25%       9238.000000\n",
       "50%      13063.000000\n",
       "75%      16275.000000\n",
       "max      65968.000000\n",
       "Name: cityCenters_nearest, dtype: float64"
      ]
     },
     "execution_count": 57,
     "metadata": {},
     "output_type": "execute_result"
    }
   ],
   "source": [
    "estate['cityCenters_nearest'] = (estate\n",
    "                            .groupby('locality_name')['cityCenters_nearest']\n",
    "                            .transform(lambda x: x.fillna(x.median()) if (x.isnull().sum() != len(x)) else x ))\n",
    "estate['cityCenters_nearest'].describe()"
   ]
  },
  {
   "cell_type": "markdown",
   "metadata": {},
   "source": [
    "### Число парков в радиусе 3 км"
   ]
  },
  {
   "cell_type": "code",
   "execution_count": 58,
   "metadata": {},
   "outputs": [
    {
     "data": {
      "text/plain": [
       "count    17956.000000\n",
       "mean         0.612998\n",
       "std          0.802590\n",
       "min          0.000000\n",
       "25%          0.000000\n",
       "50%          0.000000\n",
       "75%          1.000000\n",
       "max          3.000000\n",
       "Name: parks_around3000, dtype: float64"
      ]
     },
     "execution_count": 58,
     "metadata": {},
     "output_type": "execute_result"
    }
   ],
   "source": [
    "estate['parks_around3000'].describe()"
   ]
  },
  {
   "cell_type": "code",
   "execution_count": 59,
   "metadata": {},
   "outputs": [
    {
     "data": {
      "text/plain": [
       "0.0    9961\n",
       "1.0    5624\n",
       "2.0    1730\n",
       "3.0     641\n",
       "Name: parks_around3000, dtype: int64"
      ]
     },
     "execution_count": 59,
     "metadata": {},
     "output_type": "execute_result"
    }
   ],
   "source": [
    "estate['parks_around3000'].value_counts()"
   ]
  },
  {
   "cell_type": "markdown",
   "metadata": {},
   "source": [
    "Скорее всего, пропуски в данном столбце связаны с нулевыми значениями, то есть отсутствием парков в радиусе 3-х километров для данных объектов недвижимости. Проведем соответствующую замену, проверим."
   ]
  },
  {
   "cell_type": "code",
   "execution_count": 60,
   "metadata": {},
   "outputs": [
    {
     "data": {
      "text/plain": [
       "0.0    15368\n",
       "1.0     5624\n",
       "2.0     1730\n",
       "3.0      641\n",
       "Name: parks_around3000, dtype: int64"
      ]
     },
     "execution_count": 60,
     "metadata": {},
     "output_type": "execute_result"
    }
   ],
   "source": [
    "estate['parks_around3000'] = estate['parks_around3000'].fillna(0)\n",
    "estate['parks_around3000'].value_counts()"
   ]
  },
  {
   "cell_type": "markdown",
   "metadata": {},
   "source": [
    "### Расстояние до ближайшего парка"
   ]
  },
  {
   "cell_type": "code",
   "execution_count": 61,
   "metadata": {},
   "outputs": [
    {
     "data": {
      "text/plain": [
       "count    7999.000000\n",
       "mean      490.280285\n",
       "std       341.685433\n",
       "min         1.000000\n",
       "25%       288.000000\n",
       "50%       454.000000\n",
       "75%       612.000000\n",
       "max      3190.000000\n",
       "Name: parks_nearest, dtype: float64"
      ]
     },
     "execution_count": 61,
     "metadata": {},
     "output_type": "execute_result"
    }
   ],
   "source": [
    "estate['parks_nearest'].describe()"
   ]
  },
  {
   "cell_type": "markdown",
   "metadata": {},
   "source": [
    "В данном столбце много пропущенных значений. Скорее всего, это говорит о том, что до ближайшего парка слишком далеко, чтобы об этом упоминать в объявлении. Не будет заполнять пропуски, однако будем учитывать этот факт при проведении анализа. Тип данных float оставляем исходным.\n",
    "\n",
    "### Число водоемов в радиусе 3 км"
   ]
  },
  {
   "cell_type": "code",
   "execution_count": 62,
   "metadata": {},
   "outputs": [
    {
     "data": {
      "text/plain": [
       "count    17956.000000\n",
       "mean         0.769158\n",
       "std          0.939025\n",
       "min          0.000000\n",
       "25%          0.000000\n",
       "50%          0.000000\n",
       "75%          1.000000\n",
       "max          3.000000\n",
       "Name: ponds_around3000, dtype: float64"
      ]
     },
     "execution_count": 62,
     "metadata": {},
     "output_type": "execute_result"
    }
   ],
   "source": [
    "estate['ponds_around3000'].describe()"
   ]
  },
  {
   "cell_type": "code",
   "execution_count": 63,
   "metadata": {},
   "outputs": [
    {
     "data": {
      "text/plain": [
       "0.0    8983\n",
       "1.0    5619\n",
       "2.0    1870\n",
       "3.0    1484\n",
       "Name: ponds_around3000, dtype: int64"
      ]
     },
     "execution_count": 63,
     "metadata": {},
     "output_type": "execute_result"
    }
   ],
   "source": [
    "estate['ponds_around3000'].value_counts()"
   ]
  },
  {
   "cell_type": "markdown",
   "metadata": {},
   "source": [
    "Скорее всего, как и в случае со столбцом 'parks_around3000', пропуски в данном столбце связаны с нулевыми значениями, то есть отсутствием водоемов в радиусе 3-х километров для данных объектов недвижимости. Проведем соответствующую замену, проверим."
   ]
  },
  {
   "cell_type": "code",
   "execution_count": 64,
   "metadata": {},
   "outputs": [
    {
     "data": {
      "text/plain": [
       "0.0    14390\n",
       "1.0     5619\n",
       "2.0     1870\n",
       "3.0     1484\n",
       "Name: ponds_around3000, dtype: int64"
      ]
     },
     "execution_count": 64,
     "metadata": {},
     "output_type": "execute_result"
    }
   ],
   "source": [
    "estate['ponds_around3000'] = estate['ponds_around3000'].fillna(0)\n",
    "estate['ponds_around3000'].value_counts()"
   ]
  },
  {
   "cell_type": "markdown",
   "metadata": {},
   "source": [
    "### Расстояние до ближайшего пруда"
   ]
  },
  {
   "cell_type": "code",
   "execution_count": 65,
   "metadata": {},
   "outputs": [
    {
     "data": {
      "text/plain": [
       "count    8973.000000\n",
       "mean      518.496155\n",
       "std       277.884498\n",
       "min        13.000000\n",
       "25%       294.000000\n",
       "50%       503.000000\n",
       "75%       731.000000\n",
       "max      1344.000000\n",
       "Name: ponds_nearest, dtype: float64"
      ]
     },
     "execution_count": 65,
     "metadata": {},
     "output_type": "execute_result"
    }
   ],
   "source": [
    "estate['ponds_nearest'].describe()"
   ]
  },
  {
   "cell_type": "markdown",
   "metadata": {},
   "source": [
    "Поступаем по аналогии со столбцом 'parks_nearest': оставляем пропуски, анализ будем проводить только по тем наблюдениями, для которых данный параметр указан.\n",
    "\n",
    "### Количество дней экспозиции объявления\n",
    "\n",
    "В данном столбце содержится информация о количестве дней, прошедших с момента публикации объявления и до момента его снятия."
   ]
  },
  {
   "cell_type": "code",
   "execution_count": 66,
   "metadata": {},
   "outputs": [
    {
     "data": {
      "text/plain": [
       "count    20216.000000\n",
       "mean       181.543233\n",
       "std        220.130345\n",
       "min          1.000000\n",
       "25%         45.000000\n",
       "50%         96.000000\n",
       "75%        232.000000\n",
       "max       1580.000000\n",
       "Name: days_exposition, dtype: float64"
      ]
     },
     "execution_count": 66,
     "metadata": {},
     "output_type": "execute_result"
    }
   ],
   "source": [
    "estate['days_exposition'].describe()"
   ]
  },
  {
   "cell_type": "code",
   "execution_count": 67,
   "metadata": {},
   "outputs": [
    {
     "data": {
      "text/plain": [
       "3147"
      ]
     },
     "execution_count": 67,
     "metadata": {},
     "output_type": "execute_result"
    }
   ],
   "source": [
    "estate['days_exposition'].isna().sum()"
   ]
  },
  {
   "cell_type": "markdown",
   "metadata": {},
   "source": [
    "В столбце присутствуют пропуски, которые говорят о том, что объявление еще не закрыто, квартира до сих пор продается. Таких наблюдений 3 147 штук. Мы не будем их заполнять, но будем учитывать эту категорию квартир при дальнейшем анализе. Целочисленный тип данных здесь бы подошел больше, но в столбце остаются NaN значения, имеющие тип float, поэтому замену типа данных производить не будем.\n",
    "\n",
    "Вот общая информация о данных, с которыми мы теперь будем работать:"
   ]
  },
  {
   "cell_type": "code",
   "execution_count": 68,
   "metadata": {},
   "outputs": [
    {
     "name": "stdout",
     "output_type": "stream",
     "text": [
      "<class 'pandas.core.frame.DataFrame'>\n",
      "Int64Index: 23363 entries, 0 to 23698\n",
      "Data columns (total 22 columns):\n",
      " #   Column                Non-Null Count  Dtype         \n",
      "---  ------                --------------  -----         \n",
      " 0   total_images          23363 non-null  int64         \n",
      " 1   last_price            23363 non-null  int32         \n",
      " 2   total_area            23363 non-null  float64       \n",
      " 3   first_day_exposition  23363 non-null  datetime64[ns]\n",
      " 4   rooms                 23363 non-null  int64         \n",
      " 5   ceiling_height        23363 non-null  float64       \n",
      " 6   floors_total          23363 non-null  int32         \n",
      " 7   living_area           23363 non-null  float64       \n",
      " 8   floor                 23363 non-null  int64         \n",
      " 9   is_apartment          2752 non-null   object        \n",
      " 10  studio                23363 non-null  bool          \n",
      " 11  open_plan             23363 non-null  bool          \n",
      " 12  kitchen_area          23363 non-null  float64       \n",
      " 13  balcony               23363 non-null  int32         \n",
      " 14  locality_name         23363 non-null  object        \n",
      " 15  airports_nearest      23363 non-null  float64       \n",
      " 16  cityCenters_nearest   18031 non-null  float64       \n",
      " 17  parks_around3000      23363 non-null  float64       \n",
      " 18  parks_nearest         7999 non-null   float64       \n",
      " 19  ponds_around3000      23363 non-null  float64       \n",
      " 20  ponds_nearest         8973 non-null   float64       \n",
      " 21  days_exposition       20216 non-null  float64       \n",
      "dtypes: bool(2), datetime64[ns](1), float64(11), int32(3), int64(3), object(2)\n",
      "memory usage: 3.5+ MB\n"
     ]
    }
   ],
   "source": [
    "estate.info()"
   ]
  },
  {
   "cell_type": "markdown",
   "metadata": {},
   "source": [
    "### Дубликаты\n",
    "\n",
    "Так как в рамках подготовки отдельных столбцов для дальнейшего анализа мы уже удалили некорректные значения и заполнили пропуски, остается только проверить таблицу на наличие грубых дубликатов."
   ]
  },
  {
   "cell_type": "code",
   "execution_count": 69,
   "metadata": {},
   "outputs": [
    {
     "data": {
      "text/plain": [
       "0"
      ]
     },
     "execution_count": 69,
     "metadata": {},
     "output_type": "execute_result"
    }
   ],
   "source": [
    "estate.duplicated().sum()"
   ]
  },
  {
   "cell_type": "markdown",
   "metadata": {},
   "source": [
    "Дубликатов не обнаружено. Можем переходить к расчетам и выявлению закономерностей между параметрами.\n",
    "\n",
    "### Вывод\n",
    "\n",
    "Предобработка данных — важный этап работы над проектом. В процессе обработки данных были удалены наблюдения с пропусками, которые нельзя восстановить. В тех случаях, когда это было возможно, пропуски заполнялись медианными значениями для соответствующей группы наблюдений или (реже) медианными значением соответствующего столбца. Мы отметили в таблице наличие аномально высоких/низких наблюдений, которые уже на этапе предобработки можно отнести к выбросам. Их наличие в дальнейшем может негативно сказаться на точности проводимого исследования, поэтому от них придется избавиться на соответствующем этапе исследования.\n",
    "\n",
    "## Шаг 3. Посчитайте и добавьте в таблицу\n",
    "\n",
    "Рассчитаем и добавим в таблицу следующие показатели:\n",
    "- цену квадратного метра;\n",
    "- день недели, месяц и год публикации объявления;\n",
    "- этаж квартиры; варианты — первый, последний, другой;\n",
    "- соотношение жилой и общей площади, а также отношение площади кухни к общей.\n",
    "\n",
    "Цену квадратного метра рассчитаем, поделив цену квартиры на общую площадь. Сохраним значения в столбец 'sqm_price'."
   ]
  },
  {
   "cell_type": "code",
   "execution_count": 70,
   "metadata": {},
   "outputs": [
    {
     "data": {
      "text/plain": [
       "count    2.336300e+04\n",
       "mean     9.929917e+04\n",
       "std      5.020041e+04\n",
       "min      7.962963e+03\n",
       "25%      7.651437e+04\n",
       "50%      9.490085e+04\n",
       "75%      1.140351e+05\n",
       "max      1.907500e+06\n",
       "Name: sqm_price, dtype: float64"
      ]
     },
     "execution_count": 70,
     "metadata": {},
     "output_type": "execute_result"
    }
   ],
   "source": [
    "estate['sqm_price'] = estate['last_price'] / estate['total_area']\n",
    "estate['sqm_price'].describe()"
   ]
  },
  {
   "cell_type": "markdown",
   "metadata": {},
   "source": [
    "Создадим три отдельных столбца, в которые сохраним день недели, месяц и год публикации объявления. Назовем соответственно:\n",
    "- 'pub_day'\n",
    "- 'pub_month'\n",
    "- 'pub_year'"
   ]
  },
  {
   "cell_type": "code",
   "execution_count": 71,
   "metadata": {},
   "outputs": [
    {
     "data": {
      "text/plain": [
       "3    4233\n",
       "1    4126\n",
       "4    3930\n",
       "2    3917\n",
       "0    3573\n",
       "5    1909\n",
       "6    1675\n",
       "Name: pub_day, dtype: int64"
      ]
     },
     "execution_count": 71,
     "metadata": {},
     "output_type": "execute_result"
    }
   ],
   "source": [
    "estate['pub_day'] = estate['first_day_exposition'].dt.dayofweek\n",
    "estate['pub_day'].value_counts()"
   ]
  },
  {
   "cell_type": "code",
   "execution_count": 72,
   "metadata": {},
   "outputs": [
    {
     "data": {
      "text/plain": [
       "2     2614\n",
       "3     2553\n",
       "4     2345\n",
       "11    2331\n",
       "10    2088\n",
       "9     1949\n",
       "6     1744\n",
       "8     1717\n",
       "7     1667\n",
       "12    1621\n",
       "1     1480\n",
       "5     1254\n",
       "Name: pub_month, dtype: int64"
      ]
     },
     "execution_count": 72,
     "metadata": {},
     "output_type": "execute_result"
    }
   ],
   "source": [
    "estate['pub_month'] = estate['first_day_exposition'].dt.month\n",
    "estate['pub_month'].value_counts()"
   ]
  },
  {
   "cell_type": "code",
   "execution_count": 73,
   "metadata": {},
   "outputs": [
    {
     "data": {
      "text/plain": [
       "2018    8397\n",
       "2017    8051\n",
       "2019    2846\n",
       "2016    2755\n",
       "2015    1177\n",
       "2014     137\n",
       "Name: pub_year, dtype: int64"
      ]
     },
     "execution_count": 73,
     "metadata": {},
     "output_type": "execute_result"
    }
   ],
   "source": [
    "estate['pub_year'] = estate['first_day_exposition'].dt.year\n",
    "estate['pub_year'].value_counts()"
   ]
  },
  {
   "cell_type": "markdown",
   "metadata": {},
   "source": [
    "Создадим отдельный столбец с категориями в зависимости от этажа, на котором расположилась квартира: первый, последний, другой. Назовем его 'floor_cats'. Посмотрим на количество квартир, попавших в каждую группу."
   ]
  },
  {
   "cell_type": "code",
   "execution_count": 74,
   "metadata": {},
   "outputs": [
    {
     "data": {
      "text/plain": [
       "другой       17162\n",
       "последний     3337\n",
       "первый        2864\n",
       "Name: floor_cats, dtype: int64"
      ]
     },
     "execution_count": 74,
     "metadata": {},
     "output_type": "execute_result"
    }
   ],
   "source": [
    "estate.loc[estate['floor'] == 1, 'floor_cats'] = 'первый'\n",
    "estate.loc[estate['floor'] / estate['floors_total'] == 1, 'floor_cats'] = 'последний'\n",
    "estate['floor_cats'] = estate['floor_cats'].fillna('другой')\n",
    "estate['floor_cats'].value_counts()"
   ]
  },
  {
   "cell_type": "code",
   "execution_count": 75,
   "metadata": {},
   "outputs": [
    {
     "data": {
      "text/html": [
       "<div>\n",
       "<style scoped>\n",
       "    .dataframe tbody tr th:only-of-type {\n",
       "        vertical-align: middle;\n",
       "    }\n",
       "\n",
       "    .dataframe tbody tr th {\n",
       "        vertical-align: top;\n",
       "    }\n",
       "\n",
       "    .dataframe thead th {\n",
       "        text-align: right;\n",
       "    }\n",
       "</style>\n",
       "<table border=\"1\" class=\"dataframe\">\n",
       "  <thead>\n",
       "    <tr style=\"text-align: right;\">\n",
       "      <th></th>\n",
       "      <th>total_images</th>\n",
       "      <th>last_price</th>\n",
       "      <th>total_area</th>\n",
       "      <th>first_day_exposition</th>\n",
       "      <th>rooms</th>\n",
       "      <th>ceiling_height</th>\n",
       "      <th>floors_total</th>\n",
       "      <th>living_area</th>\n",
       "      <th>floor</th>\n",
       "      <th>is_apartment</th>\n",
       "      <th>...</th>\n",
       "      <th>parks_around3000</th>\n",
       "      <th>parks_nearest</th>\n",
       "      <th>ponds_around3000</th>\n",
       "      <th>ponds_nearest</th>\n",
       "      <th>days_exposition</th>\n",
       "      <th>sqm_price</th>\n",
       "      <th>pub_day</th>\n",
       "      <th>pub_month</th>\n",
       "      <th>pub_year</th>\n",
       "      <th>floor_cats</th>\n",
       "    </tr>\n",
       "  </thead>\n",
       "  <tbody>\n",
       "    <tr>\n",
       "      <th>0</th>\n",
       "      <td>20</td>\n",
       "      <td>13000000</td>\n",
       "      <td>108.0</td>\n",
       "      <td>2019-03-07</td>\n",
       "      <td>3</td>\n",
       "      <td>2.70</td>\n",
       "      <td>16</td>\n",
       "      <td>51.0</td>\n",
       "      <td>8</td>\n",
       "      <td>NaN</td>\n",
       "      <td>...</td>\n",
       "      <td>1.0</td>\n",
       "      <td>482.0</td>\n",
       "      <td>2.0</td>\n",
       "      <td>755.0</td>\n",
       "      <td>NaN</td>\n",
       "      <td>120370.370370</td>\n",
       "      <td>3</td>\n",
       "      <td>3</td>\n",
       "      <td>2019</td>\n",
       "      <td>другой</td>\n",
       "    </tr>\n",
       "    <tr>\n",
       "      <th>1</th>\n",
       "      <td>7</td>\n",
       "      <td>3350000</td>\n",
       "      <td>40.4</td>\n",
       "      <td>2018-12-04</td>\n",
       "      <td>1</td>\n",
       "      <td>2.75</td>\n",
       "      <td>11</td>\n",
       "      <td>18.6</td>\n",
       "      <td>1</td>\n",
       "      <td>NaN</td>\n",
       "      <td>...</td>\n",
       "      <td>0.0</td>\n",
       "      <td>NaN</td>\n",
       "      <td>0.0</td>\n",
       "      <td>NaN</td>\n",
       "      <td>81.0</td>\n",
       "      <td>82920.792079</td>\n",
       "      <td>1</td>\n",
       "      <td>12</td>\n",
       "      <td>2018</td>\n",
       "      <td>первый</td>\n",
       "    </tr>\n",
       "    <tr>\n",
       "      <th>2</th>\n",
       "      <td>10</td>\n",
       "      <td>5196000</td>\n",
       "      <td>56.0</td>\n",
       "      <td>2015-08-20</td>\n",
       "      <td>2</td>\n",
       "      <td>2.55</td>\n",
       "      <td>5</td>\n",
       "      <td>34.3</td>\n",
       "      <td>4</td>\n",
       "      <td>NaN</td>\n",
       "      <td>...</td>\n",
       "      <td>1.0</td>\n",
       "      <td>90.0</td>\n",
       "      <td>2.0</td>\n",
       "      <td>574.0</td>\n",
       "      <td>558.0</td>\n",
       "      <td>92785.714286</td>\n",
       "      <td>3</td>\n",
       "      <td>8</td>\n",
       "      <td>2015</td>\n",
       "      <td>другой</td>\n",
       "    </tr>\n",
       "    <tr>\n",
       "      <th>3</th>\n",
       "      <td>0</td>\n",
       "      <td>64900000</td>\n",
       "      <td>159.0</td>\n",
       "      <td>2015-07-24</td>\n",
       "      <td>3</td>\n",
       "      <td>2.60</td>\n",
       "      <td>14</td>\n",
       "      <td>45.0</td>\n",
       "      <td>9</td>\n",
       "      <td>NaN</td>\n",
       "      <td>...</td>\n",
       "      <td>2.0</td>\n",
       "      <td>84.0</td>\n",
       "      <td>3.0</td>\n",
       "      <td>234.0</td>\n",
       "      <td>424.0</td>\n",
       "      <td>408176.100629</td>\n",
       "      <td>4</td>\n",
       "      <td>7</td>\n",
       "      <td>2015</td>\n",
       "      <td>другой</td>\n",
       "    </tr>\n",
       "    <tr>\n",
       "      <th>4</th>\n",
       "      <td>2</td>\n",
       "      <td>10000000</td>\n",
       "      <td>100.0</td>\n",
       "      <td>2018-06-19</td>\n",
       "      <td>2</td>\n",
       "      <td>3.03</td>\n",
       "      <td>14</td>\n",
       "      <td>32.0</td>\n",
       "      <td>13</td>\n",
       "      <td>NaN</td>\n",
       "      <td>...</td>\n",
       "      <td>2.0</td>\n",
       "      <td>112.0</td>\n",
       "      <td>1.0</td>\n",
       "      <td>48.0</td>\n",
       "      <td>121.0</td>\n",
       "      <td>100000.000000</td>\n",
       "      <td>1</td>\n",
       "      <td>6</td>\n",
       "      <td>2018</td>\n",
       "      <td>другой</td>\n",
       "    </tr>\n",
       "  </tbody>\n",
       "</table>\n",
       "<p>5 rows × 27 columns</p>\n",
       "</div>"
      ],
      "text/plain": [
       "   total_images  last_price  total_area first_day_exposition  rooms  \\\n",
       "0            20    13000000       108.0           2019-03-07      3   \n",
       "1             7     3350000        40.4           2018-12-04      1   \n",
       "2            10     5196000        56.0           2015-08-20      2   \n",
       "3             0    64900000       159.0           2015-07-24      3   \n",
       "4             2    10000000       100.0           2018-06-19      2   \n",
       "\n",
       "   ceiling_height  floors_total  living_area  floor is_apartment  ...  \\\n",
       "0            2.70            16         51.0      8          NaN  ...   \n",
       "1            2.75            11         18.6      1          NaN  ...   \n",
       "2            2.55             5         34.3      4          NaN  ...   \n",
       "3            2.60            14         45.0      9          NaN  ...   \n",
       "4            3.03            14         32.0     13          NaN  ...   \n",
       "\n",
       "   parks_around3000  parks_nearest  ponds_around3000  ponds_nearest  \\\n",
       "0               1.0          482.0               2.0          755.0   \n",
       "1               0.0            NaN               0.0            NaN   \n",
       "2               1.0           90.0               2.0          574.0   \n",
       "3               2.0           84.0               3.0          234.0   \n",
       "4               2.0          112.0               1.0           48.0   \n",
       "\n",
       "  days_exposition      sqm_price  pub_day  pub_month  pub_year  floor_cats  \n",
       "0             NaN  120370.370370        3          3      2019      другой  \n",
       "1            81.0   82920.792079        1         12      2018      первый  \n",
       "2           558.0   92785.714286        3          8      2015      другой  \n",
       "3           424.0  408176.100629        4          7      2015      другой  \n",
       "4           121.0  100000.000000        1          6      2018      другой  \n",
       "\n",
       "[5 rows x 27 columns]"
      ]
     },
     "execution_count": 75,
     "metadata": {},
     "output_type": "execute_result"
    }
   ],
   "source": [
    "estate.head()"
   ]
  },
  {
   "cell_type": "markdown",
   "metadata": {},
   "source": [
    "Рассчитаем: \n",
    "1) соотношение жилой и общей площади и\n",
    "2) площади кухни и общей площади."
   ]
  },
  {
   "cell_type": "code",
   "execution_count": 76,
   "metadata": {},
   "outputs": [
    {
     "data": {
      "text/plain": [
       "count    23363.000000\n",
       "mean         0.562955\n",
       "std          0.110100\n",
       "min          0.021583\n",
       "25%          0.489796\n",
       "50%          0.565789\n",
       "75%          0.636757\n",
       "max          1.511905\n",
       "Name: living_to_all, dtype: float64"
      ]
     },
     "execution_count": 76,
     "metadata": {},
     "output_type": "execute_result"
    }
   ],
   "source": [
    "estate['living_to_all'] = estate['living_area'] / estate['total_area']\n",
    "estate['living_to_all'].describe()"
   ]
  },
  {
   "cell_type": "markdown",
   "metadata": {},
   "source": [
    "Соотношение жилой площади к общей площади квартиры варьируется в пределах от 0.04 до 1.50. Последнее не может быть правдой, т. к. жилая площадь не может превышать общую площадь квартиры. Узнаем, сколько таких значений содержится в таблице."
   ]
  },
  {
   "cell_type": "code",
   "execution_count": 77,
   "metadata": {},
   "outputs": [
    {
     "data": {
      "text/plain": [
       "29"
      ]
     },
     "execution_count": 77,
     "metadata": {},
     "output_type": "execute_result"
    }
   ],
   "source": [
    "len(estate.query('living_to_all >= 1'))"
   ]
  },
  {
   "cell_type": "markdown",
   "metadata": {},
   "source": [
    "Удалим все подобные наблюдения как заведомо ошибочные."
   ]
  },
  {
   "cell_type": "code",
   "execution_count": 78,
   "metadata": {},
   "outputs": [
    {
     "name": "stdout",
     "output_type": "stream",
     "text": [
      "<class 'pandas.core.frame.DataFrame'>\n",
      "Int64Index: 23334 entries, 0 to 23698\n",
      "Data columns (total 28 columns):\n",
      " #   Column                Non-Null Count  Dtype         \n",
      "---  ------                --------------  -----         \n",
      " 0   total_images          23334 non-null  int64         \n",
      " 1   last_price            23334 non-null  int32         \n",
      " 2   total_area            23334 non-null  float64       \n",
      " 3   first_day_exposition  23334 non-null  datetime64[ns]\n",
      " 4   rooms                 23334 non-null  int64         \n",
      " 5   ceiling_height        23334 non-null  float64       \n",
      " 6   floors_total          23334 non-null  int32         \n",
      " 7   living_area           23334 non-null  float64       \n",
      " 8   floor                 23334 non-null  int64         \n",
      " 9   is_apartment          2748 non-null   object        \n",
      " 10  studio                23334 non-null  bool          \n",
      " 11  open_plan             23334 non-null  bool          \n",
      " 12  kitchen_area          23334 non-null  float64       \n",
      " 13  balcony               23334 non-null  int32         \n",
      " 14  locality_name         23334 non-null  object        \n",
      " 15  airports_nearest      23334 non-null  float64       \n",
      " 16  cityCenters_nearest   18013 non-null  float64       \n",
      " 17  parks_around3000      23334 non-null  float64       \n",
      " 18  parks_nearest         7992 non-null   float64       \n",
      " 19  ponds_around3000      23334 non-null  float64       \n",
      " 20  ponds_nearest         8960 non-null   float64       \n",
      " 21  days_exposition       20188 non-null  float64       \n",
      " 22  sqm_price             23334 non-null  float64       \n",
      " 23  pub_day               23334 non-null  int64         \n",
      " 24  pub_month             23334 non-null  int64         \n",
      " 25  pub_year              23334 non-null  int64         \n",
      " 26  floor_cats            23334 non-null  object        \n",
      " 27  living_to_all         23334 non-null  float64       \n",
      "dtypes: bool(2), datetime64[ns](1), float64(13), int32(3), int64(6), object(3)\n",
      "memory usage: 4.6+ MB\n"
     ]
    }
   ],
   "source": [
    "estate = estate.query('living_to_all < 1')\n",
    "estate.info()"
   ]
  },
  {
   "cell_type": "markdown",
   "metadata": {},
   "source": [
    "Взглянем на соотношение площади кухни и общей комнаты квартир. Видим, что здесь подобной проблемы нет, а разброс значений куда меньше: от 0.02 до 0.79. Оставляем все значения."
   ]
  },
  {
   "cell_type": "code",
   "execution_count": 79,
   "metadata": {},
   "outputs": [
    {
     "data": {
      "text/plain": [
       "count    23334.000000\n",
       "mean         0.186984\n",
       "std          0.072151\n",
       "min          0.018215\n",
       "25%          0.134925\n",
       "50%          0.170838\n",
       "75%          0.230769\n",
       "max          0.787879\n",
       "Name: kitchen_to_all, dtype: float64"
      ]
     },
     "execution_count": 79,
     "metadata": {},
     "output_type": "execute_result"
    }
   ],
   "source": [
    "estate['kitchen_to_all'] = estate['kitchen_area'] / estate['total_area']\n",
    "estate['kitchen_to_all'].describe()"
   ]
  },
  {
   "cell_type": "markdown",
   "metadata": {},
   "source": [
    "### Вывод\n",
    "\n",
    "На данном этапе мы рассчитали ряд важных показателей: цену квадратного метра; день недели, месяц и год публикации объявления; этаж квартиры; варианты — первый, последний, другой; соотношение жилой и общей площади, а также отношение площади кухни к общей. Ряд ошибочных значений, которые не удалось выявить на предыдущем этапе работы, были устранены.\n",
    "\n",
    "## Шаг 4. Проведите исследовательский анализ данных и выполните инструкции:\n",
    "\n",
    "Наконец, проведем исследовательский анализ данных. Для начала изучим следующие параметры: площадь, цена, число комнат, высота потолков. Для этого найдем квартили, 1% и 99% выборки, а также построим гистограммы для каждого параметра.\n",
    "\n",
    "### Общая площадь"
   ]
  },
  {
   "cell_type": "code",
   "execution_count": 80,
   "metadata": {},
   "outputs": [
    {
     "data": {
      "text/plain": [
       "count    23334.000000\n",
       "mean        60.593443\n",
       "std         35.496442\n",
       "min         12.000000\n",
       "25%         40.200000\n",
       "50%         52.000000\n",
       "75%         70.000000\n",
       "max        900.000000\n",
       "Name: total_area, dtype: float64"
      ]
     },
     "execution_count": 80,
     "metadata": {},
     "output_type": "execute_result"
    }
   ],
   "source": [
    "estate['total_area'].describe()"
   ]
  },
  {
   "cell_type": "code",
   "execution_count": 81,
   "metadata": {},
   "outputs": [
    {
     "data": {
      "text/plain": [
       "0.01     27.3198\n",
       "0.99    197.0000\n",
       "Name: total_area, dtype: float64"
      ]
     },
     "execution_count": 81,
     "metadata": {},
     "output_type": "execute_result"
    }
   ],
   "source": [
    "estate['total_area'].quantile([0.01, 0.99])"
   ]
  },
  {
   "cell_type": "code",
   "execution_count": 82,
   "metadata": {},
   "outputs": [
    {
     "data": {
      "text/plain": [
       "<matplotlib.axes._subplots.AxesSubplot at 0x210895f4b48>"
      ]
     },
     "execution_count": 82,
     "metadata": {},
     "output_type": "execute_result"
    },
    {
     "data": {
      "image/png": "[encoded data removed]",
      "text/plain": [
       "<Figure size 432x288 with 1 Axes>"
      ]
     },
     "metadata": {
      "needs_background": "light"
     },
     "output_type": "display_data"
    }
   ],
   "source": [
    "estate['total_area'].hist(bins=20)"
   ]
  },
  {
   "cell_type": "markdown",
   "metadata": {},
   "source": [
    "Среднее значение в столбце 'total_area' — 61 кв. м, медианное (оно же — 50%) — 52 кв. м, что говорит о значительном влиянии выбросов, то есть квартир с чрезмерно большой площадью. 75% всех квартир обладают площадью меньше 70 кв. м. По одному 1% всех квартир обладают площадью менее 27,3 кв. м или больше 197 кв. м. Построим график типа ящик с усами для визуальной оценки выбросов."
   ]
  },
  {
   "cell_type": "code",
   "execution_count": 83,
   "metadata": {},
   "outputs": [
    {
     "data": {
      "text/plain": [
       "<matplotlib.axes._subplots.AxesSubplot at 0x21089695288>"
      ]
     },
     "execution_count": 83,
     "metadata": {},
     "output_type": "execute_result"
    },
    {
     "data": {
      "image/png": "[encoded data removed]",
      "text/plain": [
       "<Figure size 432x288 with 1 Axes>"
      ]
     },
     "metadata": {
      "needs_background": "light"
     },
     "output_type": "display_data"
    }
   ],
   "source": [
    "estate.boxplot(column='total_area')"
   ]
  },
  {
   "cell_type": "markdown",
   "metadata": {},
   "source": [
    "Получим значения столбца, очищенные от выбросов. Для этого воспользуемся формулой, аналогичной той, что используется для вычисления усов графика ящик с усами."
   ]
  },
  {
   "cell_type": "code",
   "execution_count": 84,
   "metadata": {},
   "outputs": [
    {
     "data": {
      "text/plain": [
       "count    22105.000000\n",
       "mean        54.609935\n",
       "std         19.266687\n",
       "min         12.000000\n",
       "25%         40.000000\n",
       "50%         50.500000\n",
       "75%         65.900000\n",
       "max        114.600000\n",
       "Name: total_area, dtype: float64"
      ]
     },
     "execution_count": 84,
     "metadata": {},
     "output_type": "execute_result"
    }
   ],
   "source": [
    "Q1_area = estate['total_area'].quantile(0.25)\n",
    "Q3_area = estate['total_area'].quantile(0.75)\n",
    "IQR_area = Q3_area - Q1_area\n",
    "filtered_area = estate.query('(@Q1_area - 1.5 * @IQR_area) <= total_area <= (@Q3_area + 1.5 * @IQR_area)')\n",
    "filtered_area['total_area'].describe()"
   ]
  },
  {
   "cell_type": "markdown",
   "metadata": {},
   "source": [
    "Вот как выглядит столбец 'total_are', очищенный от выбросов. Выбросами оказались все квартиры с площадью более 114 метров, а вот нижняя граница не изменилась — по-прежнему 12 кв. м. Новая медиана равна 50,5 кв. м., новое среднее — 54,6 кв. м.\n",
    "\n",
    "### Цена\n",
    "\n",
    "Повторяем действия, описанные выше, для столбца, содержащего информацию о цене."
   ]
  },
  {
   "cell_type": "code",
   "execution_count": 85,
   "metadata": {},
   "outputs": [
    {
     "data": {
      "text/plain": [
       "count    2.333400e+04\n",
       "mean     6.559042e+06\n",
       "std      1.086810e+07\n",
       "min      4.300000e+05\n",
       "25%      3.450000e+06\n",
       "50%      4.650000e+06\n",
       "75%      6.800000e+06\n",
       "max      7.630000e+08\n",
       "Name: last_price, dtype: float64"
      ]
     },
     "execution_count": 85,
     "metadata": {},
     "output_type": "execute_result"
    }
   ],
   "source": [
    "estate['last_price'].describe()"
   ]
  },
  {
   "cell_type": "code",
   "execution_count": 86,
   "metadata": {},
   "outputs": [
    {
     "data": {
      "text/plain": [
       "0.01     1000000.00\n",
       "0.99    35935847.68\n",
       "Name: last_price, dtype: float64"
      ]
     },
     "execution_count": 86,
     "metadata": {},
     "output_type": "execute_result"
    }
   ],
   "source": [
    "estate['last_price'].quantile([0.01, 0.99])"
   ]
  },
  {
   "cell_type": "code",
   "execution_count": 87,
   "metadata": {},
   "outputs": [
    {
     "data": {
      "text/plain": [
       "<matplotlib.axes._subplots.AxesSubplot at 0x210896e7648>"
      ]
     },
     "execution_count": 87,
     "metadata": {},
     "output_type": "execute_result"
    },
    {
     "data": {
      "image/png": "[encoded data removed]",
      "text/plain": [
       "<Figure size 432x288 with 1 Axes>"
      ]
     },
     "metadata": {
      "needs_background": "light"
     },
     "output_type": "display_data"
    }
   ],
   "source": [
    "estate['total_area'].hist(bins=20)"
   ]
  },
  {
   "cell_type": "markdown",
   "metadata": {},
   "source": [
    "Из полученных данных видим, что средняя цена квартиры равна 6 559 042 рублей, медианная — 4 650 000, что (как и в случае с предыдущим столбцом), говорит о влиянии выбросов, причем еще более значительном, чем в случае общей площади. Менее 25% всех квартир продается по цене 3 450 000 рублей и ниже. 75% всех предложений продажи на рынке укладывается в 6 800 000. Лишь 1% всех квартир продается по цене ниже 1 млн. рублей. Топ 1% самых дорогих квартир стоят от 35 935 847 и выше. Построим график типа ящик с усами для визуального определения выбросов."
   ]
  },
  {
   "cell_type": "code",
   "execution_count": 88,
   "metadata": {},
   "outputs": [
    {
     "data": {
      "text/plain": [
       "<matplotlib.axes._subplots.AxesSubplot at 0x2108972d9c8>"
      ]
     },
     "execution_count": 88,
     "metadata": {},
     "output_type": "execute_result"
    },
    {
     "data": {
      "image/png": "[encoded data removed]",
      "text/plain": [
       "<Figure size 432x288 with 1 Axes>"
      ]
     },
     "metadata": {
      "needs_background": "light"
     },
     "output_type": "display_data"
    }
   ],
   "source": [
    "estate.boxplot(column='last_price')"
   ]
  },
  {
   "cell_type": "markdown",
   "metadata": {},
   "source": [
    "Сразу же видно, насколько большой хвост у этих данных. Значения выбросов настолько велики, что интерквартильный размах на графике становится едва различимым. Очистим столбец от выбросов по описанной выше методике."
   ]
  },
  {
   "cell_type": "code",
   "execution_count": 89,
   "metadata": {},
   "outputs": [
    {
     "data": {
      "text/plain": [
       "count    2.128800e+04\n",
       "mean     4.859157e+06\n",
       "std      2.214106e+06\n",
       "min      4.300000e+05\n",
       "25%      3.350000e+06\n",
       "50%      4.450000e+06\n",
       "75%      6.000000e+06\n",
       "max      1.182000e+07\n",
       "Name: last_price, dtype: float64"
      ]
     },
     "execution_count": 89,
     "metadata": {},
     "output_type": "execute_result"
    }
   ],
   "source": [
    "Q1_price = estate['last_price'].quantile(0.25)\n",
    "Q3_price = estate['last_price'].quantile(0.75)\n",
    "IQR_price = Q3_price - Q1_price\n",
    "filtered_price = estate.query('(@Q1_price - 1.5 * @IQR_price) <= last_price <= (@Q3_price + 1.5 * @IQR_price)')\n",
    "filtered_price['last_price'].describe()"
   ]
  },
  {
   "cell_type": "markdown",
   "metadata": {},
   "source": [
    "После очистки количество наблюдений уменьшилось почти на 2000. Среднее значение снизилось с 6 559 042 на 4 859 157. Медиана — с 4 650 000 на 4 450 000. Минимальная цена не изменилась, а вот максимальная — заметно уменьшилась и составляет теперь 11 820 000 рублей.\n",
    "\n",
    "### Число комнат\n",
    "\n",
    "Проанализируем выборку по числу комнат."
   ]
  },
  {
   "cell_type": "code",
   "execution_count": 90,
   "metadata": {},
   "outputs": [
    {
     "data": {
      "text/plain": [
       "count    23334.000000\n",
       "mean         2.086698\n",
       "std          1.064532\n",
       "min          1.000000\n",
       "25%          1.000000\n",
       "50%          2.000000\n",
       "75%          3.000000\n",
       "max         19.000000\n",
       "Name: rooms, dtype: float64"
      ]
     },
     "execution_count": 90,
     "metadata": {},
     "output_type": "execute_result"
    }
   ],
   "source": [
    "estate['rooms'].describe()"
   ]
  },
  {
   "cell_type": "code",
   "execution_count": 91,
   "metadata": {},
   "outputs": [
    {
     "data": {
      "text/plain": [
       "0.01    1.0\n",
       "0.99    5.0\n",
       "Name: rooms, dtype: float64"
      ]
     },
     "execution_count": 91,
     "metadata": {},
     "output_type": "execute_result"
    }
   ],
   "source": [
    "estate['rooms'].quantile([0.01, 0.99])"
   ]
  },
  {
   "cell_type": "code",
   "execution_count": 92,
   "metadata": {},
   "outputs": [
    {
     "data": {
      "text/plain": [
       "<matplotlib.axes._subplots.AxesSubplot at 0x2108985a908>"
      ]
     },
     "execution_count": 92,
     "metadata": {},
     "output_type": "execute_result"
    },
    {
     "data": {
      "image/png": "[encoded data removed]",
      "text/plain": [
       "<Figure size 432x288 with 1 Axes>"
      ]
     },
     "metadata": {
      "needs_background": "light"
     },
     "output_type": "display_data"
    }
   ],
   "source": [
    "estate['rooms'].hist(bins=20)"
   ]
  },
  {
   "cell_type": "markdown",
   "metadata": {},
   "source": [
    "Среднее значение в этом столбце до удаления выбросов — 2,09, медианное — 2. Небольшое смещение среднего дает крайне малое количество (в рамках выборки) квартир с непозволительно большим количеством комнат. Ожидаемо, топ 1% квартир с наименьшим количеством комнат имели 1 комнату (так как это минимальное значение). Топ 1% квартир с самым большим количеством комнат — это квартиры, в которых 5 комнат и больше. Рассчитаем границы выбросов, удалим аномальные значения."
   ]
  },
  {
   "cell_type": "code",
   "execution_count": 93,
   "metadata": {},
   "outputs": [
    {
     "data": {
      "text/plain": [
       "<matplotlib.axes._subplots.AxesSubplot at 0x21089963048>"
      ]
     },
     "execution_count": 93,
     "metadata": {},
     "output_type": "execute_result"
    },
    {
     "data": {
      "image/png": "[encoded data removed]",
      "text/plain": [
       "<Figure size 432x288 with 1 Axes>"
      ]
     },
     "metadata": {
      "needs_background": "light"
     },
     "output_type": "display_data"
    }
   ],
   "source": [
    "estate.boxplot(column='rooms')"
   ]
  },
  {
   "cell_type": "code",
   "execution_count": 94,
   "metadata": {},
   "outputs": [
    {
     "data": {
      "text/plain": [
       "count    23245.000000\n",
       "mean         2.063885\n",
       "std          0.991535\n",
       "min          1.000000\n",
       "25%          1.000000\n",
       "50%          2.000000\n",
       "75%          3.000000\n",
       "max          6.000000\n",
       "Name: rooms, dtype: float64"
      ]
     },
     "execution_count": 94,
     "metadata": {},
     "output_type": "execute_result"
    }
   ],
   "source": [
    "Q1_rooms = estate['rooms'].quantile(0.25)\n",
    "Q3_rooms = estate['rooms'].quantile(0.75)\n",
    "IQR_rooms = Q3_rooms - Q1_rooms\n",
    "filtered_rooms = estate.query('(@Q1_rooms - 1.5 * @IQR_rooms) <= rooms <= (@Q3_rooms + 1.5 * @IQR_rooms)')\n",
    "filtered_rooms['rooms'].describe()"
   ]
  },
  {
   "cell_type": "markdown",
   "metadata": {},
   "source": [
    "Данные приняли куда более единообразный вид. Среднее и медианное значения составляют 2,06 и 2 соответственно, что не слишком расходится с изначальной статистику ввиду небольшого количества выбросов. Минимальное значение осталось таким же, максимальное значение сократилось с 19 до 6.\n",
    "\n",
    "### Высота потолков\n",
    "\n",
    "Высота потолков — непростой в данном случае параметр для анализ. Изначально с большим количеством пропусков, этот столбец ожидаемо вернет менее точные результаты даже после удаления выбросов, т. к. любое заполнение пропущенных данных медианными значениями — уже определенная манипуляция с ними. Тем не менее попробуем оценить данный параметр с помощью уже упомянутой методики."
   ]
  },
  {
   "cell_type": "code",
   "execution_count": 95,
   "metadata": {},
   "outputs": [
    {
     "data": {
      "text/plain": [
       "count    23334.000000\n",
       "mean         2.707416\n",
       "std          0.230205\n",
       "min          2.400000\n",
       "25%          2.550000\n",
       "50%          2.650000\n",
       "75%          2.750000\n",
       "max          5.000000\n",
       "Name: ceiling_height, dtype: float64"
      ]
     },
     "execution_count": 95,
     "metadata": {},
     "output_type": "execute_result"
    }
   ],
   "source": [
    "estate['ceiling_height'].describe()"
   ]
  },
  {
   "cell_type": "code",
   "execution_count": 96,
   "metadata": {},
   "outputs": [
    {
     "data": {
      "text/plain": [
       "0.01    2.50\n",
       "0.99    3.56\n",
       "Name: ceiling_height, dtype: float64"
      ]
     },
     "execution_count": 96,
     "metadata": {},
     "output_type": "execute_result"
    }
   ],
   "source": [
    "estate['ceiling_height'].quantile([0.01, 0.99])"
   ]
  },
  {
   "cell_type": "code",
   "execution_count": 97,
   "metadata": {},
   "outputs": [
    {
     "data": {
      "text/plain": [
       "<matplotlib.axes._subplots.AxesSubplot at 0x210895d2d48>"
      ]
     },
     "execution_count": 97,
     "metadata": {},
     "output_type": "execute_result"
    },
    {
     "data": {
      "image/png": "[encoded data removed]",
      "text/plain": [
       "<Figure size 432x288 with 1 Axes>"
      ]
     },
     "metadata": {
      "needs_background": "light"
     },
     "output_type": "display_data"
    }
   ],
   "source": [
    "estate['ceiling_height'].hist(bins=20)"
   ]
  },
  {
   "cell_type": "markdown",
   "metadata": {},
   "source": [
    "На предыдущем этапе работы мы уже провели определенную очистку данных в столбце 'ceiling_height', связанную с наличием откровенно неправдоподобных значений, природу которых сложно или невозможно установить. Также невозможно было сказать, какие из них являлись выбросами, а какие — ошибками в заполнении объявлений продавцами. Своеобразные уступы в районе 3 и 3,5 метров, заметные на гистограмме, — это, скорее всего, медианные значения по группам, на которые мы заменяли пропуски.\n",
    "\n",
    "Среднее значение до очистки — 2,71 м, медианное — 2,65, что говорит о большем количестве квартир с низкими потолками, чем с высокими. Минимальное и максимальное значения соответствуют выбранным ранее и составляют 2,4 и 5 м соответственно.\n",
    "\n",
    "Продолжим очистку."
   ]
  },
  {
   "cell_type": "code",
   "execution_count": 98,
   "metadata": {},
   "outputs": [
    {
     "data": {
      "text/plain": [
       "<matplotlib.axes._subplots.AxesSubplot at 0x210876aaf48>"
      ]
     },
     "execution_count": 98,
     "metadata": {},
     "output_type": "execute_result"
    },
    {
     "data": {
      "image/png": "[encoded data removed]",
      "text/plain": [
       "<Figure size 432x288 with 1 Axes>"
      ]
     },
     "metadata": {
      "needs_background": "light"
     },
     "output_type": "display_data"
    }
   ],
   "source": [
    "estate.boxplot(column='ceiling_height')"
   ]
  },
  {
   "cell_type": "code",
   "execution_count": 99,
   "metadata": {},
   "outputs": [
    {
     "data": {
      "text/plain": [
       "count    21919.000000\n",
       "mean         2.665254\n",
       "std          0.147762\n",
       "min          2.400000\n",
       "25%          2.550000\n",
       "50%          2.650000\n",
       "75%          2.750000\n",
       "max          3.050000\n",
       "Name: ceiling_height, dtype: float64"
      ]
     },
     "execution_count": 99,
     "metadata": {},
     "output_type": "execute_result"
    }
   ],
   "source": [
    "Q1_ceil = estate['ceiling_height'].quantile(0.25)\n",
    "Q3_ceil = estate['ceiling_height'].quantile(0.75)\n",
    "IQR_ceil = Q3_ceil - Q1_ceil\n",
    "filtered_ceil = estate.query('(@Q1_ceil - 1.5 * @IQR_ceil) <= ceiling_height <= (@Q3_ceil + 1.5 * @IQR_ceil)')\n",
    "filtered_ceil['ceiling_height'].describe()"
   ]
  },
  {
   "cell_type": "markdown",
   "metadata": {},
   "source": [
    "После очистки данные выглядят следующим образом: все квартиры с высотой потолков более 3,05 м в выборку не попали, минимальное значение осталось таким же. Среднее уменьшилось до 2,67 м, медиана не изменилась.\n",
    "\n",
    "### Время продажи\n",
    "\n",
    "Так как время продажи указано не для всех квартир, отсортируем таблицу таким образом, чтобы остались только проданные квартиры (те, у которых столбец 'days_exposition' заполнен) и сохраним их в новом DataFrame. Продолжим анализировать по уже привычному алгоритму."
   ]
  },
  {
   "cell_type": "code",
   "execution_count": 100,
   "metadata": {},
   "outputs": [
    {
     "data": {
      "text/plain": [
       "20188"
      ]
     },
     "execution_count": 100,
     "metadata": {},
     "output_type": "execute_result"
    }
   ],
   "source": [
    "estate_time = estate.query('days_exposition != \"NaN\"')\n",
    "len(estate_time)"
   ]
  },
  {
   "cell_type": "code",
   "execution_count": 101,
   "metadata": {},
   "outputs": [
    {
     "data": {
      "text/plain": [
       "count    20188.000000\n",
       "mean       181.672231\n",
       "std        220.209035\n",
       "min          1.000000\n",
       "25%         45.000000\n",
       "50%         96.000000\n",
       "75%        232.000000\n",
       "max       1580.000000\n",
       "Name: days_exposition, dtype: float64"
      ]
     },
     "execution_count": 101,
     "metadata": {},
     "output_type": "execute_result"
    }
   ],
   "source": [
    "estate_time['days_exposition'].describe()"
   ]
  },
  {
   "cell_type": "code",
   "execution_count": 102,
   "metadata": {},
   "outputs": [
    {
     "data": {
      "text/plain": [
       "0.01       4.00\n",
       "0.99    1069.13\n",
       "Name: days_exposition, dtype: float64"
      ]
     },
     "execution_count": 102,
     "metadata": {},
     "output_type": "execute_result"
    }
   ],
   "source": [
    "estate['days_exposition'].quantile([0.01, 0.99])"
   ]
  },
  {
   "cell_type": "code",
   "execution_count": 103,
   "metadata": {},
   "outputs": [
    {
     "data": {
      "text/plain": [
       "<matplotlib.axes._subplots.AxesSubplot at 0x210876b6908>"
      ]
     },
     "execution_count": 103,
     "metadata": {},
     "output_type": "execute_result"
    },
    {
     "data": {
      "image/png": "[encoded data removed]",
      "text/plain": [
       "<Figure size 432x288 with 1 Axes>"
      ]
     },
     "metadata": {
      "needs_background": "light"
     },
     "output_type": "display_data"
    }
   ],
   "source": [
    "estate['days_exposition'].hist(bins=20)"
   ]
  },
  {
   "cell_type": "markdown",
   "metadata": {},
   "source": [
    "Значения в столбце варьируются от 1 до 1 580 дней. Среднее и медианное значения равны 182 и 96 дням соответственно. Такую разницу можно объяснить тем, что часть квартир продается очень долго (максимум — дольше 4-х лет). Очистим столбец от выбросов."
   ]
  },
  {
   "cell_type": "code",
   "execution_count": 104,
   "metadata": {},
   "outputs": [
    {
     "data": {
      "text/plain": [
       "<matplotlib.axes._subplots.AxesSubplot at 0x21089932188>"
      ]
     },
     "execution_count": 104,
     "metadata": {},
     "output_type": "execute_result"
    },
    {
     "data": {
      "image/png": "[encoded data removed]",
      "text/plain": [
       "<Figure size 432x288 with 1 Axes>"
      ]
     },
     "metadata": {
      "needs_background": "light"
     },
     "output_type": "display_data"
    }
   ],
   "source": [
    "estate.boxplot(column='days_exposition')"
   ]
  },
  {
   "cell_type": "code",
   "execution_count": 105,
   "metadata": {},
   "outputs": [
    {
     "data": {
      "text/plain": [
       "count    18537.000000\n",
       "mean       129.252090\n",
       "std        121.723866\n",
       "min          1.000000\n",
       "25%         42.000000\n",
       "50%         86.000000\n",
       "75%        183.000000\n",
       "max        512.000000\n",
       "Name: days_exposition, dtype: float64"
      ]
     },
     "execution_count": 105,
     "metadata": {},
     "output_type": "execute_result"
    }
   ],
   "source": [
    "Q1_days = estate['days_exposition'].quantile(0.25)\n",
    "Q3_days = estate['days_exposition'].quantile(0.75)\n",
    "IQR_days = Q3_days - Q1_days\n",
    "filtered_days = estate.query('(@Q1_days - 1.5 * @IQR_days) <= days_exposition <= (@Q3_days + 1.5 * @IQR_days)')\n",
    "filtered_days['days_exposition'].describe()"
   ]
  },
  {
   "cell_type": "markdown",
   "metadata": {},
   "source": [
    "Заметно, как сильно изменился разброс значений в столбце после удаления аномальных значений. Минимальное значение не изменилось, а вот максимум снизился до 512 дней, то есть в три раза. Разрыв между медианой и средним остается по прежнему очень значительным (куда больше, чем для других изученных параметров). Новое среднее — 129 дней, новая медиана — 86 дней.\n",
    "\n",
    "Быстрой продажей можно назвать случаи, попавшие в первую квартиль, то есть те квартиры, которые были проданы за 42 дня и менее. К долгой продаже можем отнести квартиры, которые продавались более 183 дней (то есть, после третьей квартили).\n",
    "\n",
    "Отсортированные значения можно было бы сохранять в новый общий или в первоначальный DataFrame, но это приведет к существенному снижению общего количества наблюдений в выборке, поэтому удобнее для оценки каждого отдельного фактора пользоваться отдельным DataFrame, очищенным от конкретных значений.\n",
    "\n",
    "### Факторы\n",
    "\n",
    "В рамках задания необходимо установить степень влияния отдельных факторов на цену квартиры: *стоимости квадратного метра, числа комнат, удалённости от центра, этажности и даты размещения (дня недели, месяца и года)*.\n",
    "\n",
    "Каждый из факторов, влияние которых необходимо установить на цену квартиры, будем рассматривать на примере соответствующего DataFrame с уже подготовленным данными.\n",
    "\n",
    "Начнем со стоимости квадратного метра. Рассчитаем коэффициент корреляции между столбцами 'last_price' и 'sqm_price'.\n",
    "\n",
    "#### Стоимость квадратного метра"
   ]
  },
  {
   "cell_type": "code",
   "execution_count": 106,
   "metadata": {},
   "outputs": [
    {
     "data": {
      "text/plain": [
       "0.6156066179491247"
      ]
     },
     "execution_count": 106,
     "metadata": {},
     "output_type": "execute_result"
    }
   ],
   "source": [
    "filtered_price['last_price'].corr(filtered_price['sqm_price'])"
   ]
  },
  {
   "cell_type": "markdown",
   "metadata": {},
   "source": [
    "Коэффициент корреляции Пирсона равен 0,62, что говорит о наличии слабой положительной линейной связи. Проверим это предположение, взглянув на график разброса."
   ]
  },
  {
   "cell_type": "code",
   "execution_count": 107,
   "metadata": {},
   "outputs": [
    {
     "data": {
      "text/plain": [
       "<matplotlib.axes._subplots.AxesSubplot at 0x2108c211308>"
      ]
     },
     "execution_count": 107,
     "metadata": {},
     "output_type": "execute_result"
    },
    {
     "data": {
      "image/png": "[encoded data removed]",
      "text/plain": [
       "<Figure size 432x288 with 1 Axes>"
      ]
     },
     "metadata": {
      "needs_background": "light"
     },
     "output_type": "display_data"
    }
   ],
   "source": [
    "filtered_price.plot(x='last_price', y='sqm_price', kind='scatter', alpha=0.1)"
   ]
  },
  {
   "cell_type": "markdown",
   "metadata": {},
   "source": [
    "Действительно, заметно наличие определенной связи между ценой квадратного метра квартиры и ценой квартиры как таковой. Это кажется вполне логичным, ведь квартиры с одинаковой площадью, но разной стоимостью квадратного метра будут стоить по-разному. Однако это не единственный фактор, влияющий на цены квартиры (их несколько), поэтому коэффициент корреляции Пирсона остается относительно низким.\n",
    "\n",
    "Перейдем к числу комнат. Для этого сначала составим общий DataFrame, в который войдут отфильтрованные значения цены и количества комнат и удалим из него пропущенные значения."
   ]
  },
  {
   "cell_type": "code",
   "execution_count": 108,
   "metadata": {},
   "outputs": [],
   "source": [
    "price_rooms = pd.concat([filtered_price['last_price'], filtered_rooms['rooms']], axis=1)\n",
    "price_rooms = price_rooms.dropna()"
   ]
  },
  {
   "cell_type": "code",
   "execution_count": 109,
   "metadata": {},
   "outputs": [
    {
     "data": {
      "text/plain": [
       "0.4490125910646859"
      ]
     },
     "execution_count": 109,
     "metadata": {},
     "output_type": "execute_result"
    }
   ],
   "source": [
    "price_rooms['last_price'].corr(price_rooms['rooms'])"
   ]
  },
  {
   "cell_type": "markdown",
   "metadata": {},
   "source": [
    "Связь в данном случае гораздо слабее. Убедимся в этом, исследовав график."
   ]
  },
  {
   "cell_type": "code",
   "execution_count": 110,
   "metadata": {},
   "outputs": [
    {
     "data": {
      "text/plain": [
       "<matplotlib.axes._subplots.AxesSubplot at 0x2108c887ac8>"
      ]
     },
     "execution_count": 110,
     "metadata": {},
     "output_type": "execute_result"
    },
    {
     "data": {
      "image/png": "[encoded data removed]",
      "text/plain": [
       "<Figure size 432x288 with 1 Axes>"
      ]
     },
     "metadata": {
      "needs_background": "light"
     },
     "output_type": "display_data"
    }
   ],
   "source": [
    "price_rooms.plot(x='last_price', y='rooms', kind='scatter', alpha=0.1)"
   ]
  },
  {
   "cell_type": "markdown",
   "metadata": {},
   "source": [
    "Судя по коэффициенту корреляции и графику выше, связь действительно есть, но слабая. Квартира с любым количеством комнат может оказаться как дешевой, так и дорогой, но чем больше количество комнат, тем выше вероятность того, что квартира окажется относительно дорогой. Рассчитаем медианные значения цены для квартир в зависимости от количества комнат."
   ]
  },
  {
   "cell_type": "code",
   "execution_count": 111,
   "metadata": {},
   "outputs": [
    {
     "data": {
      "text/plain": [
       "rooms\n",
       "1.0    3600000.0\n",
       "2.0    4650000.0\n",
       "3.0    5700000.0\n",
       "4.0    6999000.0\n",
       "5.0    8994500.0\n",
       "6.0    9745000.0\n",
       "Name: last_price, dtype: float64"
      ]
     },
     "execution_count": 111,
     "metadata": {},
     "output_type": "execute_result"
    }
   ],
   "source": [
    "price_rooms.groupby('rooms')['last_price'].median()"
   ]
  },
  {
   "cell_type": "markdown",
   "metadata": {},
   "source": [
    "Если судить по медианным значениям, медианная цена квартиры увеличивается с каждой дополнительной комнатой. Однако, как уже было сказано выше, это явно не основной фактор, определяющий стоимость квартиры. Значит, более значимыми являются другие факторы. Взглянем на связь между ценой и удаленностью от центра. Снова обратимся к таблице с ценами, из которой уже удалены все выбросы — filtered_price.\n",
    "\n",
    "#### Расстояние до центра"
   ]
  },
  {
   "cell_type": "code",
   "execution_count": 112,
   "metadata": {},
   "outputs": [
    {
     "data": {
      "text/plain": [
       "-0.34756015924600325"
      ]
     },
     "execution_count": 112,
     "metadata": {},
     "output_type": "execute_result"
    }
   ],
   "source": [
    "filtered_price['last_price'].corr(filtered_price['cityCenters_nearest'])"
   ]
  },
  {
   "cell_type": "markdown",
   "metadata": {},
   "source": [
    "Между ценой квартиры и расстоянием до центра города присутствует некоторая отрицательно связь, хоть и очень слабая. Значит, чем дальше квартира от центра, тем ниже ее цена (что логично). По графику рассеяния при этом можно сказать, что образовалось несколько групп наблюдений, которые, скорее всего, соответствуют различным населенным пунктам."
   ]
  },
  {
   "cell_type": "code",
   "execution_count": 113,
   "metadata": {},
   "outputs": [
    {
     "data": {
      "text/plain": [
       "<matplotlib.axes._subplots.AxesSubplot at 0x2108c8d5548>"
      ]
     },
     "execution_count": 113,
     "metadata": {},
     "output_type": "execute_result"
    },
    {
     "data": {
      "image/png": "[encoded data removed]",
      "text/plain": [
       "<Figure size 432x288 with 1 Axes>"
      ]
     },
     "metadata": {
      "needs_background": "light"
     },
     "output_type": "display_data"
    }
   ],
   "source": [
    "filtered_price.plot(x='last_price', y='cityCenters_nearest', kind='scatter', alpha=0.1)"
   ]
  },
  {
   "cell_type": "code",
   "execution_count": 114,
   "metadata": {},
   "outputs": [
    {
     "name": "stdout",
     "output_type": "stream",
     "text": [
      "<class 'pandas.core.frame.DataFrame'>\n",
      "Int64Index: 21288 entries, 1 to 23698\n",
      "Data columns (total 29 columns):\n",
      " #   Column                Non-Null Count  Dtype         \n",
      "---  ------                --------------  -----         \n",
      " 0   total_images          21288 non-null  int64         \n",
      " 1   last_price            21288 non-null  int32         \n",
      " 2   total_area            21288 non-null  float64       \n",
      " 3   first_day_exposition  21288 non-null  datetime64[ns]\n",
      " 4   rooms                 21288 non-null  int64         \n",
      " 5   ceiling_height        21288 non-null  float64       \n",
      " 6   floors_total          21288 non-null  int32         \n",
      " 7   living_area           21288 non-null  float64       \n",
      " 8   floor                 21288 non-null  int64         \n",
      " 9   is_apartment          2501 non-null   object        \n",
      " 10  studio                21288 non-null  bool          \n",
      " 11  open_plan             21288 non-null  bool          \n",
      " 12  kitchen_area          21288 non-null  float64       \n",
      " 13  balcony               21288 non-null  int32         \n",
      " 14  locality_name         21288 non-null  object        \n",
      " 15  airports_nearest      21288 non-null  float64       \n",
      " 16  cityCenters_nearest   15976 non-null  float64       \n",
      " 17  parks_around3000      21288 non-null  float64       \n",
      " 18  parks_nearest         6642 non-null   float64       \n",
      " 19  ponds_around3000      21288 non-null  float64       \n",
      " 20  ponds_nearest         7636 non-null   float64       \n",
      " 21  days_exposition       18680 non-null  float64       \n",
      " 22  sqm_price             21288 non-null  float64       \n",
      " 23  pub_day               21288 non-null  int64         \n",
      " 24  pub_month             21288 non-null  int64         \n",
      " 25  pub_year              21288 non-null  int64         \n",
      " 26  floor_cats            21288 non-null  object        \n",
      " 27  living_to_all         21288 non-null  float64       \n",
      " 28  kitchen_to_all        21288 non-null  float64       \n",
      "dtypes: bool(2), datetime64[ns](1), float64(14), int32(3), int64(6), object(3)\n",
      "memory usage: 5.0+ MB\n"
     ]
    }
   ],
   "source": [
    "filtered_price.info()"
   ]
  },
  {
   "cell_type": "markdown",
   "metadata": {},
   "source": [
    "Взглянем более подробно на данные для Санкт-Петербурга."
   ]
  },
  {
   "cell_type": "code",
   "execution_count": 115,
   "metadata": {},
   "outputs": [
    {
     "data": {
      "text/plain": [
       "<matplotlib.axes._subplots.AxesSubplot at 0x2108c8da848>"
      ]
     },
     "execution_count": 115,
     "metadata": {},
     "output_type": "execute_result"
    },
    {
     "data": {
      "image/png": "[encoded data removed]",
      "text/plain": [
       "<Figure size 432x288 with 1 Axes>"
      ]
     },
     "metadata": {
      "needs_background": "light"
     },
     "output_type": "display_data"
    }
   ],
   "source": [
    "filtered_price_spb = filtered_price.query('locality_name == \"Санкт-Петербург\"').copy()\n",
    "filtered_price_spb.plot(x='last_price', y='cityCenters_nearest', kind='scatter', alpha=0.1)"
   ]
  },
  {
   "cell_type": "markdown",
   "metadata": {},
   "source": [
    "Сравнивая гистограммы для всей выборки в целом и Петербурга в отдельности можно заметить, что для последнего характерно наличие куда большего (в процентном соотношении) количества объектов недвижимости в непосредственной близости от центра города. Это связано с тем, что расстояния для прочих населенных пунктов считаются не от центра соответствующего населенного пункта, а от центра Петербурга.\n",
    "\n",
    "Визуально выборка для Петербурга делится на несколько частей. Граница между нижней частью (тем самым центром) и остальной выборкой визуально проходит на уровне 6000 метров. Следовательно, все, что попадает в шестикилометровый радиус, может считаться центром Петербурга.\n",
    "\n",
    "Чтобы точнее определить границу центра города, произведем следующие вычисления: создадим столбец с расстоянием до центра в километрах, округленным до целых значений. После этого посчитаем среднюю цену для каждого километра."
   ]
  },
  {
   "cell_type": "code",
   "execution_count": 116,
   "metadata": {},
   "outputs": [
    {
     "data": {
      "text/plain": [
       "center_round\n",
       "0.0        8500000\n",
       "1000.0     8280000\n",
       "2000.0     7780000\n",
       "3000.0     7425000\n",
       "4000.0     7700000\n",
       "5000.0     7350000\n",
       "6000.0     6500000\n",
       "7000.0     6325000\n",
       "8000.0     5800000\n",
       "9000.0     4800000\n",
       "10000.0    4870000\n",
       "11000.0    4900000\n",
       "12000.0    4900000\n",
       "13000.0    5100000\n",
       "14000.0    4795000\n",
       "15000.0    4799500\n",
       "16000.0    4600000\n",
       "17000.0    4422789\n",
       "18000.0    4300000\n",
       "19000.0    4500000\n",
       "20000.0    6140000\n",
       "21000.0    4700000\n",
       "22000.0    5000000\n",
       "23000.0    3950000\n",
       "24000.0    3480000\n",
       "25000.0    3499000\n",
       "26000.0    3975000\n",
       "27000.0    2250000\n",
       "28000.0    4775000\n",
       "29000.0    4200000\n",
       "Name: last_price, dtype: int32"
      ]
     },
     "execution_count": 116,
     "metadata": {},
     "output_type": "execute_result"
    }
   ],
   "source": [
    "filtered_price_spb['center_round'] = 1000 * (filtered_price_spb['cityCenters_nearest'] // 1000)\n",
    "filtered_price_spb.groupby('center_round')['last_price'].median()"
   ]
  },
  {
   "cell_type": "code",
   "execution_count": 117,
   "metadata": {},
   "outputs": [
    {
     "data": {
      "text/plain": [
       "<matplotlib.axes._subplots.AxesSubplot at 0x2108c9a63c8>"
      ]
     },
     "execution_count": 117,
     "metadata": {},
     "output_type": "execute_result"
    },
    {
     "data": {
      "image/png": "[encoded data removed]",
      "text/plain": [
       "<Figure size 432x288 with 1 Axes>"
      ]
     },
     "metadata": {
      "needs_background": "light"
     },
     "output_type": "display_data"
    }
   ],
   "source": [
    "filtered_price_spb.plot(x='last_price', y='center_round', kind='scatter', alpha=0.05)"
   ]
  },
  {
   "cell_type": "markdown",
   "metadata": {},
   "source": [
    "Визуальная граница между центром города, где расстояния до центра ниже, а цены выше, и остальным городом, где расстояние до центра выше, а разброс цен больше, проходит по уровню 6 км. Если пользоваться данным методом анализа, то это и будет граница, отделяющая центр Петербурга от остального города.\n",
    "\n",
    "Выделить центральный район города можно и другим способом. Для этого разобьем все наблюдения на десять равных групп и оценим медианную цену для каждой из них. По сути, метод используют ту же логику, но образует группы несколько иначе. Кроме того, увеличивая и уменьшая количество групп можно более детально оценить уровень цен на той или иной удаленности от центра."
   ]
  },
  {
   "cell_type": "code",
   "execution_count": 118,
   "metadata": {},
   "outputs": [
    {
     "data": {
      "text/plain": [
       "-0.3662401016891062"
      ]
     },
     "execution_count": 118,
     "metadata": {},
     "output_type": "execute_result"
    }
   ],
   "source": [
    "filtered_price_spb.dropna(subset=['cityCenters_nearest'], inplace=True)\n",
    "filtered_price_spb['last_price'].corr(filtered_price_spb['cityCenters_nearest'])"
   ]
  },
  {
   "cell_type": "markdown",
   "metadata": {},
   "source": [
    "Коэффициент корреляции указывает на наличие слабой линейной связи между расстоянием до центра и ценой квартир, однако он не в состоянии учитывать другие виды связи."
   ]
  },
  {
   "cell_type": "code",
   "execution_count": 119,
   "metadata": {},
   "outputs": [
    {
     "data": {
      "text/plain": [
       "cut\n",
       "(207.999, 5080.0]     7600000\n",
       "(5080.0, 8462.0]      6700000\n",
       "(8462.0, 10680.0]     4900000\n",
       "(10680.0, 11825.0]    4850000\n",
       "(11825.0, 12696.5]    4950000\n",
       "(12696.5, 13732.0]    5000000\n",
       "(13732.0, 14768.0]    4850000\n",
       "(14768.0, 15723.0]    4800000\n",
       "(15723.0, 16921.0]    4600000\n",
       "(16921.0, 29493.0]    4500000\n",
       "Name: last_price, dtype: int32"
      ]
     },
     "execution_count": 119,
     "metadata": {},
     "output_type": "execute_result"
    }
   ],
   "source": [
    "filtered_price_spb['cut'] = pd.qcut(filtered_price_spb['cityCenters_nearest'], q=10)\n",
    "filtered_price_spb.groupby('cut')['last_price'].median()"
   ]
  },
  {
   "cell_type": "markdown",
   "metadata": {},
   "source": [
    "По полученным данным можно сказать, что цена в непосредственной близости от центра выше, чем на определенном удалении от нее. При этом, после определенного значения цена перестает снижаться и остается приблизительно одинаковой при все большем удалении от центра города. Значит, в данном случае коэффициент корреляции Пирсона не является адекватным инструментом анализа."
   ]
  },
  {
   "cell_type": "code",
   "execution_count": 120,
   "metadata": {},
   "outputs": [
    {
     "data": {
      "text/plain": [
       "5150000.0"
      ]
     },
     "execution_count": 120,
     "metadata": {},
     "output_type": "execute_result"
    }
   ],
   "source": [
    "filtered_price_spb['last_price'].median()"
   ]
  },
  {
   "cell_type": "markdown",
   "metadata": {},
   "source": [
    "Разобьем все квартиры в Петербурге на десять равных групп по удаленности от центра города. Посчитаем медианную цену для каждой из них. Видим, что в диапазоне от 208 до 5080 медианная цена составляет 7 600 000 рублей, в то время как в среднем по городу она равна 5 150 000 рублей. Для квартир, которые располагаются на расстоянии от 5080 до 8462 от центра медианное значение цены равно 6 700 000 рублей. Во всех прочих группах это значение меньше или равно 5 000 000 рублей. Следовательно, при использовании подобного метода исследования, в центре города будут располагаться квартиры, находящиеся в радиусе 8472 метров. Увеличим количество групп для более точного определения границы между центром и остальными частями города."
   ]
  },
  {
   "cell_type": "code",
   "execution_count": 121,
   "metadata": {},
   "outputs": [
    {
     "data": {
      "text/plain": [
       "cut\n",
       "(207.999, 2433.0]     8250000\n",
       "(2433.0, 3525.0]      7400000\n",
       "(3525.0, 4184.0]      7500000\n",
       "(4184.0, 4670.0]      7750000\n",
       "(4670.0, 5080.0]      7424000\n",
       "(5080.0, 5614.0]      7515162\n",
       "(5614.0, 6201.0]      6700000\n",
       "(6201.0, 7211.0]      6500000\n",
       "(7211.0, 8059.0]      6370000\n",
       "(8059.0, 8462.0]      6110000\n",
       "(8462.0, 9049.0]      5400000\n",
       "(9049.0, 9508.0]      4800000\n",
       "(9508.0, 9893.5]      4750000\n",
       "(9893.5, 10352.0]     4990000\n",
       "(10352.0, 10680.0]    4850000\n",
       "(10680.0, 10944.0]    4950000\n",
       "(10944.0, 11199.5]    4685000\n",
       "(11199.5, 11409.0]    4950000\n",
       "(11409.0, 11627.5]    4820000\n",
       "(11627.5, 11825.0]    4900000\n",
       "(11825.0, 11977.0]    5000000\n",
       "(11977.0, 12139.0]    4855000\n",
       "(12139.0, 12291.5]    5000000\n",
       "(12291.5, 12482.0]    4750000\n",
       "(12482.0, 12696.5]    5100000\n",
       "(12696.5, 12921.0]    4900000\n",
       "(12921.0, 13118.0]    4980000\n",
       "(13118.0, 13286.0]    5355000\n",
       "(13286.0, 13496.0]    5200000\n",
       "(13496.0, 13732.0]    4625000\n",
       "(13732.0, 13955.0]    5050000\n",
       "(13955.0, 14157.0]    4900000\n",
       "(14157.0, 14402.0]    4762500\n",
       "(14402.0, 14605.0]    4800000\n",
       "(14605.0, 14768.0]    4725000\n",
       "(14768.0, 14913.0]    4890000\n",
       "(14913.0, 15076.0]    4845000\n",
       "(15076.0, 15277.0]    4650000\n",
       "(15277.0, 15518.0]    4800000\n",
       "(15518.0, 15723.0]    4900000\n",
       "(15723.0, 15945.0]    4700000\n",
       "(15945.0, 16121.0]    4540000\n",
       "(16121.0, 16360.5]    4900000\n",
       "(16360.5, 16668.0]    4382500\n",
       "(16668.0, 16921.0]    4690000\n",
       "(16921.0, 17256.0]    4550000\n",
       "(17256.0, 17834.0]    4400000\n",
       "(17834.0, 19602.0]    4300000\n",
       "(19602.0, 21997.0]    5100000\n",
       "(21997.0, 29493.0]    4360000\n",
       "Name: last_price, dtype: int32"
      ]
     },
     "execution_count": 121,
     "metadata": {},
     "output_type": "execute_result"
    }
   ],
   "source": [
    "filtered_price_spb['cut'] = pd.qcut(filtered_price_spb['cityCenters_nearest'], q=50)\n",
    "filtered_price_spb.groupby('cut')['last_price'].median()"
   ]
  },
  {
   "cell_type": "markdown",
   "metadata": {},
   "source": [
    "При увеличении количества групп граница несколько смещается, но общая тенденция остается прежней. Отсекаем квартиры, цены на которые перестают меняться в зависимости от удаленности от центра и остаются в диапазоне от 4 000 000 до 6 000 000, то есть все квартиры удаленностью более 8 462 метров.\n",
    "\n",
    "Сверимся с картой. Для этого воспользуемся сервисом Круг: https://tech.yandex.ru/maps/jsbox/2.1/circle. Центром круга задаем Дворцовую площадь с координатами 59.93, 30.31.\n",
    "\n",
    "http://prntscr.com/qc2bh0\n",
    "\n",
    "Заметно, что в центр города по такой классификации попали не только Центральный, Василеостровский, Петроградский, и Адмиралтейский районы, но и часть Кировского (до ст. м. Автово), Приморского (до ст. м. Старая Деревня), Калининского (до ст. м. Площадь Мужества) и Красногвардейского (до ст. м. Новочеркасская) районов города. Очевидно, что многие из этих мест не относятся к центру города. Скорее, эта группа квартир может быть классифицирована как \"не слишком далеко от центра\" или \"не окраина города\".\n",
    "\n",
    "Сократим радиус до 5 614 метров — начиная с этой группы медианная цена квартир станет превышать 7 миллионов рублей. Центр круга тот же.\n",
    "\n",
    "http://prntscr.com/qc2cbg\n",
    "\n",
    "Видим, что внутри круга оказалось куда меньше лишнего. Немного сдвинем центр круга — на 59.93, 30.30 — и получим область, в которую вошли центр и объекты в непосредственной близости от него. Остановимся на значении 5 614 метров.\n",
    "\n",
    "http://prntscr.com/qc2d2u\n",
    "\n",
    "#### Этаж\n",
    "\n",
    "Для работы с коэффициентом корреляции и гистограммой переведем категории \"первый\", \"последний\", \"другой\" в числа: 1, 3 и 2 соответственно. Для этого создадим новый столбец 'floor_cats_num' и сохраним значения в него."
   ]
  },
  {
   "cell_type": "code",
   "execution_count": 122,
   "metadata": {},
   "outputs": [],
   "source": [
    "filtered_price.loc[filtered_price['floor_cats'] == \"первый\", 'floor_cats_num'] = 1\n",
    "filtered_price.loc[filtered_price['floor_cats'] == \"другой\", 'floor_cats_num'] = 2\n",
    "filtered_price.loc[filtered_price['floor_cats'] == \"последний\", 'floor_cats_num'] = 3"
   ]
  },
  {
   "cell_type": "code",
   "execution_count": 123,
   "metadata": {},
   "outputs": [
    {
     "data": {
      "text/plain": [
       "<matplotlib.axes._subplots.AxesSubplot at 0x2108ca32488>"
      ]
     },
     "execution_count": 123,
     "metadata": {},
     "output_type": "execute_result"
    },
    {
     "data": {
      "image/png": "[encoded data removed]",
      "text/plain": [
       "<Figure size 432x288 with 1 Axes>"
      ]
     },
     "metadata": {
      "needs_background": "light"
     },
     "output_type": "display_data"
    }
   ],
   "source": [
    "filtered_price.plot(x='last_price', y='floor_cats_num', kind='scatter', alpha=0.1)"
   ]
  },
  {
   "cell_type": "markdown",
   "metadata": {},
   "source": [
    "По такой гистограмме сложно сделать однозначные выводы, однако можно сказать, что на первом и последнем этажах меньше дорогих квартир. Посчитаем коэффициент корреляции."
   ]
  },
  {
   "cell_type": "code",
   "execution_count": 124,
   "metadata": {},
   "outputs": [
    {
     "data": {
      "text/plain": [
       "0.032640110890928296"
      ]
     },
     "execution_count": 124,
     "metadata": {},
     "output_type": "execute_result"
    }
   ],
   "source": [
    "filtered_price['last_price'].corr(filtered_price['floor_cats_num'])"
   ]
  },
  {
   "cell_type": "markdown",
   "metadata": {},
   "source": [
    "Коэффициент корреляции практически равен нулю. Можно с уверенностью заявить, что этот параметр крайне слабо влияет на цену квартир.\n",
    "\n",
    "#### Дата размещения\n",
    "\n",
    "Изучим зависимость цены от даты размещения: дня недели, месяца и года."
   ]
  },
  {
   "cell_type": "code",
   "execution_count": 125,
   "metadata": {},
   "outputs": [
    {
     "data": {
      "text/plain": [
       "-0.014940114648012367"
      ]
     },
     "execution_count": 125,
     "metadata": {},
     "output_type": "execute_result"
    }
   ],
   "source": [
    "filtered_price['last_price'].corr(filtered_price['pub_day'])"
   ]
  },
  {
   "cell_type": "code",
   "execution_count": 126,
   "metadata": {},
   "outputs": [
    {
     "data": {
      "text/plain": [
       "<matplotlib.axes._subplots.AxesSubplot at 0x2108a6bb408>"
      ]
     },
     "execution_count": 126,
     "metadata": {},
     "output_type": "execute_result"
    },
    {
     "data": {
      "image/png": "[encoded data removed]",
      "text/plain": [
       "<Figure size 432x288 with 1 Axes>"
      ]
     },
     "metadata": {
      "needs_background": "light"
     },
     "output_type": "display_data"
    }
   ],
   "source": [
    "filtered_price.plot(x='last_price', y='pub_day', kind='scatter', alpha=0.05)"
   ]
  },
  {
   "cell_type": "markdown",
   "metadata": {},
   "source": [
    "Здесь 0 — это первый день недели, а 6 — последний. Коэффициент корреляции стремится к нулю, график также говорит об отсутствии связи. Следовательно, день недели, в который было опубликовано объявление, никак не влияет на стоимость квартиры. Повторим те же операции для месяца и года публикации."
   ]
  },
  {
   "cell_type": "code",
   "execution_count": 127,
   "metadata": {},
   "outputs": [
    {
     "data": {
      "text/plain": [
       "0.00749312654061404"
      ]
     },
     "execution_count": 127,
     "metadata": {},
     "output_type": "execute_result"
    }
   ],
   "source": [
    "filtered_price['last_price'].corr(filtered_price['pub_month'])"
   ]
  },
  {
   "cell_type": "code",
   "execution_count": 128,
   "metadata": {},
   "outputs": [
    {
     "data": {
      "text/plain": [
       "<matplotlib.axes._subplots.AxesSubplot at 0x2108a70ee08>"
      ]
     },
     "execution_count": 128,
     "metadata": {},
     "output_type": "execute_result"
    },
    {
     "data": {
      "image/png": "[encoded data removed]",
      "text/plain": [
       "<Figure size 432x288 with 1 Axes>"
      ]
     },
     "metadata": {
      "needs_background": "light"
     },
     "output_type": "display_data"
    }
   ],
   "source": [
    "filtered_price.plot(x='last_price', y='pub_month', kind='scatter', alpha=0.05)"
   ]
  },
  {
   "cell_type": "markdown",
   "metadata": {},
   "source": [
    "Результаты примерно такие же, как и для дня недели: месяц публикации и цена квартиры никак между собой не связаны."
   ]
  },
  {
   "cell_type": "code",
   "execution_count": 129,
   "metadata": {},
   "outputs": [
    {
     "data": {
      "text/plain": [
       "-0.0012678475357295646"
      ]
     },
     "execution_count": 129,
     "metadata": {},
     "output_type": "execute_result"
    }
   ],
   "source": [
    "filtered_price['last_price'].corr(filtered_price['pub_year'])"
   ]
  },
  {
   "cell_type": "code",
   "execution_count": 130,
   "metadata": {},
   "outputs": [
    {
     "data": {
      "text/plain": [
       "<matplotlib.axes._subplots.AxesSubplot at 0x2108a76d788>"
      ]
     },
     "execution_count": 130,
     "metadata": {},
     "output_type": "execute_result"
    },
    {
     "data": {
      "image/png": "[encoded data removed]",
      "text/plain": [
       "<Figure size 432x288 with 1 Axes>"
      ]
     },
     "metadata": {
      "needs_background": "light"
     },
     "output_type": "display_data"
    }
   ],
   "source": [
    "filtered_price.plot(x='last_price', y='pub_year', kind='scatter', alpha=0.05)"
   ]
  },
  {
   "cell_type": "markdown",
   "metadata": {},
   "source": [
    "Картина для года публикации объявления выглядит несколько иначе. Несмотря на то, что каждый год, начиная с 2015, на рынке появляются квартиры во всех ценовых диапазонах, сверхдорогих и сверхдешевых квартир в 2015 и 2019 годах меньше, чем во всех остальных (понять это можно, оценив плотность расположения точек на диаграмме рассеяния).\n",
    "\n",
    "Возможно, сказывается общий неблагоприятный экономический климат в стране. Возможно, вмешиваются специфические для Петербурга и ЛО факторы. Для того, чтобы сказать наверняка, имеющихся данных недостаточно.\n",
    "\n",
    "### Населенный пункт\n",
    "\n",
    "Получим список 10 наиболее часто упоминаемых в объявлениях населенных пунктов и рассчитаем для них усредненные цены квартир и квадратного метра."
   ]
  },
  {
   "cell_type": "code",
   "execution_count": 131,
   "metadata": {},
   "outputs": [
    {
     "data": {
      "text/html": [
       "<div>\n",
       "<style scoped>\n",
       "    .dataframe tbody tr th:only-of-type {\n",
       "        vertical-align: middle;\n",
       "    }\n",
       "\n",
       "    .dataframe tbody tr th {\n",
       "        vertical-align: top;\n",
       "    }\n",
       "\n",
       "    .dataframe thead tr th {\n",
       "        text-align: left;\n",
       "    }\n",
       "\n",
       "    .dataframe thead tr:last-of-type th {\n",
       "        text-align: right;\n",
       "    }\n",
       "</style>\n",
       "<table border=\"1\" class=\"dataframe\">\n",
       "  <thead>\n",
       "    <tr>\n",
       "      <th></th>\n",
       "      <th colspan=\"3\" halign=\"left\">last_price</th>\n",
       "      <th colspan=\"3\" halign=\"left\">sqm_price</th>\n",
       "    </tr>\n",
       "    <tr>\n",
       "      <th></th>\n",
       "      <th>count</th>\n",
       "      <th>mean</th>\n",
       "      <th>median</th>\n",
       "      <th>count</th>\n",
       "      <th>mean</th>\n",
       "      <th>median</th>\n",
       "    </tr>\n",
       "    <tr>\n",
       "      <th>locality_name</th>\n",
       "      <th></th>\n",
       "      <th></th>\n",
       "      <th></th>\n",
       "      <th></th>\n",
       "      <th></th>\n",
       "      <th></th>\n",
       "    </tr>\n",
       "  </thead>\n",
       "  <tbody>\n",
       "    <tr>\n",
       "      <th>Санкт-Петербург</th>\n",
       "      <td>13526.0</td>\n",
       "      <td>5.682656e+06</td>\n",
       "      <td>5150000.0</td>\n",
       "      <td>13526</td>\n",
       "      <td>105310.451382</td>\n",
       "      <td>101754.385965</td>\n",
       "    </tr>\n",
       "    <tr>\n",
       "      <th>посёлок Мурино</th>\n",
       "      <td>493.0</td>\n",
       "      <td>3.739857e+06</td>\n",
       "      <td>3450000.0</td>\n",
       "      <td>493</td>\n",
       "      <td>85076.238902</td>\n",
       "      <td>84285.714286</td>\n",
       "    </tr>\n",
       "    <tr>\n",
       "      <th>Кудрово</th>\n",
       "      <td>446.0</td>\n",
       "      <td>4.404085e+06</td>\n",
       "      <td>3945000.0</td>\n",
       "      <td>446</td>\n",
       "      <td>94900.635628</td>\n",
       "      <td>95133.576199</td>\n",
       "    </tr>\n",
       "    <tr>\n",
       "      <th>посёлок Шушары</th>\n",
       "      <td>435.0</td>\n",
       "      <td>4.124726e+06</td>\n",
       "      <td>3990000.0</td>\n",
       "      <td>435</td>\n",
       "      <td>78277.935520</td>\n",
       "      <td>76666.666667</td>\n",
       "    </tr>\n",
       "    <tr>\n",
       "      <th>Всеволожск</th>\n",
       "      <td>388.0</td>\n",
       "      <td>3.771874e+06</td>\n",
       "      <td>3500000.0</td>\n",
       "      <td>388</td>\n",
       "      <td>67281.171559</td>\n",
       "      <td>65789.473684</td>\n",
       "    </tr>\n",
       "    <tr>\n",
       "      <th>Пушкин</th>\n",
       "      <td>338.0</td>\n",
       "      <td>5.334385e+06</td>\n",
       "      <td>4970000.0</td>\n",
       "      <td>338</td>\n",
       "      <td>100290.598633</td>\n",
       "      <td>98325.892857</td>\n",
       "    </tr>\n",
       "    <tr>\n",
       "      <th>Колпино</th>\n",
       "      <td>336.0</td>\n",
       "      <td>3.839849e+06</td>\n",
       "      <td>3600000.0</td>\n",
       "      <td>336</td>\n",
       "      <td>75185.478229</td>\n",
       "      <td>74689.878234</td>\n",
       "    </tr>\n",
       "    <tr>\n",
       "      <th>посёлок Парголово</th>\n",
       "      <td>323.0</td>\n",
       "      <td>4.514073e+06</td>\n",
       "      <td>4140000.0</td>\n",
       "      <td>323</td>\n",
       "      <td>90289.778393</td>\n",
       "      <td>91917.591125</td>\n",
       "    </tr>\n",
       "    <tr>\n",
       "      <th>Гатчина</th>\n",
       "      <td>304.0</td>\n",
       "      <td>3.423419e+06</td>\n",
       "      <td>3085000.0</td>\n",
       "      <td>304</td>\n",
       "      <td>68432.443926</td>\n",
       "      <td>67746.286082</td>\n",
       "    </tr>\n",
       "    <tr>\n",
       "      <th>Выборг</th>\n",
       "      <td>234.0</td>\n",
       "      <td>3.189286e+06</td>\n",
       "      <td>2898500.0</td>\n",
       "      <td>234</td>\n",
       "      <td>58027.737264</td>\n",
       "      <td>58233.006089</td>\n",
       "    </tr>\n",
       "  </tbody>\n",
       "</table>\n",
       "</div>"
      ],
      "text/plain": [
       "                  last_price                          sqm_price  \\\n",
       "                       count          mean     median     count   \n",
       "locality_name                                                     \n",
       "Санкт-Петербург      13526.0  5.682656e+06  5150000.0     13526   \n",
       "посёлок Мурино         493.0  3.739857e+06  3450000.0       493   \n",
       "Кудрово                446.0  4.404085e+06  3945000.0       446   \n",
       "посёлок Шушары         435.0  4.124726e+06  3990000.0       435   \n",
       "Всеволожск             388.0  3.771874e+06  3500000.0       388   \n",
       "Пушкин                 338.0  5.334385e+06  4970000.0       338   \n",
       "Колпино                336.0  3.839849e+06  3600000.0       336   \n",
       "посёлок Парголово      323.0  4.514073e+06  4140000.0       323   \n",
       "Гатчина                304.0  3.423419e+06  3085000.0       304   \n",
       "Выборг                 234.0  3.189286e+06  2898500.0       234   \n",
       "\n",
       "                                                 \n",
       "                            mean         median  \n",
       "locality_name                                    \n",
       "Санкт-Петербург    105310.451382  101754.385965  \n",
       "посёлок Мурино      85076.238902   84285.714286  \n",
       "Кудрово             94900.635628   95133.576199  \n",
       "посёлок Шушары      78277.935520   76666.666667  \n",
       "Всеволожск          67281.171559   65789.473684  \n",
       "Пушкин             100290.598633   98325.892857  \n",
       "Колпино             75185.478229   74689.878234  \n",
       "посёлок Парголово   90289.778393   91917.591125  \n",
       "Гатчина             68432.443926   67746.286082  \n",
       "Выборг              58027.737264   58233.006089  "
      ]
     },
     "execution_count": 131,
     "metadata": {},
     "output_type": "execute_result"
    }
   ],
   "source": [
    "filtered_price.pivot_table(index='locality_name', values=['last_price', 'sqm_price'], aggfunc=('count', 'mean', 'median')).sort_values(by=('sqm_price','count'), ascending=False).head(10)"
   ]
  },
  {
   "cell_type": "markdown",
   "metadata": {},
   "source": [
    "В топ 3 самых дорогих квартир (как по средней, так и по медианной цене) попали Санкт-Петербург, Пушкин и поселок Парголово.\n",
    "\n",
    "В топ 3 самых дешевых квартир (как по средней, так и по медианной цене) вошли Выборг, Гатчина и поселок Мурино.\n",
    "\n",
    "Цена квадратного метра оказалась максимальной в Санкт-Петербурге и составила 101 754 рублей. Минимальной — в Выборге, 58 233 рублей. Цены квадратного метра в Пушкине, Парголово, Гатчине и Мурино составили соответственно: 98 325, 91 917, 67 746 и 84 285 рублей.\n",
    "\n",
    "### Квартиры в центре\n",
    "\n",
    "Проанализируем квартиры в центре. Насколько они отличаются от всех остальных предложений? Для этого возьмем квартиры в Санкт-Петербурге с удаленностью от центра не более чем на 5 700 метров (значение берем из уже проведенного нами анализа). Сравним общую площадь квартир."
   ]
  },
  {
   "cell_type": "code",
   "execution_count": 132,
   "metadata": {},
   "outputs": [
    {
     "name": "stdout",
     "output_type": "stream",
     "text": [
      "Медиана и среднее общей площади для квартир в центре:\n",
      "68.0\n",
      "70.31749848576625\n",
      "\n",
      "Медиана и среднее общей площади для всех квартир в Петербурге:\n",
      "50.8\n",
      "54.91883483661082\n"
     ]
    }
   ],
   "source": [
    "print('Медиана и среднее общей площади для квартир в центре:')\n",
    "print(filtered_price_spb.loc[filtered_price_spb['cityCenters_nearest'] < 5700, 'total_area'].median())\n",
    "print(filtered_price_spb.loc[filtered_price_spb['cityCenters_nearest'] < 5700, 'total_area'].mean())\n",
    "print()\n",
    "\n",
    "print('Медиана и среднее общей площади для всех квартир в Петербурге:')\n",
    "print(filtered_price_spb['total_area'].median())\n",
    "print(filtered_price_spb['total_area'].mean())"
   ]
  },
  {
   "cell_type": "markdown",
   "metadata": {},
   "source": [
    "Заметно, насколько выше общая площадь квартир  в центре по сравнению с этим же значением в среднем по городу. Это объясняется тем, что недвижимость в центре дороже. Бюджетное жилье с меньшим метражом строится на окраинах, в то время как в более дорогих районах и общая площадь квартир будет больше. Сравним цены."
   ]
  },
  {
   "cell_type": "code",
   "execution_count": 133,
   "metadata": {},
   "outputs": [
    {
     "name": "stdout",
     "output_type": "stream",
     "text": [
      "Медиана и среднее цены для квартир в центре:\n",
      "7600000.0\n",
      "7674618.407026045\n",
      "\n",
      "Медиана и среднее цены для всех квартир в Петербурге:\n",
      "5150000.0\n",
      "5682656.127458229\n"
     ]
    }
   ],
   "source": [
    "print('Медиана и среднее цены для квартир в центре:')\n",
    "print(filtered_price_spb.loc[filtered_price_spb['cityCenters_nearest'] < 5700, 'last_price'].median())\n",
    "print(filtered_price_spb.loc[filtered_price_spb['cityCenters_nearest'] < 5700, 'last_price'].mean())\n",
    "print()\n",
    "\n",
    "print('Медиана и среднее цены для всех квартир в Петербурге:')\n",
    "print(filtered_price_spb['last_price'].median())\n",
    "print(filtered_price_spb['last_price'].mean())"
   ]
  },
  {
   "cell_type": "markdown",
   "metadata": {},
   "source": [
    "Квартиры в центре заметно дороже тех, что расположены за его пределами. Объясняется это теми же факторами, что и в предыдущем пункте: престижность, удобство расположения, больший метраж квартир. Сравним количество комнат."
   ]
  },
  {
   "cell_type": "code",
   "execution_count": 134,
   "metadata": {},
   "outputs": [
    {
     "name": "stdout",
     "output_type": "stream",
     "text": [
      "Медиана и среднее числа комнат для квартир в центре:\n",
      "2.0\n",
      "2.490006056935191\n",
      "\n",
      "Медиана и среднее числа комнат для всех квартир в Петербурге:\n",
      "2.0\n",
      "1.9883927251219873\n"
     ]
    }
   ],
   "source": [
    "print('Медиана и среднее числа комнат для квартир в центре:')\n",
    "print(filtered_price_spb.loc[filtered_price_spb['cityCenters_nearest'] < 5700, 'rooms'].median())\n",
    "print(filtered_price_spb.loc[filtered_price_spb['cityCenters_nearest'] < 5700, 'rooms'].mean())\n",
    "print()\n",
    "\n",
    "print('Медиана и среднее числа комнат для всех квартир в Петербурге:')\n",
    "print(filtered_price_spb['rooms'].median())\n",
    "print(filtered_price_spb['rooms'].mean())"
   ]
  },
  {
   "cell_type": "markdown",
   "metadata": {},
   "source": [
    "Медианные значения одинаковы (т. к. число комнат — всегда целое число) и равны 2, а вот среднее различается очень существенно. Квартиры в центре в среднем имеют на полкомнаты больше, чем в среднем по городу. Объясняется это расхождение факторами, уже описанными выше."
   ]
  },
  {
   "cell_type": "code",
   "execution_count": 135,
   "metadata": {},
   "outputs": [
    {
     "name": "stdout",
     "output_type": "stream",
     "text": [
      "Медиана и среднее высоты потолков для квартир в центре:\n",
      "3.0\n",
      "2.9679164142943777\n",
      "\n",
      "Медиана и среднее высоты потолков для всех квартир в Петербурге:\n",
      "2.65\n",
      "2.6981502291881916\n"
     ]
    }
   ],
   "source": [
    "print('Медиана и среднее высоты потолков для квартир в центре:')\n",
    "print(filtered_price_spb.loc[filtered_price_spb['cityCenters_nearest'] < 5700, 'ceiling_height'].median())\n",
    "print(filtered_price_spb.loc[filtered_price_spb['cityCenters_nearest'] < 5700, 'ceiling_height'].mean())\n",
    "print()\n",
    "\n",
    "print('Медиана и среднее высоты потолков для всех квартир в Петербурге:')\n",
    "print(filtered_price_spb['ceiling_height'].median())\n",
    "print(filtered_price_spb['ceiling_height'].mean())"
   ]
  },
  {
   "cell_type": "markdown",
   "metadata": {},
   "source": [
    "В среднем потолки в квартирах в центре также заметно выше, что объясняется наличием большого количества зданий из старого фонда, где высота потолков выше, чем в новых домах.\n",
    "\n",
    "### Вывод\n",
    "\n",
    "На заключительном этапе работы удалось рассчитать ряд ключевых значений, заявленных как цель проведения данного исследования.\n",
    "\n",
    "В ходе анализа:\n",
    "\n",
    "- избавились от аномальных значений(выбросов), после чего рассчитали площадь, цену, число комнат и высоту потолков, характерные для рынка недвижимости Санкт-Петербурга и Ленинградской области в 2014–2019 гг., снабдив расчеты графиками и необходимыми пояснениями.\n",
    "\n",
    "- подсчитали время продажи квартиры и выяснили, какие сроки продажи квартиры можно считать приемлемыми, а какие аномально длинными (от 183 дней и более) и короткими (до 42 дней).\n",
    "\n",
    "- установили связь между рядом параметров и ценой квартиры, выяснив, что наибольшее влияние на цену квартиры имеют стоимость квадратного метра, число комнат и удаленность от центра (для последнего связь имеет нелинейный характер).\n",
    "\n",
    "- нашли 3 населенных пункта с самыми дорогими и 3 населенных пункта с самыми дешевыми квартирами из списка 10 наиболее часто встречающихся в выборке. Самые дорогие квартиры в Санкт-Петербурге, Пушкине и Парголово. Самые дешевые — в Выборге, Гатчине и Мурино.\n",
    "\n",
    "- определили радиус окружности, внутри который находится центр Санкт-Петербурга. Его величина составила порядка 5 700 м.\n",
    "\n",
    "- наконец, сравнили квартиры в центре Петербурга со среднегородскими значениями по ряду параметров: площадь, цена, число комнат, высота потолков. Квартиры в центре в среднем имеют более высокие потолки, большее количество комнат и стоят дороже.\n",
    "\n",
    "## Шаг 5. Общий вывод\n",
    "\n",
    "В рамках выполнения проекта мы подготовили данные, удалив некорректные значения, заполнили пропуски (там где это было возможно) или оставили их пустыми (если адекватно заполнить пропущенные значения не представлялось возможным), а также изменили тип данных нескольких столбцов на более подходящий.\n",
    "\n",
    "На основе очищенных данных мы рассчитали цену квадратного метра, день недели, месяц и год публикации объявления, этаж квартиры (первый, последний, другой), соотношение жилой и общей площади, а также отношение площади кухни к общей площади квартиры.\n",
    "\n",
    "На следующем этапе работы, анализируя графики и коэффициенты корреляции Пирсона, мы выяснили, какие факторы имеют наибольшее влияние на цену квартиры. Оказалось, что это стоимость квадратного метра, число комнат и удаленность от центра. Здесь же определили 3 населенных пункта с самыми дорогими и 3 населенных пункта с самыми дешевыми квартирами из списка 10 наиболее популярных для данной выборки.\n",
    "\n",
    "На завершающем этапе по собственным критериям определили границу центра Петербурга и сравнили объекты недвижимости, расположенные внутри данной границы со средними значениями для всего города. Квартиры в центре в среднем имеют более высокие потолки, большее количество комнат и стоят дороже."
   ]
  }
 ],
 "metadata": {
  "kernelspec": {
   "display_name": "Python 3",
   "language": "python",
   "name": "python3"
  },
  "language_info": {
   "codemirror_mode": {
    "name": "ipython",
    "version": 3
   },
   "file_extension": ".py",
   "mimetype": "text/x-python",
   "name": "python",
   "nbconvert_exporter": "python",
   "pygments_lexer": "ipython3",
   "version": "3.7.6"
  }
 },
 "nbformat": 4,
 "nbformat_minor": 2
}
