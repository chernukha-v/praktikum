{
 "cells": [
  {
   "cell_type": "markdown",
   "metadata": {},
   "source": [
    "# Анализ пассажирских авиаперевозок\n",
    "\n",
    "Шаги с первого по третий включительно выполнялись в онлайн-тренажере. По итогу имеем три таблицы с данными (подробнее о каждой из них ниже), которыми и будем пользоваться для расчета необходимых показателей в Python.\n",
    "\n",
    "## Шаг 4. Аналитика средствами Python\n",
    "\n",
    "Имеются файлы, в которых содержатся результаты запросов из предыдущих заданий.\n",
    "/datasets/query_1.csv — результат первого запроса. В нём содержится следующая информация:\n",
    "- model — модели самолета\n",
    "- flights_amount — количество рейсов для каждой модели самолетов model в сентябре 2018 года\n",
    "\n",
    "/datasets/query_3.csv — результат третьего запроса. В нём содержится следующая информация:\n",
    "- city — городах\n",
    "- average_flights — среднем количестве рейсов, прибывающих в город city за день в сентябре 2018 года\n",
    "\n",
    "Для этих двух наборов данных нужно:\n",
    "- импортировать файлы;\n",
    "- изучить данные в них;\n",
    "- проверить типы данных на корректность;\n",
    "- выбрать топ-10 городов по количеству рейсов;\n",
    "- построить графики: модели самолетов и количество рейсов, города и количество рейсов, топ-10 городов и количество рейсов;\n",
    "- сделать выводы по каждому из графиков, пояснить результат.\n",
    "\n",
    "Также имеется /datasets/query_last.csv — результат последнего запроса. В нём следующая информация:\n",
    "\n",
    "- week_number — номер недели;\n",
    "- ticket_amount — количество проданных билетов за неделю;\n",
    "- festival_week — есть ли на этой неделе фестиваль;\n",
    "- festival_name — название фестиваля.\n",
    "\n",
    "Необходимо проверить гипотезу: «Средний спрос на билеты во время фестивалей не отличается от среднего спроса на билеты в обычное время».\n",
    "\n",
    "Начнем с импорта необходимых библиотек."
   ]
  },
  {
   "cell_type": "code",
   "execution_count": 27,
   "metadata": {},
   "outputs": [],
   "source": [
    "import pandas as pd\n",
    "import numpy as np\n",
    "import seaborn as sns\n",
    "import matplotlib.pyplot as plt\n",
    "from scipy import stats as st"
   ]
  },
  {
   "cell_type": "markdown",
   "metadata": {},
   "source": [
    "Импортируем данные:"
   ]
  },
  {
   "cell_type": "code",
   "execution_count": 2,
   "metadata": {},
   "outputs": [
    {
     "data": {
      "text/html": [
       "<div>\n",
       "<style scoped>\n",
       "    .dataframe tbody tr th:only-of-type {\n",
       "        vertical-align: middle;\n",
       "    }\n",
       "\n",
       "    .dataframe tbody tr th {\n",
       "        vertical-align: top;\n",
       "    }\n",
       "\n",
       "    .dataframe thead th {\n",
       "        text-align: right;\n",
       "    }\n",
       "</style>\n",
       "<table border=\"1\" class=\"dataframe\">\n",
       "  <thead>\n",
       "    <tr style=\"text-align: right;\">\n",
       "      <th></th>\n",
       "      <th>model</th>\n",
       "      <th>flights_amount</th>\n",
       "    </tr>\n",
       "  </thead>\n",
       "  <tbody>\n",
       "    <tr>\n",
       "      <th>0</th>\n",
       "      <td>Airbus A319-100</td>\n",
       "      <td>607</td>\n",
       "    </tr>\n",
       "    <tr>\n",
       "      <th>1</th>\n",
       "      <td>Airbus A321-200</td>\n",
       "      <td>960</td>\n",
       "    </tr>\n",
       "    <tr>\n",
       "      <th>2</th>\n",
       "      <td>Boeing 737-300</td>\n",
       "      <td>630</td>\n",
       "    </tr>\n",
       "    <tr>\n",
       "      <th>3</th>\n",
       "      <td>Boeing 767-300</td>\n",
       "      <td>600</td>\n",
       "    </tr>\n",
       "    <tr>\n",
       "      <th>4</th>\n",
       "      <td>Boeing 777-300</td>\n",
       "      <td>300</td>\n",
       "    </tr>\n",
       "    <tr>\n",
       "      <th>5</th>\n",
       "      <td>Bombardier CRJ-200</td>\n",
       "      <td>4446</td>\n",
       "    </tr>\n",
       "    <tr>\n",
       "      <th>6</th>\n",
       "      <td>Cessna 208 Caravan</td>\n",
       "      <td>4557</td>\n",
       "    </tr>\n",
       "    <tr>\n",
       "      <th>7</th>\n",
       "      <td>Sukhoi SuperJet-100</td>\n",
       "      <td>4185</td>\n",
       "    </tr>\n",
       "  </tbody>\n",
       "</table>\n",
       "</div>"
      ],
      "text/plain": [
       "                 model  flights_amount\n",
       "0      Airbus A319-100             607\n",
       "1      Airbus A321-200             960\n",
       "2       Boeing 737-300             630\n",
       "3       Boeing 767-300             600\n",
       "4       Boeing 777-300             300\n",
       "5   Bombardier CRJ-200            4446\n",
       "6   Cessna 208 Caravan            4557\n",
       "7  Sukhoi SuperJet-100            4185"
      ]
     },
     "execution_count": 2,
     "metadata": {},
     "output_type": "execute_result"
    }
   ],
   "source": [
    "df_planes = pd.read_csv('query_1.csv')\n",
    "df_planes"
   ]
  },
  {
   "cell_type": "markdown",
   "metadata": {},
   "source": [
    "В таблице, которая является результатом первого запроса, всего 8 строк и 2 столбца, поэтому корректность импорта и целостность данных можно оценить чисто визуально, не прибегая ни к каким дополнительным средствам. Видим, что данные импортированы корректно. Пропусков и аномальных значений не наблюдается."
   ]
  },
  {
   "cell_type": "code",
   "execution_count": 3,
   "metadata": {},
   "outputs": [
    {
     "data": {
      "text/html": [
       "<div>\n",
       "<style scoped>\n",
       "    .dataframe tbody tr th:only-of-type {\n",
       "        vertical-align: middle;\n",
       "    }\n",
       "\n",
       "    .dataframe tbody tr th {\n",
       "        vertical-align: top;\n",
       "    }\n",
       "\n",
       "    .dataframe thead th {\n",
       "        text-align: right;\n",
       "    }\n",
       "</style>\n",
       "<table border=\"1\" class=\"dataframe\">\n",
       "  <thead>\n",
       "    <tr style=\"text-align: right;\">\n",
       "      <th></th>\n",
       "      <th>city</th>\n",
       "      <th>average_flights</th>\n",
       "    </tr>\n",
       "  </thead>\n",
       "  <tbody>\n",
       "    <tr>\n",
       "      <th>0</th>\n",
       "      <td>Абакан</td>\n",
       "      <td>3.870968</td>\n",
       "    </tr>\n",
       "    <tr>\n",
       "      <th>1</th>\n",
       "      <td>Анадырь</td>\n",
       "      <td>1.000000</td>\n",
       "    </tr>\n",
       "    <tr>\n",
       "      <th>2</th>\n",
       "      <td>Анапа</td>\n",
       "      <td>2.161290</td>\n",
       "    </tr>\n",
       "    <tr>\n",
       "      <th>3</th>\n",
       "      <td>Архангельск</td>\n",
       "      <td>5.354839</td>\n",
       "    </tr>\n",
       "    <tr>\n",
       "      <th>4</th>\n",
       "      <td>Астрахань</td>\n",
       "      <td>2.451613</td>\n",
       "    </tr>\n",
       "    <tr>\n",
       "      <th>...</th>\n",
       "      <td>...</td>\n",
       "      <td>...</td>\n",
       "    </tr>\n",
       "    <tr>\n",
       "      <th>96</th>\n",
       "      <td>Чита</td>\n",
       "      <td>1.580645</td>\n",
       "    </tr>\n",
       "    <tr>\n",
       "      <th>97</th>\n",
       "      <td>Элиста</td>\n",
       "      <td>4.870968</td>\n",
       "    </tr>\n",
       "    <tr>\n",
       "      <th>98</th>\n",
       "      <td>Южно-Сахалинск</td>\n",
       "      <td>4.290323</td>\n",
       "    </tr>\n",
       "    <tr>\n",
       "      <th>99</th>\n",
       "      <td>Якутск</td>\n",
       "      <td>2.741935</td>\n",
       "    </tr>\n",
       "    <tr>\n",
       "      <th>100</th>\n",
       "      <td>Ярославль</td>\n",
       "      <td>1.322581</td>\n",
       "    </tr>\n",
       "  </tbody>\n",
       "</table>\n",
       "<p>101 rows × 2 columns</p>\n",
       "</div>"
      ],
      "text/plain": [
       "               city  average_flights\n",
       "0            Абакан         3.870968\n",
       "1           Анадырь         1.000000\n",
       "2             Анапа         2.161290\n",
       "3       Архангельск         5.354839\n",
       "4         Астрахань         2.451613\n",
       "..              ...              ...\n",
       "96             Чита         1.580645\n",
       "97           Элиста         4.870968\n",
       "98   Южно-Сахалинск         4.290323\n",
       "99           Якутск         2.741935\n",
       "100       Ярославль         1.322581\n",
       "\n",
       "[101 rows x 2 columns]"
      ]
     },
     "execution_count": 3,
     "metadata": {},
     "output_type": "execute_result"
    }
   ],
   "source": [
    "df_cities = pd.read_csv('query_3.csv')\n",
    "df_cities"
   ]
  },
  {
   "cell_type": "markdown",
   "metadata": {},
   "source": [
    "Вторая таблица куда более объемная. В ней названия для 101 города, а также среднее количество прибывающих ежедневно рейсов за сентябрь 2018 года. Изучим содержимое обеих таблиц более подробно."
   ]
  },
  {
   "cell_type": "code",
   "execution_count": 4,
   "metadata": {},
   "outputs": [
    {
     "data": {
      "text/html": [
       "<div>\n",
       "<style scoped>\n",
       "    .dataframe tbody tr th:only-of-type {\n",
       "        vertical-align: middle;\n",
       "    }\n",
       "\n",
       "    .dataframe tbody tr th {\n",
       "        vertical-align: top;\n",
       "    }\n",
       "\n",
       "    .dataframe thead th {\n",
       "        text-align: right;\n",
       "    }\n",
       "</style>\n",
       "<table border=\"1\" class=\"dataframe\">\n",
       "  <thead>\n",
       "    <tr style=\"text-align: right;\">\n",
       "      <th></th>\n",
       "      <th>flights_amount</th>\n",
       "    </tr>\n",
       "  </thead>\n",
       "  <tbody>\n",
       "    <tr>\n",
       "      <th>count</th>\n",
       "      <td>8.000000</td>\n",
       "    </tr>\n",
       "    <tr>\n",
       "      <th>mean</th>\n",
       "      <td>2035.625000</td>\n",
       "    </tr>\n",
       "    <tr>\n",
       "      <th>std</th>\n",
       "      <td>1965.203947</td>\n",
       "    </tr>\n",
       "    <tr>\n",
       "      <th>min</th>\n",
       "      <td>300.000000</td>\n",
       "    </tr>\n",
       "    <tr>\n",
       "      <th>25%</th>\n",
       "      <td>605.250000</td>\n",
       "    </tr>\n",
       "    <tr>\n",
       "      <th>50%</th>\n",
       "      <td>795.000000</td>\n",
       "    </tr>\n",
       "    <tr>\n",
       "      <th>75%</th>\n",
       "      <td>4250.250000</td>\n",
       "    </tr>\n",
       "    <tr>\n",
       "      <th>max</th>\n",
       "      <td>4557.000000</td>\n",
       "    </tr>\n",
       "  </tbody>\n",
       "</table>\n",
       "</div>"
      ],
      "text/plain": [
       "       flights_amount\n",
       "count        8.000000\n",
       "mean      2035.625000\n",
       "std       1965.203947\n",
       "min        300.000000\n",
       "25%        605.250000\n",
       "50%        795.000000\n",
       "75%       4250.250000\n",
       "max       4557.000000"
      ]
     },
     "execution_count": 4,
     "metadata": {},
     "output_type": "execute_result"
    }
   ],
   "source": [
    "df_planes.describe()"
   ]
  },
  {
   "cell_type": "markdown",
   "metadata": {},
   "source": [
    "Минимальное количество рейсов в месяц произведено на самолете Boeing 777-300 и равно 300 полетам. Максимальное — на самолете Cessna 208 Caravan и равно 4557. Среднее и медианное значения равны соответственно 2036 и 795. Такая разница между средним и медианой говорит о том, что в выборке присутствует относительно большое число наблюдений с низкими значениями. Действительно, из 8 моделей самолетов 5 совершили менее 1000 рейсов в месяц, в то время как 3 оставшиеся — больше 4000. Удостоверимся в том, что типы данных в таблице указаны корректно."
   ]
  },
  {
   "cell_type": "code",
   "execution_count": 5,
   "metadata": {},
   "outputs": [
    {
     "name": "stdout",
     "output_type": "stream",
     "text": [
      "<class 'pandas.core.frame.DataFrame'>\n",
      "RangeIndex: 8 entries, 0 to 7\n",
      "Data columns (total 2 columns):\n",
      " #   Column          Non-Null Count  Dtype \n",
      "---  ------          --------------  ----- \n",
      " 0   model           8 non-null      object\n",
      " 1   flights_amount  8 non-null      int64 \n",
      "dtypes: int64(1), object(1)\n",
      "memory usage: 256.0+ bytes\n"
     ]
    }
   ],
   "source": [
    "df_planes.info()"
   ]
  },
  {
   "cell_type": "markdown",
   "metadata": {},
   "source": [
    "Столбцу с названиями моделей самолетов соответствует текстовый тип данных, столбцу с количеством полетов — целочисленный. Все правильно. Более подробно изучим таблицу с данными о количестве прибывших в различные города рейсов."
   ]
  },
  {
   "cell_type": "code",
   "execution_count": 6,
   "metadata": {},
   "outputs": [
    {
     "data": {
      "text/html": [
       "<div>\n",
       "<style scoped>\n",
       "    .dataframe tbody tr th:only-of-type {\n",
       "        vertical-align: middle;\n",
       "    }\n",
       "\n",
       "    .dataframe tbody tr th {\n",
       "        vertical-align: top;\n",
       "    }\n",
       "\n",
       "    .dataframe thead th {\n",
       "        text-align: right;\n",
       "    }\n",
       "</style>\n",
       "<table border=\"1\" class=\"dataframe\">\n",
       "  <thead>\n",
       "    <tr style=\"text-align: right;\">\n",
       "      <th></th>\n",
       "      <th>average_flights</th>\n",
       "    </tr>\n",
       "  </thead>\n",
       "  <tbody>\n",
       "    <tr>\n",
       "      <th>count</th>\n",
       "      <td>101.000000</td>\n",
       "    </tr>\n",
       "    <tr>\n",
       "      <th>mean</th>\n",
       "      <td>5.494189</td>\n",
       "    </tr>\n",
       "    <tr>\n",
       "      <th>std</th>\n",
       "      <td>13.119790</td>\n",
       "    </tr>\n",
       "    <tr>\n",
       "      <th>min</th>\n",
       "      <td>1.000000</td>\n",
       "    </tr>\n",
       "    <tr>\n",
       "      <th>25%</th>\n",
       "      <td>2.000000</td>\n",
       "    </tr>\n",
       "    <tr>\n",
       "      <th>50%</th>\n",
       "      <td>3.000000</td>\n",
       "    </tr>\n",
       "    <tr>\n",
       "      <th>75%</th>\n",
       "      <td>5.870968</td>\n",
       "    </tr>\n",
       "    <tr>\n",
       "      <th>max</th>\n",
       "      <td>129.774194</td>\n",
       "    </tr>\n",
       "  </tbody>\n",
       "</table>\n",
       "</div>"
      ],
      "text/plain": [
       "       average_flights\n",
       "count       101.000000\n",
       "mean          5.494189\n",
       "std          13.119790\n",
       "min           1.000000\n",
       "25%           2.000000\n",
       "50%           3.000000\n",
       "75%           5.870968\n",
       "max         129.774194"
      ]
     },
     "execution_count": 6,
     "metadata": {},
     "output_type": "execute_result"
    }
   ],
   "source": [
    "df_cities.describe()"
   ]
  },
  {
   "cell_type": "code",
   "execution_count": 7,
   "metadata": {},
   "outputs": [
    {
     "data": {
      "text/plain": [
       "city               Анадырь\n",
       "average_flights          1\n",
       "Name: 1, dtype: object"
      ]
     },
     "execution_count": 7,
     "metadata": {},
     "output_type": "execute_result"
    }
   ],
   "source": [
    "df_cities.loc[df_cities['average_flights'].idxmin()]"
   ]
  },
  {
   "cell_type": "code",
   "execution_count": 8,
   "metadata": {},
   "outputs": [
    {
     "data": {
      "text/plain": [
       "city                Москва\n",
       "average_flights    129.774\n",
       "Name: 43, dtype: object"
      ]
     },
     "execution_count": 8,
     "metadata": {},
     "output_type": "execute_result"
    }
   ],
   "source": [
    "df_cities.loc[df_cities['average_flights'].idxmax()]"
   ]
  },
  {
   "cell_type": "markdown",
   "metadata": {},
   "source": [
    "Минимальное значение равно всего 1 полету в день, ему соответствует город Анадырь (возможно, это не единственный город с таким значением). Максимальное — почти 130. Очевидно, что это Москва и только Москва."
   ]
  },
  {
   "cell_type": "code",
   "execution_count": 9,
   "metadata": {},
   "outputs": [
    {
     "name": "stdout",
     "output_type": "stream",
     "text": [
      "<class 'pandas.core.frame.DataFrame'>\n",
      "RangeIndex: 101 entries, 0 to 100\n",
      "Data columns (total 2 columns):\n",
      " #   Column           Non-Null Count  Dtype  \n",
      "---  ------           --------------  -----  \n",
      " 0   city             101 non-null    object \n",
      " 1   average_flights  101 non-null    float64\n",
      "dtypes: float64(1), object(1)\n",
      "memory usage: 1.7+ KB\n"
     ]
    }
   ],
   "source": [
    "df_cities.info()"
   ]
  },
  {
   "cell_type": "markdown",
   "metadata": {},
   "source": [
    "Пропусков нет, тип данных для обоих столбцов (object для названия городов, float для среднего количества полетов) выбран корректно. Получим таблицу, содержащую топ-10 городов по количеству ежедневно прибывающих рейсов."
   ]
  },
  {
   "cell_type": "code",
   "execution_count": 10,
   "metadata": {},
   "outputs": [
    {
     "data": {
      "text/html": [
       "<div>\n",
       "<style scoped>\n",
       "    .dataframe tbody tr th:only-of-type {\n",
       "        vertical-align: middle;\n",
       "    }\n",
       "\n",
       "    .dataframe tbody tr th {\n",
       "        vertical-align: top;\n",
       "    }\n",
       "\n",
       "    .dataframe thead th {\n",
       "        text-align: right;\n",
       "    }\n",
       "</style>\n",
       "<table border=\"1\" class=\"dataframe\">\n",
       "  <thead>\n",
       "    <tr style=\"text-align: right;\">\n",
       "      <th></th>\n",
       "      <th>city</th>\n",
       "      <th>average_flights</th>\n",
       "    </tr>\n",
       "  </thead>\n",
       "  <tbody>\n",
       "    <tr>\n",
       "      <th>43</th>\n",
       "      <td>Москва</td>\n",
       "      <td>129.774194</td>\n",
       "    </tr>\n",
       "    <tr>\n",
       "      <th>70</th>\n",
       "      <td>Санкт-Петербург</td>\n",
       "      <td>31.161290</td>\n",
       "    </tr>\n",
       "    <tr>\n",
       "      <th>54</th>\n",
       "      <td>Новосибирск</td>\n",
       "      <td>17.322581</td>\n",
       "    </tr>\n",
       "    <tr>\n",
       "      <th>33</th>\n",
       "      <td>Красноярск</td>\n",
       "      <td>11.580645</td>\n",
       "    </tr>\n",
       "    <tr>\n",
       "      <th>20</th>\n",
       "      <td>Екатеринбург</td>\n",
       "      <td>11.322581</td>\n",
       "    </tr>\n",
       "    <tr>\n",
       "      <th>67</th>\n",
       "      <td>Ростов-на-Дону</td>\n",
       "      <td>10.193548</td>\n",
       "    </tr>\n",
       "    <tr>\n",
       "      <th>63</th>\n",
       "      <td>Пермь</td>\n",
       "      <td>10.129032</td>\n",
       "    </tr>\n",
       "    <tr>\n",
       "      <th>10</th>\n",
       "      <td>Брянск</td>\n",
       "      <td>10.000000</td>\n",
       "    </tr>\n",
       "    <tr>\n",
       "      <th>74</th>\n",
       "      <td>Сочи</td>\n",
       "      <td>9.612903</td>\n",
       "    </tr>\n",
       "    <tr>\n",
       "      <th>84</th>\n",
       "      <td>Ульяновск</td>\n",
       "      <td>9.580645</td>\n",
       "    </tr>\n",
       "  </tbody>\n",
       "</table>\n",
       "</div>"
      ],
      "text/plain": [
       "               city  average_flights\n",
       "43           Москва       129.774194\n",
       "70  Санкт-Петербург        31.161290\n",
       "54      Новосибирск        17.322581\n",
       "33       Красноярск        11.580645\n",
       "20     Екатеринбург        11.322581\n",
       "67   Ростов-на-Дону        10.193548\n",
       "63            Пермь        10.129032\n",
       "10           Брянск        10.000000\n",
       "74             Сочи         9.612903\n",
       "84        Ульяновск         9.580645"
      ]
     },
     "execution_count": 10,
     "metadata": {},
     "output_type": "execute_result"
    }
   ],
   "source": [
    "df_city_filter = df_cities.sort_values(by = 'average_flights', ascending = False).head(10)\n",
    "df_city_filter"
   ]
  },
  {
   "cell_type": "markdown",
   "metadata": {},
   "source": [
    "Для удобства и наглядности построения графика упорядочим таблицу по количеству рейсов по убыванию."
   ]
  },
  {
   "cell_type": "code",
   "execution_count": 11,
   "metadata": {},
   "outputs": [
    {
     "data": {
      "text/html": [
       "<div>\n",
       "<style scoped>\n",
       "    .dataframe tbody tr th:only-of-type {\n",
       "        vertical-align: middle;\n",
       "    }\n",
       "\n",
       "    .dataframe tbody tr th {\n",
       "        vertical-align: top;\n",
       "    }\n",
       "\n",
       "    .dataframe thead th {\n",
       "        text-align: right;\n",
       "    }\n",
       "</style>\n",
       "<table border=\"1\" class=\"dataframe\">\n",
       "  <thead>\n",
       "    <tr style=\"text-align: right;\">\n",
       "      <th></th>\n",
       "      <th>model</th>\n",
       "      <th>flights_amount</th>\n",
       "    </tr>\n",
       "  </thead>\n",
       "  <tbody>\n",
       "    <tr>\n",
       "      <th>6</th>\n",
       "      <td>Cessna 208 Caravan</td>\n",
       "      <td>4557</td>\n",
       "    </tr>\n",
       "    <tr>\n",
       "      <th>5</th>\n",
       "      <td>Bombardier CRJ-200</td>\n",
       "      <td>4446</td>\n",
       "    </tr>\n",
       "    <tr>\n",
       "      <th>7</th>\n",
       "      <td>Sukhoi SuperJet-100</td>\n",
       "      <td>4185</td>\n",
       "    </tr>\n",
       "    <tr>\n",
       "      <th>1</th>\n",
       "      <td>Airbus A321-200</td>\n",
       "      <td>960</td>\n",
       "    </tr>\n",
       "    <tr>\n",
       "      <th>2</th>\n",
       "      <td>Boeing 737-300</td>\n",
       "      <td>630</td>\n",
       "    </tr>\n",
       "    <tr>\n",
       "      <th>0</th>\n",
       "      <td>Airbus A319-100</td>\n",
       "      <td>607</td>\n",
       "    </tr>\n",
       "    <tr>\n",
       "      <th>3</th>\n",
       "      <td>Boeing 767-300</td>\n",
       "      <td>600</td>\n",
       "    </tr>\n",
       "    <tr>\n",
       "      <th>4</th>\n",
       "      <td>Boeing 777-300</td>\n",
       "      <td>300</td>\n",
       "    </tr>\n",
       "  </tbody>\n",
       "</table>\n",
       "</div>"
      ],
      "text/plain": [
       "                 model  flights_amount\n",
       "6   Cessna 208 Caravan            4557\n",
       "5   Bombardier CRJ-200            4446\n",
       "7  Sukhoi SuperJet-100            4185\n",
       "1      Airbus A321-200             960\n",
       "2       Boeing 737-300             630\n",
       "0      Airbus A319-100             607\n",
       "3       Boeing 767-300             600\n",
       "4       Boeing 777-300             300"
      ]
     },
     "execution_count": 11,
     "metadata": {},
     "output_type": "execute_result"
    }
   ],
   "source": [
    "df_plane_sorted = df_planes.sort_values(by = 'flights_amount', ascending = False)\n",
    "df_plane_sorted"
   ]
  },
  {
   "cell_type": "markdown",
   "metadata": {},
   "source": [
    "Построим столбчатые диаграммы для всех трех таблиц. Начнем с первой."
   ]
  },
  {
   "cell_type": "code",
   "execution_count": 12,
   "metadata": {},
   "outputs": [
    {
     "data": {
      "image/png": "[encoded data removed]",
      "text/plain": [
       "<Figure size 1080x576 with 1 Axes>"
      ]
     },
     "metadata": {
      "needs_background": "light"
     },
     "output_type": "display_data"
    }
   ],
   "source": [
    "plt.figure(figsize=(15,8))\n",
    "ax = sns.barplot(x = df_plane_sorted['model'], y = df_plane_sorted['flights_amount'], palette = 'Blues_r')\n",
    "ax.set(xlabel = 'Модель самолета', ylabel = 'Число полетов')\n",
    "ax.set_xticklabels(ax.get_xticklabels(), rotation=40, ha=\"right\")\n",
    "plt.tight_layout()\n",
    "plt.show()"
   ]
  },
  {
   "cell_type": "code",
   "execution_count": 13,
   "metadata": {},
   "outputs": [
    {
     "name": "stdout",
     "output_type": "stream",
     "text": [
      "Доля топ-3 моделей в общем объеме перелетов: 81%\n"
     ]
    }
   ],
   "source": [
    "plane_percent = df_plane_sorted['flights_amount'].head(3).sum() / df_plane_sorted['flights_amount'].sum()\n",
    "print('Доля топ-3 моделей в общем объеме перелетов: {:.0%}'.format(plane_percent))"
   ]
  },
  {
   "cell_type": "markdown",
   "metadata": {},
   "source": [
    "На графике хорошо заметно, насколько отличаются значения для трех самых популярных и всех остальных моделей самолетов. Как уже отмечалось выше, каждая модель, попавшая в топ-3 совершила более 4000 рейсов за сентябрь 2018, в то время как 5 оставшихся — менее 1000. Более того, на топ-3 моделей приходится более 80% всех рейсов.\n",
    "\n",
    "Дополним имеющиеся данные данными из открытых источников. Выясним, связано ли такое такое распределение авиа-трафика с ценой и пассажировместимостью отдельных моделей."
   ]
  },
  {
   "cell_type": "code",
   "execution_count": 14,
   "metadata": {},
   "outputs": [
    {
     "data": {
      "text/html": [
       "<div>\n",
       "<style scoped>\n",
       "    .dataframe tbody tr th:only-of-type {\n",
       "        vertical-align: middle;\n",
       "    }\n",
       "\n",
       "    .dataframe tbody tr th {\n",
       "        vertical-align: top;\n",
       "    }\n",
       "\n",
       "    .dataframe thead th {\n",
       "        text-align: right;\n",
       "    }\n",
       "</style>\n",
       "<table border=\"1\" class=\"dataframe\">\n",
       "  <thead>\n",
       "    <tr style=\"text-align: right;\">\n",
       "      <th></th>\n",
       "      <th>model</th>\n",
       "      <th>flights</th>\n",
       "      <th>cost</th>\n",
       "      <th>seats</th>\n",
       "    </tr>\n",
       "  </thead>\n",
       "  <tbody>\n",
       "    <tr>\n",
       "      <th>6</th>\n",
       "      <td>Cessna 208 Caravan</td>\n",
       "      <td>4557</td>\n",
       "      <td>2.32</td>\n",
       "      <td>14</td>\n",
       "    </tr>\n",
       "    <tr>\n",
       "      <th>5</th>\n",
       "      <td>Bombardier CRJ-200</td>\n",
       "      <td>4446</td>\n",
       "      <td>31.60</td>\n",
       "      <td>50</td>\n",
       "    </tr>\n",
       "    <tr>\n",
       "      <th>7</th>\n",
       "      <td>Sukhoi SuperJet-100</td>\n",
       "      <td>4185</td>\n",
       "      <td>50.10</td>\n",
       "      <td>87</td>\n",
       "    </tr>\n",
       "    <tr>\n",
       "      <th>1</th>\n",
       "      <td>Airbus A321-200</td>\n",
       "      <td>960</td>\n",
       "      <td>114.90</td>\n",
       "      <td>177</td>\n",
       "    </tr>\n",
       "    <tr>\n",
       "      <th>2</th>\n",
       "      <td>Boeing 737-300</td>\n",
       "      <td>630</td>\n",
       "      <td>106.10</td>\n",
       "      <td>130</td>\n",
       "    </tr>\n",
       "    <tr>\n",
       "      <th>0</th>\n",
       "      <td>Airbus A319-100</td>\n",
       "      <td>607</td>\n",
       "      <td>89.60</td>\n",
       "      <td>133</td>\n",
       "    </tr>\n",
       "    <tr>\n",
       "      <th>3</th>\n",
       "      <td>Boeing 767-300</td>\n",
       "      <td>600</td>\n",
       "      <td>199.30</td>\n",
       "      <td>375</td>\n",
       "    </tr>\n",
       "    <tr>\n",
       "      <th>4</th>\n",
       "      <td>Boeing 777-300</td>\n",
       "      <td>300</td>\n",
       "      <td>320.00</td>\n",
       "      <td>264</td>\n",
       "    </tr>\n",
       "  </tbody>\n",
       "</table>\n",
       "</div>"
      ],
      "text/plain": [
       "                 model  flights    cost  seats\n",
       "6   Cessna 208 Caravan     4557    2.32     14\n",
       "5   Bombardier CRJ-200     4446   31.60     50\n",
       "7  Sukhoi SuperJet-100     4185   50.10     87\n",
       "1      Airbus A321-200      960  114.90    177\n",
       "2       Boeing 737-300      630  106.10    130\n",
       "0      Airbus A319-100      607   89.60    133\n",
       "3       Boeing 767-300      600  199.30    375\n",
       "4       Boeing 777-300      300  320.00    264"
      ]
     },
     "execution_count": 14,
     "metadata": {},
     "output_type": "execute_result"
    }
   ],
   "source": [
    "d = {'model':df_plane_sorted['model'],\n",
    "     'flights':df_plane_sorted['flights_amount'],\n",
    "     'cost':[2.32, 31.6, 50.1, 114.9, 106.1, 89.6, 199.3, 320],\n",
    "     'seats':[14, 50, 87, 177, 130, 133, 375, 264]}\n",
    "df_factors = pd.DataFrame(data=d)\n",
    "df_factors"
   ]
  },
  {
   "cell_type": "markdown",
   "metadata": {},
   "source": [
    "Построим матрицу корреляций для вновь полученной таблицу. Таким образом выясним, есть ли зависимость между количеством полетов и ценой самолета, а также между количеством полетов и количеством посадочных мест."
   ]
  },
  {
   "cell_type": "code",
   "execution_count": 15,
   "metadata": {},
   "outputs": [
    {
     "data": {
      "text/plain": [
       "<matplotlib.axes._subplots.AxesSubplot at 0x1ccbe790548>"
      ]
     },
     "execution_count": 15,
     "metadata": {},
     "output_type": "execute_result"
    },
    {
     "data": {
      "image/png": "[encoded data removed]",
      "text/plain": [
       "<Figure size 576x360 with 2 Axes>"
      ]
     },
     "metadata": {
      "needs_background": "light"
     },
     "output_type": "display_data"
    }
   ],
   "source": [
    "corrmat = df_factors.corr()\n",
    "f, ax = plt.subplots(figsize=(8, 5))\n",
    "sns.heatmap(corrmat, vmax=.8, square=True)"
   ]
  },
  {
   "cell_type": "code",
   "execution_count": 16,
   "metadata": {},
   "outputs": [
    {
     "data": {
      "text/html": [
       "<div>\n",
       "<style scoped>\n",
       "    .dataframe tbody tr th:only-of-type {\n",
       "        vertical-align: middle;\n",
       "    }\n",
       "\n",
       "    .dataframe tbody tr th {\n",
       "        vertical-align: top;\n",
       "    }\n",
       "\n",
       "    .dataframe thead th {\n",
       "        text-align: right;\n",
       "    }\n",
       "</style>\n",
       "<table border=\"1\" class=\"dataframe\">\n",
       "  <thead>\n",
       "    <tr style=\"text-align: right;\">\n",
       "      <th></th>\n",
       "      <th>flights</th>\n",
       "      <th>cost</th>\n",
       "      <th>seats</th>\n",
       "    </tr>\n",
       "  </thead>\n",
       "  <tbody>\n",
       "    <tr>\n",
       "      <th>flights</th>\n",
       "      <td>1.000000</td>\n",
       "      <td>-0.745601</td>\n",
       "      <td>-0.749944</td>\n",
       "    </tr>\n",
       "    <tr>\n",
       "      <th>cost</th>\n",
       "      <td>-0.745601</td>\n",
       "      <td>1.000000</td>\n",
       "      <td>0.834652</td>\n",
       "    </tr>\n",
       "    <tr>\n",
       "      <th>seats</th>\n",
       "      <td>-0.749944</td>\n",
       "      <td>0.834652</td>\n",
       "      <td>1.000000</td>\n",
       "    </tr>\n",
       "  </tbody>\n",
       "</table>\n",
       "</div>"
      ],
      "text/plain": [
       "          flights      cost     seats\n",
       "flights  1.000000 -0.745601 -0.749944\n",
       "cost    -0.745601  1.000000  0.834652\n",
       "seats   -0.749944  0.834652  1.000000"
      ]
     },
     "execution_count": 16,
     "metadata": {},
     "output_type": "execute_result"
    }
   ],
   "source": [
    "corrmat"
   ]
  },
  {
   "cell_type": "markdown",
   "metadata": {},
   "source": [
    "Очевидно, что большие самолеты всегда дороже, а количество посадочных мест — хорошая proxy-метрика для стоимости авиасудна. Связь между количеством совершенных рейсов и ценой самолета, а также между количеством совершенных рейсов и количеством посадочных мест носит обратный характер — чем дешевле самолет и чем меньше на нем посадочных мест, тем чаще он использовался. Это, скорее всего, связано с финансовыми ограничениями, наличествующими в российской авиации, а также тем, что авиационные пассажиропотоки по большинству направлений до сих пор остаются сравнительно небольшими. Отсюда и популярность самолетов с ограниченной вместимостью. Коэффициенты корреляции между количеством совершенных рейсов и ценой самолета и между количеством совершенных рейсов и количеством посадочных мест неслучайно так близки к друг другу. Это связано с тем, что и сами параметры тесно связаны между собой.\n",
    "\n",
    "Взглянем на распределение рейсов по городам. Создадим новую таблицу df_city_order, которая будет являться упорядоченной по убыванию (по столбцу average_flights) копией таблицы df_cities."
   ]
  },
  {
   "cell_type": "code",
   "execution_count": 17,
   "metadata": {},
   "outputs": [],
   "source": [
    "df_city_order = df_cities.sort_values(by = 'average_flights', ascending = False)"
   ]
  },
  {
   "cell_type": "code",
   "execution_count": 18,
   "metadata": {},
   "outputs": [
    {
     "data": {
      "image/png": "[encoded data removed]",
      "text/plain": [
       "<Figure size 1080x576 with 1 Axes>"
      ]
     },
     "metadata": {
      "needs_background": "light"
     },
     "output_type": "display_data"
    }
   ],
   "source": [
    "plt.figure(figsize=(15,8))\n",
    "ax = sns.barplot(x = df_city_order['city'], y = df_city_order['average_flights'], palette = 'Blues_r')\n",
    "ax.set(xlabel = 'Город', ylabel = 'Среднее количество полетов')\n",
    "ax.set_xticklabels(ax.get_xticklabels(), fontsize=7, rotation=40, ha=\"right\")\n",
    "plt.tight_layout()\n",
    "plt.show()"
   ]
  },
  {
   "cell_type": "code",
   "execution_count": 19,
   "metadata": {},
   "outputs": [
    {
     "name": "stdout",
     "output_type": "stream",
     "text": [
      "Доля Москвы в общем объеме перелетов: 23%\n",
      "Доля топ-3 городов в общем объеме перелетов: 32%\n"
     ]
    }
   ],
   "source": [
    "plane_percent_1 = df_city_order['average_flights'].head(1).sum() / df_city_order['average_flights'].sum()\n",
    "plane_percent_3 = df_city_order['average_flights'].head(3).sum() / df_city_order['average_flights'].sum()\n",
    "print('Доля Москвы в общем объеме перелетов: {:.0%}'.format(plane_percent_1))\n",
    "print('Доля топ-3 городов в общем объеме перелетов: {:.0%}'.format(plane_percent_3))"
   ]
  },
  {
   "cell_type": "code",
   "execution_count": 20,
   "metadata": {},
   "outputs": [
    {
     "data": {
      "text/html": [
       "<div>\n",
       "<style scoped>\n",
       "    .dataframe tbody tr th:only-of-type {\n",
       "        vertical-align: middle;\n",
       "    }\n",
       "\n",
       "    .dataframe tbody tr th {\n",
       "        vertical-align: top;\n",
       "    }\n",
       "\n",
       "    .dataframe thead th {\n",
       "        text-align: right;\n",
       "    }\n",
       "</style>\n",
       "<table border=\"1\" class=\"dataframe\">\n",
       "  <thead>\n",
       "    <tr style=\"text-align: right;\">\n",
       "      <th></th>\n",
       "      <th>city</th>\n",
       "      <th>average_flights</th>\n",
       "    </tr>\n",
       "  </thead>\n",
       "  <tbody>\n",
       "    <tr>\n",
       "      <th>76</th>\n",
       "      <td>Стрежевой</td>\n",
       "      <td>1.0</td>\n",
       "    </tr>\n",
       "    <tr>\n",
       "      <th>1</th>\n",
       "      <td>Анадырь</td>\n",
       "      <td>1.0</td>\n",
       "    </tr>\n",
       "    <tr>\n",
       "      <th>9</th>\n",
       "      <td>Братск</td>\n",
       "      <td>1.0</td>\n",
       "    </tr>\n",
       "    <tr>\n",
       "      <th>8</th>\n",
       "      <td>Благовещенск</td>\n",
       "      <td>1.0</td>\n",
       "    </tr>\n",
       "    <tr>\n",
       "      <th>21</th>\n",
       "      <td>Иваново</td>\n",
       "      <td>1.0</td>\n",
       "    </tr>\n",
       "    <tr>\n",
       "      <th>22</th>\n",
       "      <td>Ижевск</td>\n",
       "      <td>1.0</td>\n",
       "    </tr>\n",
       "    <tr>\n",
       "      <th>65</th>\n",
       "      <td>Петропавловск-Камчатский</td>\n",
       "      <td>1.0</td>\n",
       "    </tr>\n",
       "    <tr>\n",
       "      <th>31</th>\n",
       "      <td>Комсомольск-на-Амуре</td>\n",
       "      <td>1.0</td>\n",
       "    </tr>\n",
       "    <tr>\n",
       "      <th>58</th>\n",
       "      <td>Нягань</td>\n",
       "      <td>1.0</td>\n",
       "    </tr>\n",
       "    <tr>\n",
       "      <th>49</th>\n",
       "      <td>Нефтеюганск</td>\n",
       "      <td>1.0</td>\n",
       "    </tr>\n",
       "  </tbody>\n",
       "</table>\n",
       "</div>"
      ],
      "text/plain": [
       "                        city  average_flights\n",
       "76                 Стрежевой              1.0\n",
       "1                    Анадырь              1.0\n",
       "9                     Братск              1.0\n",
       "8               Благовещенск              1.0\n",
       "21                   Иваново              1.0\n",
       "22                    Ижевск              1.0\n",
       "65  Петропавловск-Камчатский              1.0\n",
       "31      Комсомольск-на-Амуре              1.0\n",
       "58                    Нягань              1.0\n",
       "49               Нефтеюганск              1.0"
      ]
     },
     "execution_count": 20,
     "metadata": {},
     "output_type": "execute_result"
    }
   ],
   "source": [
    "df_city_order.tail(10)"
   ]
  },
  {
   "cell_type": "markdown",
   "metadata": {},
   "source": [
    "На графике хорошо заметна разница между 1) Москвой и остальной Россией, 2) топ-3 городами (Москва, Санкт-Петербург и Новосибирск) и остальной Россией. Так, на долю Москвы пришлось 23% всех ежедневных перелетов, а на долю топ-3 городов — 32%. Чем дальше к концу списка, тем менее выраженной становится разница. 10 городов с минимальным количеством средних ежедневных перелетов все имеют это значение равное 1."
   ]
  },
  {
   "cell_type": "code",
   "execution_count": 21,
   "metadata": {},
   "outputs": [
    {
     "data": {
      "image/png": "[encoded data removed]",
      "text/plain": [
       "<Figure size 1080x576 with 1 Axes>"
      ]
     },
     "metadata": {
      "needs_background": "light"
     },
     "output_type": "display_data"
    }
   ],
   "source": [
    "plt.figure(figsize=(15,8))\n",
    "ax = sns.barplot(x = df_city_filter['city'], y = df_city_filter['average_flights'], palette = 'Blues_r')\n",
    "ax.set(xlabel = 'Город', ylabel = 'Среднее количество полетов')\n",
    "plt.show()"
   ]
  },
  {
   "cell_type": "code",
   "execution_count": 22,
   "metadata": {},
   "outputs": [
    {
     "name": "stdout",
     "output_type": "stream",
     "text": [
      "Доля Москвы в общем объеме перелетов: 52%\n"
     ]
    }
   ],
   "source": [
    "plane_percent_10 = df_city_order['average_flights'].head(1).sum() / df_city_order['average_flights'].head(10).sum()\n",
    "print('Доля Москвы в общем объеме перелетов: {:.0%}'.format(plane_percent_10))"
   ]
  },
  {
   "cell_type": "markdown",
   "metadata": {},
   "source": [
    "По этому графику можно сделать те же выводу, что и по предыдущему: Москва лидирует с большим отрывом. Петербург и Новосибирск, хоть и занимают вторую и третью строчку соответственно, по количеству прибывающих рейсов все равно куда ближе к провинциальным городам, чем к столице. В топ-10 на долю Москвы приходится более половины всех прибывающих рейсов."
   ]
  },
  {
   "cell_type": "markdown",
   "metadata": {},
   "source": [
    "### Вывод по шагу 4\n",
    "\n",
    "На данном этапе мы импортировали три таблицы, полученные ранее с помощью SQL-запросов через тренажер. Тип данных в них указан корректно. Пропуски, имеющиеся только в одной таблице, были оставлены без изменений по причине их содержательности: пропусками отмечались недели, в которые не проводилось ни одного фестиваля.\n",
    "\n",
    "Визуально и арифметически оценили доли всех рейсов, которые приходятся на 1) Москву, 2) топ-3 (по количеству рейсов) городов России. На долю Москвы пришлось 23% всех ежедневных перелетов, на долю топ-3 городов — 32%, что говорит о ярко выраженной склонности к централизации в индустрии авиаперевозок в России.\n",
    "\n",
    "Выяснили, какие модели самолетов являются в России наиболее и наименее популярными, а также — с помощью данных из открытых источников — установили наличие ярко выраженной связи между количеством выполненных рейсов и стоимостью / количеством посадочных мест для каждой конкретной модели. "
   ]
  },
  {
   "cell_type": "markdown",
   "metadata": {},
   "source": [
    "## Шаг 5. Проверка гипотезы средствами Python"
   ]
  },
  {
   "cell_type": "code",
   "execution_count": 23,
   "metadata": {},
   "outputs": [
    {
     "data": {
      "text/html": [
       "<div>\n",
       "<style scoped>\n",
       "    .dataframe tbody tr th:only-of-type {\n",
       "        vertical-align: middle;\n",
       "    }\n",
       "\n",
       "    .dataframe tbody tr th {\n",
       "        vertical-align: top;\n",
       "    }\n",
       "\n",
       "    .dataframe thead th {\n",
       "        text-align: right;\n",
       "    }\n",
       "</style>\n",
       "<table border=\"1\" class=\"dataframe\">\n",
       "  <thead>\n",
       "    <tr style=\"text-align: right;\">\n",
       "      <th></th>\n",
       "      <th>week_number</th>\n",
       "      <th>ticket_amount</th>\n",
       "      <th>festival_week</th>\n",
       "      <th>festival_name</th>\n",
       "    </tr>\n",
       "  </thead>\n",
       "  <tbody>\n",
       "    <tr>\n",
       "      <th>0</th>\n",
       "      <td>30</td>\n",
       "      <td>43568</td>\n",
       "      <td>30.0</td>\n",
       "      <td>Park Live</td>\n",
       "    </tr>\n",
       "    <tr>\n",
       "      <th>1</th>\n",
       "      <td>31</td>\n",
       "      <td>51034</td>\n",
       "      <td>31.0</td>\n",
       "      <td>Пикник Афиши</td>\n",
       "    </tr>\n",
       "    <tr>\n",
       "      <th>2</th>\n",
       "      <td>32</td>\n",
       "      <td>51675</td>\n",
       "      <td>NaN</td>\n",
       "      <td>NaN</td>\n",
       "    </tr>\n",
       "    <tr>\n",
       "      <th>3</th>\n",
       "      <td>33</td>\n",
       "      <td>51378</td>\n",
       "      <td>NaN</td>\n",
       "      <td>NaN</td>\n",
       "    </tr>\n",
       "    <tr>\n",
       "      <th>4</th>\n",
       "      <td>34</td>\n",
       "      <td>51492</td>\n",
       "      <td>NaN</td>\n",
       "      <td>NaN</td>\n",
       "    </tr>\n",
       "    <tr>\n",
       "      <th>5</th>\n",
       "      <td>35</td>\n",
       "      <td>51360</td>\n",
       "      <td>NaN</td>\n",
       "      <td>NaN</td>\n",
       "    </tr>\n",
       "    <tr>\n",
       "      <th>6</th>\n",
       "      <td>36</td>\n",
       "      <td>51386</td>\n",
       "      <td>36.0</td>\n",
       "      <td>Видфест</td>\n",
       "    </tr>\n",
       "    <tr>\n",
       "      <th>7</th>\n",
       "      <td>37</td>\n",
       "      <td>51670</td>\n",
       "      <td>NaN</td>\n",
       "      <td>NaN</td>\n",
       "    </tr>\n",
       "    <tr>\n",
       "      <th>8</th>\n",
       "      <td>38</td>\n",
       "      <td>51518</td>\n",
       "      <td>NaN</td>\n",
       "      <td>NaN</td>\n",
       "    </tr>\n",
       "    <tr>\n",
       "      <th>9</th>\n",
       "      <td>39</td>\n",
       "      <td>51623</td>\n",
       "      <td>NaN</td>\n",
       "      <td>NaN</td>\n",
       "    </tr>\n",
       "  </tbody>\n",
       "</table>\n",
       "</div>"
      ],
      "text/plain": [
       "   week_number  ticket_amount  festival_week festival_name\n",
       "0           30          43568           30.0     Park Live\n",
       "1           31          51034           31.0  Пикник Афиши\n",
       "2           32          51675            NaN           NaN\n",
       "3           33          51378            NaN           NaN\n",
       "4           34          51492            NaN           NaN\n",
       "5           35          51360            NaN           NaN\n",
       "6           36          51386           36.0       Видфест\n",
       "7           37          51670            NaN           NaN\n",
       "8           38          51518            NaN           NaN\n",
       "9           39          51623            NaN           NaN"
      ]
     },
     "execution_count": 23,
     "metadata": {},
     "output_type": "execute_result"
    }
   ],
   "source": [
    "df_fest = pd.read_csv('query_last.csv')\n",
    "df_fest"
   ]
  },
  {
   "cell_type": "markdown",
   "metadata": {},
   "source": [
    "В таблице всего 10 значений. Имеющиеся пропуски допущены сознательно на этапе выгрузки данных из базы. Пропущенные значения в столбцах festival_week и festival_name говорят о том, что в эту неделю фестиваль не проводился.\n",
    "\n",
    "Создадим дополнительной столбец fest, который будет отвечать за наличие / отсутствие фестиваля на каждой из рассматриваемых в таблице недель. Те недели, когда фестиваль проходил, отметим значением 1. Те, когда нет, — значением 0."
   ]
  },
  {
   "cell_type": "code",
   "execution_count": 24,
   "metadata": {},
   "outputs": [
    {
     "data": {
      "text/html": [
       "<div>\n",
       "<style scoped>\n",
       "    .dataframe tbody tr th:only-of-type {\n",
       "        vertical-align: middle;\n",
       "    }\n",
       "\n",
       "    .dataframe tbody tr th {\n",
       "        vertical-align: top;\n",
       "    }\n",
       "\n",
       "    .dataframe thead th {\n",
       "        text-align: right;\n",
       "    }\n",
       "</style>\n",
       "<table border=\"1\" class=\"dataframe\">\n",
       "  <thead>\n",
       "    <tr style=\"text-align: right;\">\n",
       "      <th></th>\n",
       "      <th>week_number</th>\n",
       "      <th>ticket_amount</th>\n",
       "      <th>festival_week</th>\n",
       "      <th>festival_name</th>\n",
       "      <th>fest</th>\n",
       "    </tr>\n",
       "  </thead>\n",
       "  <tbody>\n",
       "    <tr>\n",
       "      <th>0</th>\n",
       "      <td>30</td>\n",
       "      <td>43568</td>\n",
       "      <td>30.0</td>\n",
       "      <td>Park Live</td>\n",
       "      <td>1</td>\n",
       "    </tr>\n",
       "    <tr>\n",
       "      <th>1</th>\n",
       "      <td>31</td>\n",
       "      <td>51034</td>\n",
       "      <td>31.0</td>\n",
       "      <td>Пикник Афиши</td>\n",
       "      <td>1</td>\n",
       "    </tr>\n",
       "    <tr>\n",
       "      <th>2</th>\n",
       "      <td>32</td>\n",
       "      <td>51675</td>\n",
       "      <td>NaN</td>\n",
       "      <td>NaN</td>\n",
       "      <td>0</td>\n",
       "    </tr>\n",
       "    <tr>\n",
       "      <th>3</th>\n",
       "      <td>33</td>\n",
       "      <td>51378</td>\n",
       "      <td>NaN</td>\n",
       "      <td>NaN</td>\n",
       "      <td>0</td>\n",
       "    </tr>\n",
       "    <tr>\n",
       "      <th>4</th>\n",
       "      <td>34</td>\n",
       "      <td>51492</td>\n",
       "      <td>NaN</td>\n",
       "      <td>NaN</td>\n",
       "      <td>0</td>\n",
       "    </tr>\n",
       "    <tr>\n",
       "      <th>5</th>\n",
       "      <td>35</td>\n",
       "      <td>51360</td>\n",
       "      <td>NaN</td>\n",
       "      <td>NaN</td>\n",
       "      <td>0</td>\n",
       "    </tr>\n",
       "    <tr>\n",
       "      <th>6</th>\n",
       "      <td>36</td>\n",
       "      <td>51386</td>\n",
       "      <td>36.0</td>\n",
       "      <td>Видфест</td>\n",
       "      <td>1</td>\n",
       "    </tr>\n",
       "    <tr>\n",
       "      <th>7</th>\n",
       "      <td>37</td>\n",
       "      <td>51670</td>\n",
       "      <td>NaN</td>\n",
       "      <td>NaN</td>\n",
       "      <td>0</td>\n",
       "    </tr>\n",
       "    <tr>\n",
       "      <th>8</th>\n",
       "      <td>38</td>\n",
       "      <td>51518</td>\n",
       "      <td>NaN</td>\n",
       "      <td>NaN</td>\n",
       "      <td>0</td>\n",
       "    </tr>\n",
       "    <tr>\n",
       "      <th>9</th>\n",
       "      <td>39</td>\n",
       "      <td>51623</td>\n",
       "      <td>NaN</td>\n",
       "      <td>NaN</td>\n",
       "      <td>0</td>\n",
       "    </tr>\n",
       "  </tbody>\n",
       "</table>\n",
       "</div>"
      ],
      "text/plain": [
       "   week_number  ticket_amount  festival_week festival_name  fest\n",
       "0           30          43568           30.0     Park Live     1\n",
       "1           31          51034           31.0  Пикник Афиши     1\n",
       "2           32          51675            NaN           NaN     0\n",
       "3           33          51378            NaN           NaN     0\n",
       "4           34          51492            NaN           NaN     0\n",
       "5           35          51360            NaN           NaN     0\n",
       "6           36          51386           36.0       Видфест     1\n",
       "7           37          51670            NaN           NaN     0\n",
       "8           38          51518            NaN           NaN     0\n",
       "9           39          51623            NaN           NaN     0"
      ]
     },
     "execution_count": 24,
     "metadata": {},
     "output_type": "execute_result"
    }
   ],
   "source": [
    "df_fest['fest'] = df_fest['festival_week']\n",
    "df_fest['fest'] = df_fest['fest'].fillna('0').astype('int')\n",
    "df_fest['fest'] = (df_fest['fest'] > 1).astype('int')\n",
    "df_fest"
   ]
  },
  {
   "cell_type": "markdown",
   "metadata": {},
   "source": [
    "Сформулируем основную и альтернативную гипотезы. Проверим их с помощью метода ttest_ind из модуля stats библиотеки scipy. Пороговое значение задаем на уровне 0,05.\n",
    "\n",
    "- H0: средний спрос на билеты во время фестивалей *не* отличается от среднего спроса на билеты в обычное время.\n",
    "- H1: средний спрос на билеты во время фестивалей отличается от среднего спроса на билеты в обычное время."
   ]
  },
  {
   "cell_type": "code",
   "execution_count": 25,
   "metadata": {},
   "outputs": [],
   "source": [
    "a = df_fest.loc[df_fest['fest'] == 1, 'ticket_amount']\n",
    "b = df_fest.loc[df_fest['fest'] == 0, 'ticket_amount']\n",
    "result = st.ttest_ind(a, b)"
   ]
  },
  {
   "cell_type": "code",
   "execution_count": 26,
   "metadata": {},
   "outputs": [
    {
     "name": "stdout",
     "output_type": "stream",
     "text": [
      "Не удалось отвергнуть нулевую гипотезу.\n",
      "P-value равно 0.0969.\n"
     ]
    }
   ],
   "source": [
    "if result.pvalue < 0.05:\n",
    "    print('Отвергаем нулевую гипотезу.')\n",
    "    print('P-value равно {:.4f}.'.format(result.pvalue))\n",
    "else:\n",
    "    print('Не удалось отвергнуть нулевую гипотезу.')\n",
    "    print('P-value равно {:.4f}.'.format(result.pvalue))"
   ]
  },
  {
   "cell_type": "markdown",
   "metadata": {},
   "source": [
    "По результатам проведенного теста у нас нет достаточных оснований для того, что отвергнуть нулевую гипотезу. Можно сделать вывод о том, что наличие фестивалей никак не влияет на спрос на авиабилеты.\n",
    "\n",
    "### Вывод по шагу 5\n",
    "\n",
    "На данном этапе мы проверили гипотезу о влиянии проведения фестивалей на спрос на авиабилеты. По результатам проверки можно утверждать, что проведение фестивалей никак не сказывается на спросе.\n",
    "\n",
    "## Общий вывод\n",
    "\n",
    "В рамках исследования мы воспользовались данными, полученными ранее с помощью SQL-запросов, проверили их на наличие пропусков и адекватность выбранных типов данных.\n",
    "\n",
    "Выяснили, что на долю Москвы пришлось 23% всех рейсов, на долю Москвы, Санкт-Петербурга и Новосибирска — 32%. Наиболее популярными моделями самолетов, во всяком случае в рамках выбранной авиакомпании, являются Cessna 208 Caravan, Bombardier CRJ-200 и Sukhoi SuperJet-100. С помощью дополнительных данных из открытых источников удалось установить, что это связано с их низкой стоимостью и относительно небольшим количеством посадочных мест.\n",
    "\n",
    "На завершающем этапе исследования проверили следующую гипотезу: «Средний спрос на билеты во время фестивалей не отличается от среднего спроса на билеты в обычное время». Выяснили, что проведение фестивалей никак не влияет на спрос на авиабилеты."
   ]
  }
 ],
 "metadata": {
  "kernelspec": {
   "display_name": "Python 3",
   "language": "python",
   "name": "python3"
  },
  "language_info": {
   "codemirror_mode": {
    "name": "ipython",
    "version": 3
   },
   "file_extension": ".py",
   "mimetype": "text/x-python",
   "name": "python",
   "nbconvert_exporter": "python",
   "pygments_lexer": "ipython3",
   "version": "3.7.6"
  }
 },
 "nbformat": 4,
 "nbformat_minor": 2
}
